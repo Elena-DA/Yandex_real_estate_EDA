{
 "cells": [
  {
   "cell_type": "markdown",
   "id": "f26d9887",
   "metadata": {},
   "source": [
    "# Исследование объявлений о продаже квартир"
   ]
  },
  {
   "cell_type": "markdown",
   "id": "ad80512c",
   "metadata": {},
   "source": [
    "**Описание проекта**\n",
    "\n",
    "В вашем распоряжении данные сервиса Яндекс Недвижимость — архив объявлений о продаже квартир в Санкт-Петербурге и соседних населённых пунктах за несколько лет. Вам нужно научиться определять рыночную стоимость объектов недвижимости. Для этого проведите исследовательский анализ данных и установите параметры, влияющие на цену объектов. Это позволит построить автоматизированную систему: она отследит аномалии и мошенническую деятельность. \n",
    "\n",
    "По каждой квартире на продажу доступны два вида данных. Первые вписаны пользователем, вторые — получены автоматически на основе картографических данных. Например, расстояние до центра, аэропорта и других объектов — эти данные автоматически получены из геосервисов. Количество парков и водоёмов также заполняется без участия пользователя.\n",
    "\n",
    "**Цель исследования**\n",
    "- научиться определять рыночную стоимость объектов недвижимости\n",
    "- установить параметры для построения автоматизированной системы, которая отследит аномалии и мошенническую деятельность.\n",
    "- выявить факторы, влияющие на ценообразование объектов недвижимости.\n",
    "\n",
    "***Ход исследования***\n",
    "\n",
    "Данные для исследования получим из файла `/datasets/real_estate_data.csv`, документация имеется, однако обязательно нужно проверить данные на предмет аномальных значений и пропусков, которые могут повлиять на результаты исследования.\n",
    "Проведем предварительную обработку и исследовательский анализ данных и поправим все ошибки, которые могут привести к искажению конечного результата.\n",
    "\n",
    "Разделим все наше исследование на следующие этапы:\n",
    "\n",
    "- изучение предоставленной выгрузки данных\n",
    "- предобработка данных\n",
    "- добавление в таблицу столбцов, необходимых для расчётов\n",
    "- проведение исследования данных для Ленинградской области\n",
    "- проведение исследования данных для Санкт-Петербурга\n",
    "- выявление факторов, влияющих на ценообразование объектов недвижимости\n",
    "- написание общего вывода"
   ]
  },
  {
   "cell_type": "markdown",
   "id": "e8800947",
   "metadata": {},
   "source": [
    "## Откройте файл с данными и изучите общую информацию"
   ]
  },
  {
   "cell_type": "code",
   "execution_count": 1,
   "id": "d2139107",
   "metadata": {},
   "outputs": [],
   "source": [
    "# импортируем нужные нам библиотеки для анализа данных\n",
    "import pandas as pd\n",
    "import matplotlib.pyplot as plt\n",
    "import numpy as np"
   ]
  },
  {
   "cell_type": "code",
   "execution_count": 2,
   "id": "f38764eb",
   "metadata": {},
   "outputs": [],
   "source": [
    "# читаем файл, в качестве разделителя пишем '\\t', чтобы данные не образовали единую строчку\n",
    "try:\n",
    "    data = pd.read_csv('/datasets/real_estate_data.csv', sep = '\\t')\n",
    "except:\n",
    "    data = pd.read_csv('C:/Users/etols/Downloads/real_estate_data.csv', sep = '\\t')"
   ]
  },
  {
   "cell_type": "markdown",
   "id": "0aba8bc5",
   "metadata": {},
   "source": [
    "**Описание данных в столбцах:**\n",
    "- `airports_nearest` — расстояние до ближайшего аэропорта в метрах (м)\n",
    "- `balcony` — число балконов\n",
    "- `ceiling_height` — высота потолков (м)\n",
    "- `cityCenters_nearest` — расстояние до центра города (м)\n",
    "- `days_exposition` — сколько дней было размещено объявление (от публикации до снятия)\n",
    "- `first_day_exposition` — дата публикации\n",
    "- `floor` — этаж\n",
    "- `floors_total` — всего этажей в доме\n",
    "- `is_apartment` — апартаменты (булев тип)\n",
    "- `kitchen_area` — площадь кухни в квадратных метрах (м²)\n",
    "- `last_price` — цена на момент снятия с публикации\n",
    "- `living_area` — жилая площадь в квадратных метрах (м²)\n",
    "- `locality_name` — название населённого пункта\n",
    "- `open_plan` — свободная планировка (булев тип)\n",
    "- `parks_around3000` — число парков в радиусе 3 км\n",
    "- `parks_nearest` — расстояние до ближайшего парка (м)\n",
    "- `ponds_around3000` — число водоёмов в радиусе 3 км\n",
    "- `ponds_nearest` — расстояние до ближайшего водоёма (м)\n",
    "- `rooms` — число комнат\n",
    "- `studio` — квартира-студия (булев тип)\n",
    "- `total_area` — общая площадь квартиры в квадратных метрах (м²)\n",
    "- `total_images` — число фотографий квартиры в объявлении"
   ]
  },
  {
   "cell_type": "code",
   "execution_count": 3,
   "id": "faac383a",
   "metadata": {},
   "outputs": [
    {
     "name": "stdout",
     "output_type": "stream",
     "text": [
      "<class 'pandas.core.frame.DataFrame'>\n",
      "RangeIndex: 23699 entries, 0 to 23698\n",
      "Data columns (total 22 columns):\n",
      " #   Column                Non-Null Count  Dtype  \n",
      "---  ------                --------------  -----  \n",
      " 0   total_images          23699 non-null  int64  \n",
      " 1   last_price            23699 non-null  float64\n",
      " 2   total_area            23699 non-null  float64\n",
      " 3   first_day_exposition  23699 non-null  object \n",
      " 4   rooms                 23699 non-null  int64  \n",
      " 5   ceiling_height        14504 non-null  float64\n",
      " 6   floors_total          23613 non-null  float64\n",
      " 7   living_area           21796 non-null  float64\n",
      " 8   floor                 23699 non-null  int64  \n",
      " 9   is_apartment          2775 non-null   object \n",
      " 10  studio                23699 non-null  bool   \n",
      " 11  open_plan             23699 non-null  bool   \n",
      " 12  kitchen_area          21421 non-null  float64\n",
      " 13  balcony               12180 non-null  float64\n",
      " 14  locality_name         23650 non-null  object \n",
      " 15  airports_nearest      18157 non-null  float64\n",
      " 16  cityCenters_nearest   18180 non-null  float64\n",
      " 17  parks_around3000      18181 non-null  float64\n",
      " 18  parks_nearest         8079 non-null   float64\n",
      " 19  ponds_around3000      18181 non-null  float64\n",
      " 20  ponds_nearest         9110 non-null   float64\n",
      " 21  days_exposition       20518 non-null  float64\n",
      "dtypes: bool(2), float64(14), int64(3), object(3)\n",
      "memory usage: 3.7+ MB\n"
     ]
    }
   ],
   "source": [
    "# с помощью метода info изучим общую информацию о датафрейме\n",
    "data.info()"
   ]
  },
  {
   "cell_type": "code",
   "execution_count": 4,
   "id": "2a72a182",
   "metadata": {
    "scrolled": true
   },
   "outputs": [
    {
     "data": {
      "text/html": [
       "<div>\n",
       "<style scoped>\n",
       "    .dataframe tbody tr th:only-of-type {\n",
       "        vertical-align: middle;\n",
       "    }\n",
       "\n",
       "    .dataframe tbody tr th {\n",
       "        vertical-align: top;\n",
       "    }\n",
       "\n",
       "    .dataframe thead th {\n",
       "        text-align: right;\n",
       "    }\n",
       "</style>\n",
       "<table border=\"1\" class=\"dataframe\">\n",
       "  <thead>\n",
       "    <tr style=\"text-align: right;\">\n",
       "      <th></th>\n",
       "      <th>total_images</th>\n",
       "      <th>last_price</th>\n",
       "      <th>total_area</th>\n",
       "      <th>first_day_exposition</th>\n",
       "      <th>rooms</th>\n",
       "      <th>ceiling_height</th>\n",
       "      <th>floors_total</th>\n",
       "      <th>living_area</th>\n",
       "      <th>floor</th>\n",
       "      <th>is_apartment</th>\n",
       "      <th>...</th>\n",
       "      <th>kitchen_area</th>\n",
       "      <th>balcony</th>\n",
       "      <th>locality_name</th>\n",
       "      <th>airports_nearest</th>\n",
       "      <th>cityCenters_nearest</th>\n",
       "      <th>parks_around3000</th>\n",
       "      <th>parks_nearest</th>\n",
       "      <th>ponds_around3000</th>\n",
       "      <th>ponds_nearest</th>\n",
       "      <th>days_exposition</th>\n",
       "    </tr>\n",
       "  </thead>\n",
       "  <tbody>\n",
       "    <tr>\n",
       "      <th>0</th>\n",
       "      <td>20</td>\n",
       "      <td>13000000.0</td>\n",
       "      <td>108.00</td>\n",
       "      <td>2019-03-07T00:00:00</td>\n",
       "      <td>3</td>\n",
       "      <td>2.70</td>\n",
       "      <td>16.0</td>\n",
       "      <td>51.00</td>\n",
       "      <td>8</td>\n",
       "      <td>NaN</td>\n",
       "      <td>...</td>\n",
       "      <td>25.00</td>\n",
       "      <td>NaN</td>\n",
       "      <td>Санкт-Петербург</td>\n",
       "      <td>18863.0</td>\n",
       "      <td>16028.0</td>\n",
       "      <td>1.0</td>\n",
       "      <td>482.0</td>\n",
       "      <td>2.0</td>\n",
       "      <td>755.0</td>\n",
       "      <td>NaN</td>\n",
       "    </tr>\n",
       "    <tr>\n",
       "      <th>1</th>\n",
       "      <td>7</td>\n",
       "      <td>3350000.0</td>\n",
       "      <td>40.40</td>\n",
       "      <td>2018-12-04T00:00:00</td>\n",
       "      <td>1</td>\n",
       "      <td>NaN</td>\n",
       "      <td>11.0</td>\n",
       "      <td>18.60</td>\n",
       "      <td>1</td>\n",
       "      <td>NaN</td>\n",
       "      <td>...</td>\n",
       "      <td>11.00</td>\n",
       "      <td>2.0</td>\n",
       "      <td>посёлок Шушары</td>\n",
       "      <td>12817.0</td>\n",
       "      <td>18603.0</td>\n",
       "      <td>0.0</td>\n",
       "      <td>NaN</td>\n",
       "      <td>0.0</td>\n",
       "      <td>NaN</td>\n",
       "      <td>81.0</td>\n",
       "    </tr>\n",
       "    <tr>\n",
       "      <th>2</th>\n",
       "      <td>10</td>\n",
       "      <td>5196000.0</td>\n",
       "      <td>56.00</td>\n",
       "      <td>2015-08-20T00:00:00</td>\n",
       "      <td>2</td>\n",
       "      <td>NaN</td>\n",
       "      <td>5.0</td>\n",
       "      <td>34.30</td>\n",
       "      <td>4</td>\n",
       "      <td>NaN</td>\n",
       "      <td>...</td>\n",
       "      <td>8.30</td>\n",
       "      <td>0.0</td>\n",
       "      <td>Санкт-Петербург</td>\n",
       "      <td>21741.0</td>\n",
       "      <td>13933.0</td>\n",
       "      <td>1.0</td>\n",
       "      <td>90.0</td>\n",
       "      <td>2.0</td>\n",
       "      <td>574.0</td>\n",
       "      <td>558.0</td>\n",
       "    </tr>\n",
       "    <tr>\n",
       "      <th>3</th>\n",
       "      <td>0</td>\n",
       "      <td>64900000.0</td>\n",
       "      <td>159.00</td>\n",
       "      <td>2015-07-24T00:00:00</td>\n",
       "      <td>3</td>\n",
       "      <td>NaN</td>\n",
       "      <td>14.0</td>\n",
       "      <td>NaN</td>\n",
       "      <td>9</td>\n",
       "      <td>NaN</td>\n",
       "      <td>...</td>\n",
       "      <td>NaN</td>\n",
       "      <td>0.0</td>\n",
       "      <td>Санкт-Петербург</td>\n",
       "      <td>28098.0</td>\n",
       "      <td>6800.0</td>\n",
       "      <td>2.0</td>\n",
       "      <td>84.0</td>\n",
       "      <td>3.0</td>\n",
       "      <td>234.0</td>\n",
       "      <td>424.0</td>\n",
       "    </tr>\n",
       "    <tr>\n",
       "      <th>4</th>\n",
       "      <td>2</td>\n",
       "      <td>10000000.0</td>\n",
       "      <td>100.00</td>\n",
       "      <td>2018-06-19T00:00:00</td>\n",
       "      <td>2</td>\n",
       "      <td>3.03</td>\n",
       "      <td>14.0</td>\n",
       "      <td>32.00</td>\n",
       "      <td>13</td>\n",
       "      <td>NaN</td>\n",
       "      <td>...</td>\n",
       "      <td>41.00</td>\n",
       "      <td>NaN</td>\n",
       "      <td>Санкт-Петербург</td>\n",
       "      <td>31856.0</td>\n",
       "      <td>8098.0</td>\n",
       "      <td>2.0</td>\n",
       "      <td>112.0</td>\n",
       "      <td>1.0</td>\n",
       "      <td>48.0</td>\n",
       "      <td>121.0</td>\n",
       "    </tr>\n",
       "    <tr>\n",
       "      <th>5</th>\n",
       "      <td>10</td>\n",
       "      <td>2890000.0</td>\n",
       "      <td>30.40</td>\n",
       "      <td>2018-09-10T00:00:00</td>\n",
       "      <td>1</td>\n",
       "      <td>NaN</td>\n",
       "      <td>12.0</td>\n",
       "      <td>14.40</td>\n",
       "      <td>5</td>\n",
       "      <td>NaN</td>\n",
       "      <td>...</td>\n",
       "      <td>9.10</td>\n",
       "      <td>NaN</td>\n",
       "      <td>городской посёлок Янино-1</td>\n",
       "      <td>NaN</td>\n",
       "      <td>NaN</td>\n",
       "      <td>NaN</td>\n",
       "      <td>NaN</td>\n",
       "      <td>NaN</td>\n",
       "      <td>NaN</td>\n",
       "      <td>55.0</td>\n",
       "    </tr>\n",
       "    <tr>\n",
       "      <th>6</th>\n",
       "      <td>6</td>\n",
       "      <td>3700000.0</td>\n",
       "      <td>37.30</td>\n",
       "      <td>2017-11-02T00:00:00</td>\n",
       "      <td>1</td>\n",
       "      <td>NaN</td>\n",
       "      <td>26.0</td>\n",
       "      <td>10.60</td>\n",
       "      <td>6</td>\n",
       "      <td>NaN</td>\n",
       "      <td>...</td>\n",
       "      <td>14.40</td>\n",
       "      <td>1.0</td>\n",
       "      <td>посёлок Парголово</td>\n",
       "      <td>52996.0</td>\n",
       "      <td>19143.0</td>\n",
       "      <td>0.0</td>\n",
       "      <td>NaN</td>\n",
       "      <td>0.0</td>\n",
       "      <td>NaN</td>\n",
       "      <td>155.0</td>\n",
       "    </tr>\n",
       "    <tr>\n",
       "      <th>7</th>\n",
       "      <td>5</td>\n",
       "      <td>7915000.0</td>\n",
       "      <td>71.60</td>\n",
       "      <td>2019-04-18T00:00:00</td>\n",
       "      <td>2</td>\n",
       "      <td>NaN</td>\n",
       "      <td>24.0</td>\n",
       "      <td>NaN</td>\n",
       "      <td>22</td>\n",
       "      <td>NaN</td>\n",
       "      <td>...</td>\n",
       "      <td>18.90</td>\n",
       "      <td>2.0</td>\n",
       "      <td>Санкт-Петербург</td>\n",
       "      <td>23982.0</td>\n",
       "      <td>11634.0</td>\n",
       "      <td>0.0</td>\n",
       "      <td>NaN</td>\n",
       "      <td>0.0</td>\n",
       "      <td>NaN</td>\n",
       "      <td>NaN</td>\n",
       "    </tr>\n",
       "    <tr>\n",
       "      <th>8</th>\n",
       "      <td>20</td>\n",
       "      <td>2900000.0</td>\n",
       "      <td>33.16</td>\n",
       "      <td>2018-05-23T00:00:00</td>\n",
       "      <td>1</td>\n",
       "      <td>NaN</td>\n",
       "      <td>27.0</td>\n",
       "      <td>15.43</td>\n",
       "      <td>26</td>\n",
       "      <td>NaN</td>\n",
       "      <td>...</td>\n",
       "      <td>8.81</td>\n",
       "      <td>NaN</td>\n",
       "      <td>посёлок Мурино</td>\n",
       "      <td>NaN</td>\n",
       "      <td>NaN</td>\n",
       "      <td>NaN</td>\n",
       "      <td>NaN</td>\n",
       "      <td>NaN</td>\n",
       "      <td>NaN</td>\n",
       "      <td>189.0</td>\n",
       "    </tr>\n",
       "    <tr>\n",
       "      <th>9</th>\n",
       "      <td>18</td>\n",
       "      <td>5400000.0</td>\n",
       "      <td>61.00</td>\n",
       "      <td>2017-02-26T00:00:00</td>\n",
       "      <td>3</td>\n",
       "      <td>2.50</td>\n",
       "      <td>9.0</td>\n",
       "      <td>43.60</td>\n",
       "      <td>7</td>\n",
       "      <td>NaN</td>\n",
       "      <td>...</td>\n",
       "      <td>6.50</td>\n",
       "      <td>2.0</td>\n",
       "      <td>Санкт-Петербург</td>\n",
       "      <td>50898.0</td>\n",
       "      <td>15008.0</td>\n",
       "      <td>0.0</td>\n",
       "      <td>NaN</td>\n",
       "      <td>0.0</td>\n",
       "      <td>NaN</td>\n",
       "      <td>289.0</td>\n",
       "    </tr>\n",
       "    <tr>\n",
       "      <th>10</th>\n",
       "      <td>5</td>\n",
       "      <td>5050000.0</td>\n",
       "      <td>39.60</td>\n",
       "      <td>2017-11-16T00:00:00</td>\n",
       "      <td>1</td>\n",
       "      <td>2.67</td>\n",
       "      <td>12.0</td>\n",
       "      <td>20.30</td>\n",
       "      <td>3</td>\n",
       "      <td>NaN</td>\n",
       "      <td>...</td>\n",
       "      <td>8.50</td>\n",
       "      <td>NaN</td>\n",
       "      <td>Санкт-Петербург</td>\n",
       "      <td>38357.0</td>\n",
       "      <td>13878.0</td>\n",
       "      <td>1.0</td>\n",
       "      <td>310.0</td>\n",
       "      <td>2.0</td>\n",
       "      <td>553.0</td>\n",
       "      <td>137.0</td>\n",
       "    </tr>\n",
       "    <tr>\n",
       "      <th>11</th>\n",
       "      <td>9</td>\n",
       "      <td>3300000.0</td>\n",
       "      <td>44.00</td>\n",
       "      <td>2018-08-27T00:00:00</td>\n",
       "      <td>2</td>\n",
       "      <td>NaN</td>\n",
       "      <td>5.0</td>\n",
       "      <td>31.00</td>\n",
       "      <td>4</td>\n",
       "      <td>False</td>\n",
       "      <td>...</td>\n",
       "      <td>6.00</td>\n",
       "      <td>1.0</td>\n",
       "      <td>Ломоносов</td>\n",
       "      <td>48252.0</td>\n",
       "      <td>51677.0</td>\n",
       "      <td>0.0</td>\n",
       "      <td>NaN</td>\n",
       "      <td>0.0</td>\n",
       "      <td>NaN</td>\n",
       "      <td>7.0</td>\n",
       "    </tr>\n",
       "    <tr>\n",
       "      <th>12</th>\n",
       "      <td>10</td>\n",
       "      <td>3890000.0</td>\n",
       "      <td>54.00</td>\n",
       "      <td>2016-06-30T00:00:00</td>\n",
       "      <td>2</td>\n",
       "      <td>NaN</td>\n",
       "      <td>5.0</td>\n",
       "      <td>30.00</td>\n",
       "      <td>5</td>\n",
       "      <td>NaN</td>\n",
       "      <td>...</td>\n",
       "      <td>9.00</td>\n",
       "      <td>0.0</td>\n",
       "      <td>Сертолово</td>\n",
       "      <td>NaN</td>\n",
       "      <td>NaN</td>\n",
       "      <td>NaN</td>\n",
       "      <td>NaN</td>\n",
       "      <td>NaN</td>\n",
       "      <td>NaN</td>\n",
       "      <td>90.0</td>\n",
       "    </tr>\n",
       "    <tr>\n",
       "      <th>13</th>\n",
       "      <td>20</td>\n",
       "      <td>3550000.0</td>\n",
       "      <td>42.80</td>\n",
       "      <td>2017-07-01T00:00:00</td>\n",
       "      <td>2</td>\n",
       "      <td>2.56</td>\n",
       "      <td>5.0</td>\n",
       "      <td>27.00</td>\n",
       "      <td>5</td>\n",
       "      <td>NaN</td>\n",
       "      <td>...</td>\n",
       "      <td>5.20</td>\n",
       "      <td>1.0</td>\n",
       "      <td>Петергоф</td>\n",
       "      <td>37868.0</td>\n",
       "      <td>33058.0</td>\n",
       "      <td>1.0</td>\n",
       "      <td>294.0</td>\n",
       "      <td>3.0</td>\n",
       "      <td>298.0</td>\n",
       "      <td>366.0</td>\n",
       "    </tr>\n",
       "    <tr>\n",
       "      <th>14</th>\n",
       "      <td>1</td>\n",
       "      <td>4400000.0</td>\n",
       "      <td>36.00</td>\n",
       "      <td>2016-06-23T00:00:00</td>\n",
       "      <td>1</td>\n",
       "      <td>NaN</td>\n",
       "      <td>6.0</td>\n",
       "      <td>17.00</td>\n",
       "      <td>1</td>\n",
       "      <td>NaN</td>\n",
       "      <td>...</td>\n",
       "      <td>8.00</td>\n",
       "      <td>0.0</td>\n",
       "      <td>Пушкин</td>\n",
       "      <td>20782.0</td>\n",
       "      <td>30759.0</td>\n",
       "      <td>0.0</td>\n",
       "      <td>NaN</td>\n",
       "      <td>1.0</td>\n",
       "      <td>96.0</td>\n",
       "      <td>203.0</td>\n",
       "    </tr>\n",
       "    <tr>\n",
       "      <th>15</th>\n",
       "      <td>16</td>\n",
       "      <td>4650000.0</td>\n",
       "      <td>39.00</td>\n",
       "      <td>2017-11-18T00:00:00</td>\n",
       "      <td>1</td>\n",
       "      <td>NaN</td>\n",
       "      <td>14.0</td>\n",
       "      <td>20.50</td>\n",
       "      <td>5</td>\n",
       "      <td>NaN</td>\n",
       "      <td>...</td>\n",
       "      <td>7.60</td>\n",
       "      <td>1.0</td>\n",
       "      <td>Санкт-Петербург</td>\n",
       "      <td>12900.0</td>\n",
       "      <td>14259.0</td>\n",
       "      <td>1.0</td>\n",
       "      <td>590.0</td>\n",
       "      <td>1.0</td>\n",
       "      <td>296.0</td>\n",
       "      <td>19.0</td>\n",
       "    </tr>\n",
       "    <tr>\n",
       "      <th>16</th>\n",
       "      <td>11</td>\n",
       "      <td>6700000.0</td>\n",
       "      <td>82.00</td>\n",
       "      <td>2017-11-23T00:00:00</td>\n",
       "      <td>3</td>\n",
       "      <td>3.05</td>\n",
       "      <td>5.0</td>\n",
       "      <td>55.60</td>\n",
       "      <td>1</td>\n",
       "      <td>NaN</td>\n",
       "      <td>...</td>\n",
       "      <td>9.00</td>\n",
       "      <td>NaN</td>\n",
       "      <td>Санкт-Петербург</td>\n",
       "      <td>22108.0</td>\n",
       "      <td>10698.0</td>\n",
       "      <td>3.0</td>\n",
       "      <td>420.0</td>\n",
       "      <td>0.0</td>\n",
       "      <td>NaN</td>\n",
       "      <td>397.0</td>\n",
       "    </tr>\n",
       "    <tr>\n",
       "      <th>17</th>\n",
       "      <td>6</td>\n",
       "      <td>4180000.0</td>\n",
       "      <td>36.00</td>\n",
       "      <td>2016-09-09T00:00:00</td>\n",
       "      <td>1</td>\n",
       "      <td>NaN</td>\n",
       "      <td>17.0</td>\n",
       "      <td>16.50</td>\n",
       "      <td>7</td>\n",
       "      <td>NaN</td>\n",
       "      <td>...</td>\n",
       "      <td>11.00</td>\n",
       "      <td>1.0</td>\n",
       "      <td>Санкт-Петербург</td>\n",
       "      <td>33564.0</td>\n",
       "      <td>14616.0</td>\n",
       "      <td>0.0</td>\n",
       "      <td>NaN</td>\n",
       "      <td>1.0</td>\n",
       "      <td>859.0</td>\n",
       "      <td>571.0</td>\n",
       "    </tr>\n",
       "    <tr>\n",
       "      <th>18</th>\n",
       "      <td>8</td>\n",
       "      <td>3250000.0</td>\n",
       "      <td>31.00</td>\n",
       "      <td>2017-01-27T00:00:00</td>\n",
       "      <td>1</td>\n",
       "      <td>2.50</td>\n",
       "      <td>5.0</td>\n",
       "      <td>19.40</td>\n",
       "      <td>2</td>\n",
       "      <td>NaN</td>\n",
       "      <td>...</td>\n",
       "      <td>5.60</td>\n",
       "      <td>1.0</td>\n",
       "      <td>Санкт-Петербург</td>\n",
       "      <td>44060.0</td>\n",
       "      <td>10842.0</td>\n",
       "      <td>1.0</td>\n",
       "      <td>759.0</td>\n",
       "      <td>0.0</td>\n",
       "      <td>NaN</td>\n",
       "      <td>168.0</td>\n",
       "    </tr>\n",
       "    <tr>\n",
       "      <th>19</th>\n",
       "      <td>16</td>\n",
       "      <td>14200000.0</td>\n",
       "      <td>121.00</td>\n",
       "      <td>2019-01-09T00:00:00</td>\n",
       "      <td>3</td>\n",
       "      <td>2.75</td>\n",
       "      <td>16.0</td>\n",
       "      <td>76.00</td>\n",
       "      <td>8</td>\n",
       "      <td>NaN</td>\n",
       "      <td>...</td>\n",
       "      <td>12.00</td>\n",
       "      <td>NaN</td>\n",
       "      <td>Санкт-Петербург</td>\n",
       "      <td>38900.0</td>\n",
       "      <td>12843.0</td>\n",
       "      <td>0.0</td>\n",
       "      <td>NaN</td>\n",
       "      <td>0.0</td>\n",
       "      <td>NaN</td>\n",
       "      <td>97.0</td>\n",
       "    </tr>\n",
       "  </tbody>\n",
       "</table>\n",
       "<p>20 rows × 22 columns</p>\n",
       "</div>"
      ],
      "text/plain": [
       "    total_images  last_price  total_area first_day_exposition  rooms  \\\n",
       "0             20  13000000.0      108.00  2019-03-07T00:00:00      3   \n",
       "1              7   3350000.0       40.40  2018-12-04T00:00:00      1   \n",
       "2             10   5196000.0       56.00  2015-08-20T00:00:00      2   \n",
       "3              0  64900000.0      159.00  2015-07-24T00:00:00      3   \n",
       "4              2  10000000.0      100.00  2018-06-19T00:00:00      2   \n",
       "5             10   2890000.0       30.40  2018-09-10T00:00:00      1   \n",
       "6              6   3700000.0       37.30  2017-11-02T00:00:00      1   \n",
       "7              5   7915000.0       71.60  2019-04-18T00:00:00      2   \n",
       "8             20   2900000.0       33.16  2018-05-23T00:00:00      1   \n",
       "9             18   5400000.0       61.00  2017-02-26T00:00:00      3   \n",
       "10             5   5050000.0       39.60  2017-11-16T00:00:00      1   \n",
       "11             9   3300000.0       44.00  2018-08-27T00:00:00      2   \n",
       "12            10   3890000.0       54.00  2016-06-30T00:00:00      2   \n",
       "13            20   3550000.0       42.80  2017-07-01T00:00:00      2   \n",
       "14             1   4400000.0       36.00  2016-06-23T00:00:00      1   \n",
       "15            16   4650000.0       39.00  2017-11-18T00:00:00      1   \n",
       "16            11   6700000.0       82.00  2017-11-23T00:00:00      3   \n",
       "17             6   4180000.0       36.00  2016-09-09T00:00:00      1   \n",
       "18             8   3250000.0       31.00  2017-01-27T00:00:00      1   \n",
       "19            16  14200000.0      121.00  2019-01-09T00:00:00      3   \n",
       "\n",
       "    ceiling_height  floors_total  living_area  floor is_apartment  ...  \\\n",
       "0             2.70          16.0        51.00      8          NaN  ...   \n",
       "1              NaN          11.0        18.60      1          NaN  ...   \n",
       "2              NaN           5.0        34.30      4          NaN  ...   \n",
       "3              NaN          14.0          NaN      9          NaN  ...   \n",
       "4             3.03          14.0        32.00     13          NaN  ...   \n",
       "5              NaN          12.0        14.40      5          NaN  ...   \n",
       "6              NaN          26.0        10.60      6          NaN  ...   \n",
       "7              NaN          24.0          NaN     22          NaN  ...   \n",
       "8              NaN          27.0        15.43     26          NaN  ...   \n",
       "9             2.50           9.0        43.60      7          NaN  ...   \n",
       "10            2.67          12.0        20.30      3          NaN  ...   \n",
       "11             NaN           5.0        31.00      4        False  ...   \n",
       "12             NaN           5.0        30.00      5          NaN  ...   \n",
       "13            2.56           5.0        27.00      5          NaN  ...   \n",
       "14             NaN           6.0        17.00      1          NaN  ...   \n",
       "15             NaN          14.0        20.50      5          NaN  ...   \n",
       "16            3.05           5.0        55.60      1          NaN  ...   \n",
       "17             NaN          17.0        16.50      7          NaN  ...   \n",
       "18            2.50           5.0        19.40      2          NaN  ...   \n",
       "19            2.75          16.0        76.00      8          NaN  ...   \n",
       "\n",
       "    kitchen_area  balcony              locality_name  airports_nearest  \\\n",
       "0          25.00      NaN            Санкт-Петербург           18863.0   \n",
       "1          11.00      2.0             посёлок Шушары           12817.0   \n",
       "2           8.30      0.0            Санкт-Петербург           21741.0   \n",
       "3            NaN      0.0            Санкт-Петербург           28098.0   \n",
       "4          41.00      NaN            Санкт-Петербург           31856.0   \n",
       "5           9.10      NaN  городской посёлок Янино-1               NaN   \n",
       "6          14.40      1.0          посёлок Парголово           52996.0   \n",
       "7          18.90      2.0            Санкт-Петербург           23982.0   \n",
       "8           8.81      NaN             посёлок Мурино               NaN   \n",
       "9           6.50      2.0            Санкт-Петербург           50898.0   \n",
       "10          8.50      NaN            Санкт-Петербург           38357.0   \n",
       "11          6.00      1.0                  Ломоносов           48252.0   \n",
       "12          9.00      0.0                  Сертолово               NaN   \n",
       "13          5.20      1.0                   Петергоф           37868.0   \n",
       "14          8.00      0.0                     Пушкин           20782.0   \n",
       "15          7.60      1.0            Санкт-Петербург           12900.0   \n",
       "16          9.00      NaN            Санкт-Петербург           22108.0   \n",
       "17         11.00      1.0            Санкт-Петербург           33564.0   \n",
       "18          5.60      1.0            Санкт-Петербург           44060.0   \n",
       "19         12.00      NaN            Санкт-Петербург           38900.0   \n",
       "\n",
       "   cityCenters_nearest  parks_around3000  parks_nearest  ponds_around3000  \\\n",
       "0              16028.0               1.0          482.0               2.0   \n",
       "1              18603.0               0.0            NaN               0.0   \n",
       "2              13933.0               1.0           90.0               2.0   \n",
       "3               6800.0               2.0           84.0               3.0   \n",
       "4               8098.0               2.0          112.0               1.0   \n",
       "5                  NaN               NaN            NaN               NaN   \n",
       "6              19143.0               0.0            NaN               0.0   \n",
       "7              11634.0               0.0            NaN               0.0   \n",
       "8                  NaN               NaN            NaN               NaN   \n",
       "9              15008.0               0.0            NaN               0.0   \n",
       "10             13878.0               1.0          310.0               2.0   \n",
       "11             51677.0               0.0            NaN               0.0   \n",
       "12                 NaN               NaN            NaN               NaN   \n",
       "13             33058.0               1.0          294.0               3.0   \n",
       "14             30759.0               0.0            NaN               1.0   \n",
       "15             14259.0               1.0          590.0               1.0   \n",
       "16             10698.0               3.0          420.0               0.0   \n",
       "17             14616.0               0.0            NaN               1.0   \n",
       "18             10842.0               1.0          759.0               0.0   \n",
       "19             12843.0               0.0            NaN               0.0   \n",
       "\n",
       "    ponds_nearest  days_exposition  \n",
       "0           755.0              NaN  \n",
       "1             NaN             81.0  \n",
       "2           574.0            558.0  \n",
       "3           234.0            424.0  \n",
       "4            48.0            121.0  \n",
       "5             NaN             55.0  \n",
       "6             NaN            155.0  \n",
       "7             NaN              NaN  \n",
       "8             NaN            189.0  \n",
       "9             NaN            289.0  \n",
       "10          553.0            137.0  \n",
       "11            NaN              7.0  \n",
       "12            NaN             90.0  \n",
       "13          298.0            366.0  \n",
       "14           96.0            203.0  \n",
       "15          296.0             19.0  \n",
       "16            NaN            397.0  \n",
       "17          859.0            571.0  \n",
       "18            NaN            168.0  \n",
       "19            NaN             97.0  \n",
       "\n",
       "[20 rows x 22 columns]"
      ]
     },
     "execution_count": 4,
     "metadata": {},
     "output_type": "execute_result"
    }
   ],
   "source": [
    "# выведем на экран первые 20 строк таблицы для наглядности\n",
    "data.head(20)"
   ]
  },
  {
   "cell_type": "code",
   "execution_count": 5,
   "id": "0e022ea9",
   "metadata": {},
   "outputs": [
    {
     "data": {
      "text/html": [
       "<div>\n",
       "<style scoped>\n",
       "    .dataframe tbody tr th:only-of-type {\n",
       "        vertical-align: middle;\n",
       "    }\n",
       "\n",
       "    .dataframe tbody tr th {\n",
       "        vertical-align: top;\n",
       "    }\n",
       "\n",
       "    .dataframe thead th {\n",
       "        text-align: right;\n",
       "    }\n",
       "</style>\n",
       "<table border=\"1\" class=\"dataframe\">\n",
       "  <thead>\n",
       "    <tr style=\"text-align: right;\">\n",
       "      <th></th>\n",
       "      <th>count</th>\n",
       "      <th>mean</th>\n",
       "      <th>std</th>\n",
       "      <th>min</th>\n",
       "      <th>25%</th>\n",
       "      <th>50%</th>\n",
       "      <th>75%</th>\n",
       "      <th>max</th>\n",
       "    </tr>\n",
       "  </thead>\n",
       "  <tbody>\n",
       "    <tr>\n",
       "      <th>total_images</th>\n",
       "      <td>23699.0</td>\n",
       "      <td>9.858475e+00</td>\n",
       "      <td>5.682529e+00</td>\n",
       "      <td>0.0</td>\n",
       "      <td>6.00</td>\n",
       "      <td>9.00</td>\n",
       "      <td>14.0</td>\n",
       "      <td>50.0</td>\n",
       "    </tr>\n",
       "    <tr>\n",
       "      <th>last_price</th>\n",
       "      <td>23699.0</td>\n",
       "      <td>6.541549e+06</td>\n",
       "      <td>1.088701e+07</td>\n",
       "      <td>12190.0</td>\n",
       "      <td>3400000.00</td>\n",
       "      <td>4650000.00</td>\n",
       "      <td>6800000.0</td>\n",
       "      <td>763000000.0</td>\n",
       "    </tr>\n",
       "    <tr>\n",
       "      <th>total_area</th>\n",
       "      <td>23699.0</td>\n",
       "      <td>6.034865e+01</td>\n",
       "      <td>3.565408e+01</td>\n",
       "      <td>12.0</td>\n",
       "      <td>40.00</td>\n",
       "      <td>52.00</td>\n",
       "      <td>69.9</td>\n",
       "      <td>900.0</td>\n",
       "    </tr>\n",
       "    <tr>\n",
       "      <th>rooms</th>\n",
       "      <td>23699.0</td>\n",
       "      <td>2.070636e+00</td>\n",
       "      <td>1.078405e+00</td>\n",
       "      <td>0.0</td>\n",
       "      <td>1.00</td>\n",
       "      <td>2.00</td>\n",
       "      <td>3.0</td>\n",
       "      <td>19.0</td>\n",
       "    </tr>\n",
       "    <tr>\n",
       "      <th>ceiling_height</th>\n",
       "      <td>14504.0</td>\n",
       "      <td>2.771499e+00</td>\n",
       "      <td>1.261056e+00</td>\n",
       "      <td>1.0</td>\n",
       "      <td>2.52</td>\n",
       "      <td>2.65</td>\n",
       "      <td>2.8</td>\n",
       "      <td>100.0</td>\n",
       "    </tr>\n",
       "    <tr>\n",
       "      <th>floors_total</th>\n",
       "      <td>23613.0</td>\n",
       "      <td>1.067382e+01</td>\n",
       "      <td>6.597173e+00</td>\n",
       "      <td>1.0</td>\n",
       "      <td>5.00</td>\n",
       "      <td>9.00</td>\n",
       "      <td>16.0</td>\n",
       "      <td>60.0</td>\n",
       "    </tr>\n",
       "    <tr>\n",
       "      <th>living_area</th>\n",
       "      <td>21796.0</td>\n",
       "      <td>3.445785e+01</td>\n",
       "      <td>2.203045e+01</td>\n",
       "      <td>2.0</td>\n",
       "      <td>18.60</td>\n",
       "      <td>30.00</td>\n",
       "      <td>42.3</td>\n",
       "      <td>409.7</td>\n",
       "    </tr>\n",
       "    <tr>\n",
       "      <th>floor</th>\n",
       "      <td>23699.0</td>\n",
       "      <td>5.892358e+00</td>\n",
       "      <td>4.885249e+00</td>\n",
       "      <td>1.0</td>\n",
       "      <td>2.00</td>\n",
       "      <td>4.00</td>\n",
       "      <td>8.0</td>\n",
       "      <td>33.0</td>\n",
       "    </tr>\n",
       "    <tr>\n",
       "      <th>kitchen_area</th>\n",
       "      <td>21421.0</td>\n",
       "      <td>1.056981e+01</td>\n",
       "      <td>5.905438e+00</td>\n",
       "      <td>1.3</td>\n",
       "      <td>7.00</td>\n",
       "      <td>9.10</td>\n",
       "      <td>12.0</td>\n",
       "      <td>112.0</td>\n",
       "    </tr>\n",
       "    <tr>\n",
       "      <th>balcony</th>\n",
       "      <td>12180.0</td>\n",
       "      <td>1.150082e+00</td>\n",
       "      <td>1.071300e+00</td>\n",
       "      <td>0.0</td>\n",
       "      <td>0.00</td>\n",
       "      <td>1.00</td>\n",
       "      <td>2.0</td>\n",
       "      <td>5.0</td>\n",
       "    </tr>\n",
       "    <tr>\n",
       "      <th>airports_nearest</th>\n",
       "      <td>18157.0</td>\n",
       "      <td>2.879367e+04</td>\n",
       "      <td>1.263088e+04</td>\n",
       "      <td>0.0</td>\n",
       "      <td>18585.00</td>\n",
       "      <td>26726.00</td>\n",
       "      <td>37273.0</td>\n",
       "      <td>84869.0</td>\n",
       "    </tr>\n",
       "    <tr>\n",
       "      <th>cityCenters_nearest</th>\n",
       "      <td>18180.0</td>\n",
       "      <td>1.419128e+04</td>\n",
       "      <td>8.608386e+03</td>\n",
       "      <td>181.0</td>\n",
       "      <td>9238.00</td>\n",
       "      <td>13098.50</td>\n",
       "      <td>16293.0</td>\n",
       "      <td>65968.0</td>\n",
       "    </tr>\n",
       "    <tr>\n",
       "      <th>parks_around3000</th>\n",
       "      <td>18181.0</td>\n",
       "      <td>6.114075e-01</td>\n",
       "      <td>8.020736e-01</td>\n",
       "      <td>0.0</td>\n",
       "      <td>0.00</td>\n",
       "      <td>0.00</td>\n",
       "      <td>1.0</td>\n",
       "      <td>3.0</td>\n",
       "    </tr>\n",
       "    <tr>\n",
       "      <th>parks_nearest</th>\n",
       "      <td>8079.0</td>\n",
       "      <td>4.908046e+02</td>\n",
       "      <td>3.423180e+02</td>\n",
       "      <td>1.0</td>\n",
       "      <td>288.00</td>\n",
       "      <td>455.00</td>\n",
       "      <td>612.0</td>\n",
       "      <td>3190.0</td>\n",
       "    </tr>\n",
       "    <tr>\n",
       "      <th>ponds_around3000</th>\n",
       "      <td>18181.0</td>\n",
       "      <td>7.702547e-01</td>\n",
       "      <td>9.383456e-01</td>\n",
       "      <td>0.0</td>\n",
       "      <td>0.00</td>\n",
       "      <td>1.00</td>\n",
       "      <td>1.0</td>\n",
       "      <td>3.0</td>\n",
       "    </tr>\n",
       "    <tr>\n",
       "      <th>ponds_nearest</th>\n",
       "      <td>9110.0</td>\n",
       "      <td>5.179809e+02</td>\n",
       "      <td>2.777206e+02</td>\n",
       "      <td>13.0</td>\n",
       "      <td>294.00</td>\n",
       "      <td>502.00</td>\n",
       "      <td>729.0</td>\n",
       "      <td>1344.0</td>\n",
       "    </tr>\n",
       "    <tr>\n",
       "      <th>days_exposition</th>\n",
       "      <td>20518.0</td>\n",
       "      <td>1.808886e+02</td>\n",
       "      <td>2.197280e+02</td>\n",
       "      <td>1.0</td>\n",
       "      <td>45.00</td>\n",
       "      <td>95.00</td>\n",
       "      <td>232.0</td>\n",
       "      <td>1580.0</td>\n",
       "    </tr>\n",
       "  </tbody>\n",
       "</table>\n",
       "</div>"
      ],
      "text/plain": [
       "                       count          mean           std      min         25%  \\\n",
       "total_images         23699.0  9.858475e+00  5.682529e+00      0.0        6.00   \n",
       "last_price           23699.0  6.541549e+06  1.088701e+07  12190.0  3400000.00   \n",
       "total_area           23699.0  6.034865e+01  3.565408e+01     12.0       40.00   \n",
       "rooms                23699.0  2.070636e+00  1.078405e+00      0.0        1.00   \n",
       "ceiling_height       14504.0  2.771499e+00  1.261056e+00      1.0        2.52   \n",
       "floors_total         23613.0  1.067382e+01  6.597173e+00      1.0        5.00   \n",
       "living_area          21796.0  3.445785e+01  2.203045e+01      2.0       18.60   \n",
       "floor                23699.0  5.892358e+00  4.885249e+00      1.0        2.00   \n",
       "kitchen_area         21421.0  1.056981e+01  5.905438e+00      1.3        7.00   \n",
       "balcony              12180.0  1.150082e+00  1.071300e+00      0.0        0.00   \n",
       "airports_nearest     18157.0  2.879367e+04  1.263088e+04      0.0    18585.00   \n",
       "cityCenters_nearest  18180.0  1.419128e+04  8.608386e+03    181.0     9238.00   \n",
       "parks_around3000     18181.0  6.114075e-01  8.020736e-01      0.0        0.00   \n",
       "parks_nearest         8079.0  4.908046e+02  3.423180e+02      1.0      288.00   \n",
       "ponds_around3000     18181.0  7.702547e-01  9.383456e-01      0.0        0.00   \n",
       "ponds_nearest         9110.0  5.179809e+02  2.777206e+02     13.0      294.00   \n",
       "days_exposition      20518.0  1.808886e+02  2.197280e+02      1.0       45.00   \n",
       "\n",
       "                            50%        75%          max  \n",
       "total_images               9.00       14.0         50.0  \n",
       "last_price           4650000.00  6800000.0  763000000.0  \n",
       "total_area                52.00       69.9        900.0  \n",
       "rooms                      2.00        3.0         19.0  \n",
       "ceiling_height             2.65        2.8        100.0  \n",
       "floors_total               9.00       16.0         60.0  \n",
       "living_area               30.00       42.3        409.7  \n",
       "floor                      4.00        8.0         33.0  \n",
       "kitchen_area               9.10       12.0        112.0  \n",
       "balcony                    1.00        2.0          5.0  \n",
       "airports_nearest       26726.00    37273.0      84869.0  \n",
       "cityCenters_nearest    13098.50    16293.0      65968.0  \n",
       "parks_around3000           0.00        1.0          3.0  \n",
       "parks_nearest            455.00      612.0       3190.0  \n",
       "ponds_around3000           1.00        1.0          3.0  \n",
       "ponds_nearest            502.00      729.0       1344.0  \n",
       "days_exposition           95.00      232.0       1580.0  "
      ]
     },
     "execution_count": 5,
     "metadata": {},
     "output_type": "execute_result"
    }
   ],
   "source": [
    "# немного изучим данные, для удобства изучения информации поменяем строки и столбцы местами с помощью атрибута T\n",
    "data.describe().T"
   ]
  },
  {
   "cell_type": "markdown",
   "id": "fdd19e0c",
   "metadata": {},
   "source": [
    "<div style=\"background-color:Azure; color:#black; padding:2%\">\n",
    "\n",
    "**Что можно сказать по данным:**\n",
    "1. В столбце `last_price` очень сильный разброс данных, самая минимальная стоимость 12 190 р (даже аренда одной комнаты в месяц стоит больше сейчас), а самая максимальная стоимость 763 000 000 р (фантастическая цифра, похоже на выброс в данных, интересно, сколько таких строк?)\n",
    "2. В столбце `ceiling_height` минимальная высота потолка 1 м (что за каморка, возможно ли это?) и максимальная 100 м (аномально высокий потолок, не повлияет ли это на средние значения?)\n",
    "3. В столбце `ceiling_height` очень много пропусков в данных, число строк с заполненными данными практически в два раза меньше общего количества строк\n",
    "4. В столбце `rooms` минимальное количество комнат 0, что имеется в виду? Вероятно это квартиры-студии.\n",
    "5. В столбце `living_area` минимальная жилая площадь 2м², даже площадь туалета больше, возможно данные придется удалить\n",
    "6. В столбце `kitchen_area` минимальная площадь 1.3м², еще меньше, чем предыдущее значение, возможно данные придется удалить\n",
    "7. В столбце `airports_nearest` минимальное значение 0, квартира в аэропорту находиться не может, нужно проверить данные"
   ]
  },
  {
   "cell_type": "code",
   "execution_count": 6,
   "id": "369f5426",
   "metadata": {},
   "outputs": [
    {
     "data": {
      "image/png": "[encoded data removed]",
      "text/plain": [
       "<Figure size 1440x1440 with 20 Axes>"
      ]
     },
     "metadata": {
      "needs_background": "light"
     },
     "output_type": "display_data"
    }
   ],
   "source": [
    "# построим гистограмму для всех числовых столбцов таблицы на одном графике\n",
    "data.hist(figsize = (20,20))\n",
    "plt.show()"
   ]
  },
  {
   "cell_type": "markdown",
   "id": "a67872a7",
   "metadata": {},
   "source": [
    "## Выполните предобработку данных"
   ]
  },
  {
   "cell_type": "markdown",
   "id": "712fece7",
   "metadata": {},
   "source": [
    "### Удаление пропусков"
   ]
  },
  {
   "cell_type": "code",
   "execution_count": 7,
   "id": "c4718125",
   "metadata": {},
   "outputs": [
    {
     "data": {
      "text/plain": [
       "total_images                0\n",
       "last_price                  0\n",
       "total_area                  0\n",
       "first_day_exposition        0\n",
       "rooms                       0\n",
       "ceiling_height           9195\n",
       "floors_total               86\n",
       "living_area              1903\n",
       "floor                       0\n",
       "is_apartment            20924\n",
       "studio                      0\n",
       "open_plan                   0\n",
       "kitchen_area             2278\n",
       "balcony                 11519\n",
       "locality_name              49\n",
       "airports_nearest         5542\n",
       "cityCenters_nearest      5519\n",
       "parks_around3000         5518\n",
       "parks_nearest           15620\n",
       "ponds_around3000         5518\n",
       "ponds_nearest           14589\n",
       "days_exposition          3181\n",
       "dtype: int64"
      ]
     },
     "execution_count": 7,
     "metadata": {},
     "output_type": "execute_result"
    }
   ],
   "source": [
    "# с помощью метода isna найдем, в каких столбцах есть пропущенные значения и сразу посчитаем их\n",
    "data.isna().sum()"
   ]
  },
  {
   "cell_type": "markdown",
   "id": "107601e4",
   "metadata": {},
   "source": [
    "<div style=\"background-color:Azure; color:#black; padding:2%\">\n",
    "\n",
    "**В каких столбцах точно можно заменить пропуски?**\n",
    "- в столбце `is_apartment` (является ли квартира апартаментами) логично предположить, что пропуски по той причине, что квартира апартами не является, значит можно заменить на False.\n",
    "- ровно также как и в столбце `balcony` (число балконов), если не указано количество, скорее всего в квартире их нет, можно заменить значения на 0.\n",
    "- в столбцах `parks_around3000` и `ponds_around3000` можно предположить, что пропуск возник по той причине, что ни парка, ни пруда рядом с квартирой в радиусе 3 км нет, значит можно заменить на 0.\n",
    "- про столбец `days_exposition` надо подумать, можно ли заменить эти пропуски медианным значением."
   ]
  },
  {
   "cell_type": "code",
   "execution_count": 8,
   "id": "ced31d0c",
   "metadata": {},
   "outputs": [],
   "source": [
    "# заменим пропуски в столбце is apartment\n",
    "data['is_apartment'] = data['is_apartment'].fillna('False')"
   ]
  },
  {
   "cell_type": "code",
   "execution_count": 9,
   "id": "56952794",
   "metadata": {},
   "outputs": [
    {
     "data": {
      "text/plain": [
       "0"
      ]
     },
     "execution_count": 9,
     "metadata": {},
     "output_type": "execute_result"
    }
   ],
   "source": [
    "# сразу проверим количество пропусков\n",
    "data['is_apartment'].isna().sum()"
   ]
  },
  {
   "cell_type": "code",
   "execution_count": 10,
   "id": "3b6092cc",
   "metadata": {},
   "outputs": [],
   "source": [
    "# заменим пропуски в столбцах\n",
    "data['balcony'] = data['balcony'].fillna(0)\n",
    "data['parks_around3000'] = data['parks_around3000'].fillna(0)\n",
    "data['ponds_around3000'] = data['ponds_around3000'].fillna(0)"
   ]
  },
  {
   "cell_type": "code",
   "execution_count": 11,
   "id": "dfb3060b",
   "metadata": {},
   "outputs": [
    {
     "data": {
      "text/plain": [
       "0"
      ]
     },
     "execution_count": 11,
     "metadata": {},
     "output_type": "execute_result"
    }
   ],
   "source": [
    "# сразу проверим количество пропусков в столбцах\n",
    "data['balcony'].isna().sum()\n",
    "data['parks_around3000'].isna().sum()\n",
    "data['ponds_around3000'].isna().sum()"
   ]
  },
  {
   "cell_type": "code",
   "execution_count": 12,
   "id": "b89acac2",
   "metadata": {},
   "outputs": [],
   "source": [
    "# в столбце floors_total менее 1 процента пропущенных данных от общего количества значений, удалим их\n",
    "data['floors_total'].dropna(inplace=True)"
   ]
  },
  {
   "cell_type": "code",
   "execution_count": 13,
   "id": "976cc204",
   "metadata": {},
   "outputs": [],
   "source": [
    "# в столбце locality_name также менее 1 процента пропусков от общего количества значений, удалим их\n",
    "data['locality_name'].dropna(inplace=True)"
   ]
  },
  {
   "cell_type": "markdown",
   "id": "23241dd9",
   "metadata": {},
   "source": [
    "<div style=\"background-color:Azure; color:#black; padding:2%\">\n",
    "\n",
    "**Причины появления пропусков:**\n",
    "- пропуски в столбце `ceiling_height` могли возникнуть по причине того, что пользователи могли пропустить при ручном вводе эти ячейки, либо при выгрузке данных что-то пошло не так\n",
    "- пропуски в столбце `floors_total`, судя по их количеству, точно были сделаны во время ручного заполнения объявления\n",
    "- пропуски в столбцах `living_area` и `kitchen_area` сделаны во время ручного заполнения пользователем, намеренно или случайно, либо при выгрузке данных сломался формат\n",
    "- пропуски в столбце `is_apartment` судя по всему из-за того, что если квартира не является апартаментами, пользователь просто при заполнении оставлял поле пустым, а не писал, например, \"нет\"\n",
    "- пропуски в столбце `balcony` скорее всего по аналогичной причине, что и в строке выше - если поле оставлено пустым, скорее всего просто в данной квартире балкона не имеется\n",
    "- пропуски в столбцах `locality_name`, `airports_nearest`, `cityCenters_nearest`, `parks_around3000`, `parks_nearest`, `ponds_around3000`, `ponds_nearest` могли возникнуть по причине некорректного определения геолокации при внесении данных по конкретной квартире\n",
    "- пропуски в столбце `days_exposition` скорее всего образовались при выгрузке данных."
   ]
  },
  {
   "cell_type": "markdown",
   "id": "b7297d3d",
   "metadata": {},
   "source": [
    "### Преобразование типов данных"
   ]
  },
  {
   "cell_type": "markdown",
   "id": "cb236c68",
   "metadata": {},
   "source": [
    "<div style=\"background-color:Azure; color:#black; padding:2%\">\n",
    "\n",
    "**Какие данные необходимо будет преобразовать в другие типы данных:**\n",
    "- столбец `first day exposition` имеет тип данных object, преобразовать в объект datetime\n",
    "- столбец `floors_total`, содержит количество этажей и должно быть целым числом, преобразовать в тип данных int64\n",
    "- столбец `balcony`, содержит количество балконов и должно быть целым числом, преобразовать в тип данных int64\n",
    "- столбец `is_apartment` в описании данных должно быть булевым типом, преобразовать в тип данных bool\n",
    "- столбец `parks_around3000`, содержит количество парков и должно быть целым числом, преобразовать в тип данных int64\n",
    "- столбец `ponds_around3000`, содержит количество водоёмов и должно быть целым числом, преобразовать в тип данных int64\n",
    "- столбец `days_exposition`, содержит количество дней размещения объявления, преобразовать в тип данных int64"
   ]
  },
  {
   "cell_type": "code",
   "execution_count": 14,
   "id": "04794ba0",
   "metadata": {},
   "outputs": [],
   "source": [
    "data['first_day_exposition'] = pd.to_datetime(data['first_day_exposition'],format='%Y-%m-%dT%H:%M:%S')\n",
    "# data['floors_total'] = data['floors_total'].astype('int') - есть пропуски, поэтому не получится преобразовать тип данных\n",
    "data['balcony'] = data['balcony'].astype('int64')\n",
    "data['is_apartment'] = data['is_apartment'].astype('bool')\n",
    "data['parks_around3000'] = data['parks_around3000'].astype('int64')\n",
    "data['ponds_around3000'] = data['ponds_around3000'].astype('int64')\n",
    "# тип данных в столбце 'days_exposition' преобразовать не получится, поскольку есть пропущенные значения"
   ]
  },
  {
   "cell_type": "code",
   "execution_count": 15,
   "id": "d2673806",
   "metadata": {},
   "outputs": [],
   "source": [
    "# переименуем столбец cityCenters_nearest в snake_case\n",
    "data.rename(columns = {'cityCenters_nearest': 'city_centers_nearest'}, inplace = True)"
   ]
  },
  {
   "cell_type": "markdown",
   "id": "28658df3",
   "metadata": {},
   "source": [
    "<div style=\"background-color:Azure; color:#black; padding:2%\">\n",
    "\n",
    "**Почему нужно изменять типы данных:**\n",
    "- в столбце `first day exposition` содержатся данные о дате, поэтому для удобства и верных расчетов в дальнейшем нужно преобразовать данные в этом столбце в тип datetime\n",
    "- в столбцах `floors_total`, `balcony`, `parks_around3000`, `ponds_around3000`, `days_exposition` содержатся целочисленные данные, количество этажей, балконов, парков, прудов или дней не может быть дробным числом, поэтому преобразуем тип данных в integer.\n",
    "- в столбце `is_apartment` содержатся булевы значения, true или false, соответственно преобразуем его в тип данных bool. Если бы в заполненных данных были числа, которые тоже могут обозначать истину или ложь, т.е. 1 или 0 соответственно, то можно было бы преобразовать в целые числа."
   ]
  },
  {
   "cell_type": "code",
   "execution_count": 16,
   "id": "f81545bb",
   "metadata": {},
   "outputs": [
    {
     "name": "stdout",
     "output_type": "stream",
     "text": [
      "<class 'pandas.core.frame.DataFrame'>\n",
      "RangeIndex: 23699 entries, 0 to 23698\n",
      "Data columns (total 22 columns):\n",
      " #   Column                Non-Null Count  Dtype         \n",
      "---  ------                --------------  -----         \n",
      " 0   total_images          23699 non-null  int64         \n",
      " 1   last_price            23699 non-null  float64       \n",
      " 2   total_area            23699 non-null  float64       \n",
      " 3   first_day_exposition  23699 non-null  datetime64[ns]\n",
      " 4   rooms                 23699 non-null  int64         \n",
      " 5   ceiling_height        14504 non-null  float64       \n",
      " 6   floors_total          23613 non-null  float64       \n",
      " 7   living_area           21796 non-null  float64       \n",
      " 8   floor                 23699 non-null  int64         \n",
      " 9   is_apartment          23699 non-null  bool          \n",
      " 10  studio                23699 non-null  bool          \n",
      " 11  open_plan             23699 non-null  bool          \n",
      " 12  kitchen_area          21421 non-null  float64       \n",
      " 13  balcony               23699 non-null  int64         \n",
      " 14  locality_name         23650 non-null  object        \n",
      " 15  airports_nearest      18157 non-null  float64       \n",
      " 16  city_centers_nearest  18180 non-null  float64       \n",
      " 17  parks_around3000      23699 non-null  int64         \n",
      " 18  parks_nearest         8079 non-null   float64       \n",
      " 19  ponds_around3000      23699 non-null  int64         \n",
      " 20  ponds_nearest         9110 non-null   float64       \n",
      " 21  days_exposition       20518 non-null  float64       \n",
      "dtypes: bool(3), datetime64[ns](1), float64(11), int64(6), object(1)\n",
      "memory usage: 3.5+ MB\n"
     ]
    }
   ],
   "source": [
    "# выведем еще раз сведения о датафрейме, проверим преобразование данных\n",
    "data.info()"
   ]
  },
  {
   "cell_type": "markdown",
   "id": "09eb301f",
   "metadata": {},
   "source": [
    "### Удаление дубликатов"
   ]
  },
  {
   "cell_type": "code",
   "execution_count": 17,
   "id": "302a248c",
   "metadata": {
    "scrolled": true
   },
   "outputs": [
    {
     "data": {
      "text/plain": [
       "0"
      ]
     },
     "execution_count": 17,
     "metadata": {},
     "output_type": "execute_result"
    }
   ],
   "source": [
    "# на всякий случай посчитаем количество явных дубликатов\n",
    "data.duplicated().sum()"
   ]
  },
  {
   "cell_type": "code",
   "execution_count": 18,
   "id": "7d98c89e",
   "metadata": {
    "scrolled": true
   },
   "outputs": [
    {
     "data": {
      "text/plain": [
       "364"
      ]
     },
     "execution_count": 18,
     "metadata": {},
     "output_type": "execute_result"
    }
   ],
   "source": [
    "# посчитаем количество уникальных данных в столбце с названиями locality_name\n",
    "data['locality_name'].nunique()"
   ]
  },
  {
   "cell_type": "code",
   "execution_count": 19,
   "id": "2d97023a",
   "metadata": {},
   "outputs": [
    {
     "data": {
      "text/plain": [
       "array(['Санкт-Петербург', 'посёлок Шушары', 'городской посёлок Янино-1',\n",
       "       'посёлок Парголово', 'посёлок Мурино', 'Ломоносов', 'Сертолово',\n",
       "       'Петергоф', 'Пушкин', 'деревня Кудрово', 'Коммунар', 'Колпино',\n",
       "       'поселок городского типа Красный Бор', 'Гатчина', 'поселок Мурино',\n",
       "       'деревня Фёдоровское', 'Выборг', 'Кронштадт', 'Кировск',\n",
       "       'деревня Новое Девяткино', 'посёлок Металлострой',\n",
       "       'посёлок городского типа Лебяжье',\n",
       "       'посёлок городского типа Сиверский', 'поселок Молодцово',\n",
       "       'поселок городского типа Кузьмоловский',\n",
       "       'садовое товарищество Новая Ропша', 'Павловск',\n",
       "       'деревня Пикколово', 'Всеволожск', 'Волхов', 'Кингисепп',\n",
       "       'Приозерск', 'Сестрорецк', 'деревня Куттузи', 'посёлок Аннино',\n",
       "       'поселок городского типа Ефимовский', 'посёлок Плодовое',\n",
       "       'деревня Заклинье', 'поселок Торковичи', 'поселок Первомайское',\n",
       "       'Красное Село', 'посёлок Понтонный', 'Сясьстрой', 'деревня Старая',\n",
       "       'деревня Лесколово', 'посёлок Новый Свет', 'Сланцы',\n",
       "       'село Путилово', 'Ивангород', 'Мурино', 'Шлиссельбург',\n",
       "       'Никольское', 'Зеленогорск', 'Сосновый Бор', 'поселок Новый Свет',\n",
       "       'деревня Оржицы', 'деревня Кальтино', 'Кудрово',\n",
       "       'поселок Романовка', 'посёлок Бугры', 'поселок Бугры',\n",
       "       'поселок городского типа Рощино', 'Кириши', 'Луга', 'Волосово',\n",
       "       'Отрадное', 'село Павлово', 'поселок Оредеж', 'село Копорье',\n",
       "       'посёлок городского типа Красный Бор', 'посёлок Молодёжное',\n",
       "       'Тихвин', 'посёлок Победа', 'деревня Нурма',\n",
       "       'поселок городского типа Синявино', 'Тосно',\n",
       "       'посёлок городского типа Кузьмоловский', 'посёлок Стрельна',\n",
       "       'Бокситогорск', 'посёлок Александровская', 'деревня Лопухинка',\n",
       "       'Пикалёво', 'поселок Терволово',\n",
       "       'поселок городского типа Советский', 'Подпорожье',\n",
       "       'посёлок Петровское', 'посёлок городского типа Токсово',\n",
       "       'поселок Сельцо', 'посёлок городского типа Вырица',\n",
       "       'деревня Кипень', 'деревня Келози', 'деревня Вартемяги',\n",
       "       'посёлок Тельмана', 'поселок Севастьяново',\n",
       "       'городской поселок Большая Ижора', nan,\n",
       "       'городской посёлок Павлово', 'деревня Агалатово',\n",
       "       'посёлок Новогорелово', 'городской посёлок Лесогорский',\n",
       "       'деревня Лаголово', 'поселок Цвелодубово',\n",
       "       'поселок городского типа Рахья', 'поселок городского типа Вырица',\n",
       "       'деревня Белогорка', 'поселок Заводской',\n",
       "       'городской посёлок Новоселье', 'деревня Большие Колпаны',\n",
       "       'деревня Горбунки', 'деревня Батово', 'деревня Заневка',\n",
       "       'деревня Иссад', 'Приморск', 'городской посёлок Фёдоровское',\n",
       "       'деревня Мистолово', 'Новая Ладога', 'поселок Зимитицы',\n",
       "       'поселок Барышево', 'деревня Разметелево',\n",
       "       'поселок городского типа имени Свердлова', 'деревня Пеники',\n",
       "       'поселок Рябово', 'деревня Пудомяги', 'поселок станции Корнево',\n",
       "       'деревня Низино', 'деревня Бегуницы', 'посёлок Поляны',\n",
       "       'городской посёлок Мга', 'поселок Елизаветино',\n",
       "       'посёлок городского типа Кузнечное', 'деревня Колтуши',\n",
       "       'поселок Запорожское', 'посёлок городского типа Рощино',\n",
       "       'деревня Гостилицы', 'деревня Малое Карлино',\n",
       "       'посёлок Мичуринское', 'посёлок городского типа имени Морозова',\n",
       "       'посёлок Песочный', 'посёлок Сосново', 'деревня Аро',\n",
       "       'поселок Ильичёво', 'посёлок городского типа Тайцы',\n",
       "       'деревня Малое Верево', 'деревня Извара', 'поселок станции Вещево',\n",
       "       'село Паша', 'деревня Калитино',\n",
       "       'посёлок городского типа Ульяновка', 'деревня Чудской Бор',\n",
       "       'поселок городского типа Дубровка', 'деревня Мины',\n",
       "       'поселок Войсковицы', 'посёлок городского типа имени Свердлова',\n",
       "       'деревня Коркино', 'посёлок Ропша',\n",
       "       'поселок городского типа Приладожский', 'посёлок Щеглово',\n",
       "       'посёлок Гаврилово', 'Лодейное Поле', 'деревня Рабитицы',\n",
       "       'поселок городского типа Никольский', 'деревня Кузьмолово',\n",
       "       'деревня Малые Колпаны', 'поселок Тельмана',\n",
       "       'посёлок Петро-Славянка', 'городской посёлок Назия',\n",
       "       'посёлок Репино', 'посёлок Ильичёво', 'поселок Углово',\n",
       "       'поселок Старая Малукса', 'садовое товарищество Рахья',\n",
       "       'поселок Аннино', 'поселок Победа', 'деревня Меньково',\n",
       "       'деревня Старые Бегуницы', 'посёлок Сапёрный', 'поселок Семрино',\n",
       "       'поселок Гаврилово', 'поселок Глажево', 'поселок Кобринское',\n",
       "       'деревня Гарболово', 'деревня Юкки',\n",
       "       'поселок станции Приветнинское', 'деревня Мануйлово',\n",
       "       'деревня Пчева', 'поселок Поляны', 'поселок Цвылёво',\n",
       "       'поселок Мельниково', 'посёлок Пудость', 'посёлок Усть-Луга',\n",
       "       'Светогорск', 'Любань', 'поселок Селезнёво',\n",
       "       'поселок городского типа Рябово', 'Каменногорск', 'деревня Кривко',\n",
       "       'поселок Глебычево', 'деревня Парицы', 'поселок Жилпосёлок',\n",
       "       'посёлок городского типа Мга', 'городской поселок Янино-1',\n",
       "       'посёлок Войскорово', 'село Никольское', 'посёлок Терволово',\n",
       "       'поселок Стеклянный', 'посёлок городского типа Важины',\n",
       "       'посёлок Мыза-Ивановка', 'село Русско-Высоцкое',\n",
       "       'поселок городского типа Лебяжье',\n",
       "       'поселок городского типа Форносово', 'село Старая Ладога',\n",
       "       'поселок Житково', 'городской посёлок Виллози', 'деревня Лампово',\n",
       "       'деревня Шпаньково', 'деревня Лаврики', 'посёлок Сумино',\n",
       "       'посёлок Возрождение', 'деревня Старосиверская',\n",
       "       'посёлок Кикерино', 'поселок Возрождение',\n",
       "       'деревня Старое Хинколово', 'посёлок Пригородный',\n",
       "       'посёлок Торфяное', 'городской посёлок Будогощь',\n",
       "       'поселок Суходолье', 'поселок Красная Долина', 'деревня Хапо-Ое',\n",
       "       'поселок городского типа Дружная Горка', 'поселок Лисий Нос',\n",
       "       'деревня Яльгелево', 'посёлок Стеклянный', 'село Рождествено',\n",
       "       'деревня Старополье', 'посёлок Левашово', 'деревня Сяськелево',\n",
       "       'деревня Камышовка',\n",
       "       'садоводческое некоммерческое товарищество Лесная Поляна',\n",
       "       'деревня Хязельки', 'поселок Жилгородок',\n",
       "       'посёлок городского типа Павлово', 'деревня Ялгино',\n",
       "       'поселок Новый Учхоз', 'городской посёлок Рощино',\n",
       "       'поселок Гончарово', 'поселок Почап', 'посёлок Сапёрное',\n",
       "       'посёлок Платформа 69-й километр', 'поселок Каложицы',\n",
       "       'деревня Фалилеево', 'деревня Пельгора',\n",
       "       'поселок городского типа Лесогорский', 'деревня Торошковичи',\n",
       "       'посёлок Белоостров', 'посёлок Алексеевка', 'поселок Серебрянский',\n",
       "       'поселок Лукаши', 'поселок Петровское', 'деревня Щеглово',\n",
       "       'поселок Мичуринское', 'деревня Тарасово', 'поселок Кингисеппский',\n",
       "       'посёлок при железнодорожной станции Вещево', 'поселок Ушаки',\n",
       "       'деревня Котлы', 'деревня Сижно', 'деревня Торосово',\n",
       "       'посёлок Форт Красная Горка', 'поселок городского типа Токсово',\n",
       "       'деревня Новолисино', 'посёлок станции Громово', 'деревня Глинка',\n",
       "       'посёлок Мельниково', 'поселок городского типа Назия',\n",
       "       'деревня Старая Пустошь', 'поселок Коммунары', 'поселок Починок',\n",
       "       'посёлок городского типа Вознесенье', 'деревня Разбегаево',\n",
       "       'посёлок городского типа Рябово', 'поселок Гладкое',\n",
       "       'посёлок при железнодорожной станции Приветнинское',\n",
       "       'поселок Тёсово-4', 'посёлок Жилгородок', 'деревня Бор',\n",
       "       'посёлок Коробицыно', 'деревня Большая Вруда', 'деревня Курковицы',\n",
       "       'посёлок Лисий Нос', 'городской посёлок Советский',\n",
       "       'посёлок Кобралово', 'деревня Суоранда', 'поселок Кобралово',\n",
       "       'поселок городского типа Кондратьево',\n",
       "       'коттеджный поселок Счастье', 'поселок Любань', 'деревня Реброво',\n",
       "       'деревня Зимитицы', 'деревня Тойворово', 'поселок Семиозерье',\n",
       "       'поселок Лесное', 'поселок Совхозный', 'поселок Усть-Луга',\n",
       "       'посёлок Ленинское', 'посёлок Суйда',\n",
       "       'посёлок городского типа Форносово', 'деревня Нижние Осельки',\n",
       "       'посёлок станции Свирь', 'поселок Перово', 'Высоцк',\n",
       "       'поселок Гарболово', 'село Шум', 'поселок Котельский',\n",
       "       'поселок станции Лужайка', 'деревня Большая Пустомержа',\n",
       "       'поселок Красносельское', 'деревня Вахнова Кара', 'деревня Пижма',\n",
       "       'коттеджный поселок Кивеннапа Север', 'поселок Коробицыно',\n",
       "       'поселок Ромашки', 'посёлок Перово', 'деревня Каськово',\n",
       "       'деревня Куровицы', 'посёлок Плоское', 'поселок Сумино',\n",
       "       'поселок городского типа Большая Ижора', 'поселок Кирпичное',\n",
       "       'деревня Ям-Тесово', 'деревня Раздолье', 'деревня Терпилицы',\n",
       "       'посёлок Шугозеро', 'деревня Ваганово', 'поселок Пушное',\n",
       "       'садовое товарищество Садко', 'посёлок Усть-Ижора',\n",
       "       'деревня Выскатка', 'городской посёлок Свирьстрой',\n",
       "       'поселок Громово', 'деревня Кисельня', 'посёлок Старая Малукса',\n",
       "       'деревня Трубников Бор', 'поселок Калитино',\n",
       "       'посёлок Высокоключевой', 'садовое товарищество Приладожский',\n",
       "       'посёлок Пансионат Зелёный Бор', 'деревня Ненимяки',\n",
       "       'поселок Пансионат Зелёный Бор', 'деревня Снегирёвка',\n",
       "       'деревня Рапполово', 'деревня Пустынка', 'поселок Рабитицы',\n",
       "       'деревня Большой Сабск', 'деревня Русско', 'деревня Лупполово',\n",
       "       'деревня Большое Рейзино', 'деревня Малая Романовка',\n",
       "       'поселок Дружноселье', 'поселок Пчевжа', 'поселок Володарское',\n",
       "       'деревня Нижняя', 'коттеджный посёлок Лесное', 'деревня Тихковицы',\n",
       "       'деревня Борисова Грива', 'посёлок Дзержинского'], dtype=object)"
      ]
     },
     "execution_count": 19,
     "metadata": {},
     "output_type": "execute_result"
    }
   ],
   "source": [
    "# выведем уникальные значения в столбце с названиями и изучим данные\n",
    "data['locality_name'].unique()"
   ]
  },
  {
   "cell_type": "markdown",
   "id": "1beac278",
   "metadata": {},
   "source": [
    "<div style=\"background-color:Azure; color:#black; padding:2%\">\n",
    "    \n",
    "**Какие неявные дубликаты мы можем видеть в столбце locality_name:**\n",
    "- посёлок и поселок - заменим на поселок\n",
    "- городской посёлок и посёлок городского типа (похоже, что это одно и то же) - заменим на поселок городского типа"
   ]
  },
  {
   "cell_type": "code",
   "execution_count": 20,
   "id": "2a6f6220",
   "metadata": {},
   "outputs": [],
   "source": [
    "# избавимся от разных написаний одного и того же населенного пункта\n",
    "data['locality_name'] = (\n",
    "    data['locality_name']\n",
    "    .str.replace('ё', 'е')\n",
    "    .replace(['городской посёлок', 'посёлок городского типа'], 'поселок городского типа', regex = True)\n",
    ")"
   ]
  },
  {
   "cell_type": "code",
   "execution_count": 21,
   "id": "9d347bde",
   "metadata": {},
   "outputs": [
    {
     "data": {
      "text/plain": [
       "330"
      ]
     },
     "execution_count": 21,
     "metadata": {},
     "output_type": "execute_result"
    }
   ],
   "source": [
    "# еще раз выведем количество уникальных значений\n",
    "data['locality_name'].nunique()"
   ]
  },
  {
   "cell_type": "code",
   "execution_count": 22,
   "id": "e39237d9",
   "metadata": {},
   "outputs": [
    {
     "data": {
      "text/plain": [
       "array(['Санкт-Петербург', 'поселок Шушары', 'городской поселок Янино-1',\n",
       "       'поселок Парголово', 'поселок Мурино', 'Ломоносов', 'Сертолово',\n",
       "       'Петергоф', 'Пушкин', 'деревня Кудрово', 'Коммунар', 'Колпино',\n",
       "       'поселок городского типа Красный Бор', 'Гатчина',\n",
       "       'деревня Федоровское', 'Выборг', 'Кронштадт', 'Кировск',\n",
       "       'деревня Новое Девяткино', 'поселок Металлострой',\n",
       "       'поселок городского типа Лебяжье',\n",
       "       'поселок городского типа Сиверский', 'поселок Молодцово',\n",
       "       'поселок городского типа Кузьмоловский',\n",
       "       'садовое товарищество Новая Ропша', 'Павловск',\n",
       "       'деревня Пикколово', 'Всеволожск', 'Волхов', 'Кингисепп',\n",
       "       'Приозерск', 'Сестрорецк', 'деревня Куттузи', 'поселок Аннино',\n",
       "       'поселок городского типа Ефимовский', 'поселок Плодовое',\n",
       "       'деревня Заклинье', 'поселок Торковичи', 'поселок Первомайское',\n",
       "       'Красное Село', 'поселок Понтонный', 'Сясьстрой', 'деревня Старая',\n",
       "       'деревня Лесколово', 'поселок Новый Свет', 'Сланцы',\n",
       "       'село Путилово', 'Ивангород', 'Мурино', 'Шлиссельбург',\n",
       "       'Никольское', 'Зеленогорск', 'Сосновый Бор', 'деревня Оржицы',\n",
       "       'деревня Кальтино', 'Кудрово', 'поселок Романовка',\n",
       "       'поселок Бугры', 'поселок городского типа Рощино', 'Кириши',\n",
       "       'Луга', 'Волосово', 'Отрадное', 'село Павлово', 'поселок Оредеж',\n",
       "       'село Копорье', 'поселок Молодежное', 'Тихвин', 'поселок Победа',\n",
       "       'деревня Нурма', 'поселок городского типа Синявино', 'Тосно',\n",
       "       'поселок Стрельна', 'Бокситогорск', 'поселок Александровская',\n",
       "       'деревня Лопухинка', 'Пикалево', 'поселок Терволово',\n",
       "       'поселок городского типа Советский', 'Подпорожье',\n",
       "       'поселок Петровское', 'поселок городского типа Токсово',\n",
       "       'поселок Сельцо', 'поселок городского типа Вырица',\n",
       "       'деревня Кипень', 'деревня Келози', 'деревня Вартемяги',\n",
       "       'поселок Тельмана', 'поселок Севастьяново',\n",
       "       'городской поселок Большая Ижора', nan,\n",
       "       'городской поселок Павлово', 'деревня Агалатово',\n",
       "       'поселок Новогорелово', 'городской поселок Лесогорский',\n",
       "       'деревня Лаголово', 'поселок Цвелодубово',\n",
       "       'поселок городского типа Рахья', 'деревня Белогорка',\n",
       "       'поселок Заводской', 'городской поселок Новоселье',\n",
       "       'деревня Большие Колпаны', 'деревня Горбунки', 'деревня Батово',\n",
       "       'деревня Заневка', 'деревня Иссад', 'Приморск',\n",
       "       'городской поселок Федоровское', 'деревня Мистолово',\n",
       "       'Новая Ладога', 'поселок Зимитицы', 'поселок Барышево',\n",
       "       'деревня Разметелево', 'поселок городского типа имени Свердлова',\n",
       "       'деревня Пеники', 'поселок Рябово', 'деревня Пудомяги',\n",
       "       'поселок станции Корнево', 'деревня Низино', 'деревня Бегуницы',\n",
       "       'поселок Поляны', 'городской поселок Мга', 'поселок Елизаветино',\n",
       "       'поселок городского типа Кузнечное', 'деревня Колтуши',\n",
       "       'поселок Запорожское', 'деревня Гостилицы',\n",
       "       'деревня Малое Карлино', 'поселок Мичуринское',\n",
       "       'поселок городского типа имени Морозова', 'поселок Песочный',\n",
       "       'поселок Сосново', 'деревня Аро', 'поселок Ильичево',\n",
       "       'поселок городского типа Тайцы', 'деревня Малое Верево',\n",
       "       'деревня Извара', 'поселок станции Вещево', 'село Паша',\n",
       "       'деревня Калитино', 'поселок городского типа Ульяновка',\n",
       "       'деревня Чудской Бор', 'поселок городского типа Дубровка',\n",
       "       'деревня Мины', 'поселок Войсковицы', 'деревня Коркино',\n",
       "       'поселок Ропша', 'поселок городского типа Приладожский',\n",
       "       'поселок Щеглово', 'поселок Гаврилово', 'Лодейное Поле',\n",
       "       'деревня Рабитицы', 'поселок городского типа Никольский',\n",
       "       'деревня Кузьмолово', 'деревня Малые Колпаны',\n",
       "       'поселок Петро-Славянка', 'городской поселок Назия',\n",
       "       'поселок Репино', 'поселок Углово', 'поселок Старая Малукса',\n",
       "       'садовое товарищество Рахья', 'деревня Меньково',\n",
       "       'деревня Старые Бегуницы', 'поселок Саперный', 'поселок Семрино',\n",
       "       'поселок Глажево', 'поселок Кобринское', 'деревня Гарболово',\n",
       "       'деревня Юкки', 'поселок станции Приветнинское',\n",
       "       'деревня Мануйлово', 'деревня Пчева', 'поселок Цвылево',\n",
       "       'поселок Мельниково', 'поселок Пудость', 'поселок Усть-Луга',\n",
       "       'Светогорск', 'Любань', 'поселок Селезнево',\n",
       "       'поселок городского типа Рябово', 'Каменногорск', 'деревня Кривко',\n",
       "       'поселок Глебычево', 'деревня Парицы', 'поселок Жилпоселок',\n",
       "       'поселок городского типа Мга', 'поселок Войскорово',\n",
       "       'село Никольское', 'поселок Стеклянный',\n",
       "       'поселок городского типа Важины', 'поселок Мыза-Ивановка',\n",
       "       'село Русско-Высоцкое', 'поселок городского типа Форносово',\n",
       "       'село Старая Ладога', 'поселок Житково',\n",
       "       'городской поселок Виллози', 'деревня Лампово',\n",
       "       'деревня Шпаньково', 'деревня Лаврики', 'поселок Сумино',\n",
       "       'поселок Возрождение', 'деревня Старосиверская',\n",
       "       'поселок Кикерино', 'деревня Старое Хинколово',\n",
       "       'поселок Пригородный', 'поселок Торфяное',\n",
       "       'городской поселок Будогощь', 'поселок Суходолье',\n",
       "       'поселок Красная Долина', 'деревня Хапо-Ое',\n",
       "       'поселок городского типа Дружная Горка', 'поселок Лисий Нос',\n",
       "       'деревня Яльгелево', 'село Рождествено', 'деревня Старополье',\n",
       "       'поселок Левашово', 'деревня Сяськелево', 'деревня Камышовка',\n",
       "       'садоводческое некоммерческое товарищество Лесная Поляна',\n",
       "       'деревня Хязельки', 'поселок Жилгородок',\n",
       "       'поселок городского типа Павлово', 'деревня Ялгино',\n",
       "       'поселок Новый Учхоз', 'городской поселок Рощино',\n",
       "       'поселок Гончарово', 'поселок Почап', 'поселок Саперное',\n",
       "       'поселок Платформа 69-й километр', 'поселок Каложицы',\n",
       "       'деревня Фалилеево', 'деревня Пельгора',\n",
       "       'поселок городского типа Лесогорский', 'деревня Торошковичи',\n",
       "       'поселок Белоостров', 'поселок Алексеевка', 'поселок Серебрянский',\n",
       "       'поселок Лукаши', 'деревня Щеглово', 'деревня Тарасово',\n",
       "       'поселок Кингисеппский',\n",
       "       'поселок при железнодорожной станции Вещево', 'поселок Ушаки',\n",
       "       'деревня Котлы', 'деревня Сижно', 'деревня Торосово',\n",
       "       'поселок Форт Красная Горка', 'деревня Новолисино',\n",
       "       'поселок станции Громово', 'деревня Глинка',\n",
       "       'поселок городского типа Назия', 'деревня Старая Пустошь',\n",
       "       'поселок Коммунары', 'поселок Починок',\n",
       "       'поселок городского типа Вознесенье', 'деревня Разбегаево',\n",
       "       'поселок Гладкое',\n",
       "       'поселок при железнодорожной станции Приветнинское',\n",
       "       'поселок Тесово-4', 'деревня Бор', 'поселок Коробицыно',\n",
       "       'деревня Большая Вруда', 'деревня Курковицы',\n",
       "       'городской поселок Советский', 'поселок Кобралово',\n",
       "       'деревня Суоранда', 'поселок городского типа Кондратьево',\n",
       "       'коттеджный поселок Счастье', 'поселок Любань', 'деревня Реброво',\n",
       "       'деревня Зимитицы', 'деревня Тойворово', 'поселок Семиозерье',\n",
       "       'поселок Лесное', 'поселок Совхозный', 'поселок Ленинское',\n",
       "       'поселок Суйда', 'деревня Нижние Осельки', 'поселок станции Свирь',\n",
       "       'поселок Перово', 'Высоцк', 'поселок Гарболово', 'село Шум',\n",
       "       'поселок Котельский', 'поселок станции Лужайка',\n",
       "       'деревня Большая Пустомержа', 'поселок Красносельское',\n",
       "       'деревня Вахнова Кара', 'деревня Пижма',\n",
       "       'коттеджный поселок Кивеннапа Север', 'поселок Ромашки',\n",
       "       'деревня Каськово', 'деревня Куровицы', 'поселок Плоское',\n",
       "       'поселок городского типа Большая Ижора', 'поселок Кирпичное',\n",
       "       'деревня Ям-Тесово', 'деревня Раздолье', 'деревня Терпилицы',\n",
       "       'поселок Шугозеро', 'деревня Ваганово', 'поселок Пушное',\n",
       "       'садовое товарищество Садко', 'поселок Усть-Ижора',\n",
       "       'деревня Выскатка', 'городской поселок Свирьстрой',\n",
       "       'поселок Громово', 'деревня Кисельня', 'деревня Трубников Бор',\n",
       "       'поселок Калитино', 'поселок Высокоключевой',\n",
       "       'садовое товарищество Приладожский',\n",
       "       'поселок Пансионат Зеленый Бор', 'деревня Ненимяки',\n",
       "       'деревня Снегиревка', 'деревня Рапполово', 'деревня Пустынка',\n",
       "       'поселок Рабитицы', 'деревня Большой Сабск', 'деревня Русско',\n",
       "       'деревня Лупполово', 'деревня Большое Рейзино',\n",
       "       'деревня Малая Романовка', 'поселок Дружноселье', 'поселок Пчевжа',\n",
       "       'поселок Володарское', 'деревня Нижняя',\n",
       "       'коттеджный поселок Лесное', 'деревня Тихковицы',\n",
       "       'деревня Борисова Грива', 'поселок Дзержинского'], dtype=object)"
      ]
     },
     "execution_count": 22,
     "metadata": {},
     "output_type": "execute_result"
    }
   ],
   "source": [
    "# выведем список уникальных значений\n",
    "data['locality_name'].unique()"
   ]
  },
  {
   "cell_type": "markdown",
   "id": "18cc5ed4",
   "metadata": {},
   "source": [
    "<div style=\"background-color:Azure; color:#black; padding:2%\">\n",
    "\n",
    "***ВЫВОД***\n",
    "    \n",
    "В ходе изучения предоставленной выборки данных мы выявили, что в некоторых столбцах отсутствуют данные, причем в таких столбцах, например, как `is_apartment`, `balcony`, `parks_around3000` и `ponds_around3000` можно заполнить пропуски, руководствуясь логикой. Однако, например, есть столбцы, в которых пропуски лучше не заполнять, например, в столбце `locality_name`.\n",
    "\n",
    "Некоторые столбцы требуют преобразования типа данных, по крайней мере в тех столбцах, где отсутствуют пропуски.\n",
    "    \n",
    "В исходных данных нет явных дубликатов, названия всех столбцов написаны практически единообразно, однако потребовались всё же незначительные видоизменения (например, посёлок в поселок).\n",
    "    \n",
    "Также в некоторых столбцах при взгляде на описательную статистику появились сомнения в правильности предоставленных данных. Это такие столбцы, как `last_price` (очень большой разброс минимального и максимального значения, а также достаточно сильно различаются среднее значение и медиана), столбец `ceiling_height` (также большая разница между минимальным и максимальным значениями), столбцы `living_area` и `kitchen_area` (очень малое значение минимальной площади, нужно изучить подробнее)."
   ]
  },
  {
   "cell_type": "markdown",
   "id": "6b6c7182",
   "metadata": {},
   "source": [
    "## Добавьте в таблицу новые столбцы со следующими параметрами"
   ]
  },
  {
   "cell_type": "markdown",
   "id": "00d822b5",
   "metadata": {},
   "source": [
    "- цена одного квадратного метра (нужно поделить стоимость объекта на его общую площадь, а затем округлить до двух знаков после запятой);\n",
    "- день недели публикации объявления (0 — понедельник, 1 — вторник и так далее);\n",
    "- месяц публикации объявления;\n",
    "- год публикации объявления;\n",
    "- тип этажа квартиры (значения — «‎первый», «последний», «другой»);\n",
    "- расстояние до центра города в километрах (переведите из _м_ в _км_ и округлите до ближайших целых значений)."
   ]
  },
  {
   "cell_type": "code",
   "execution_count": 23,
   "id": "4abeabda",
   "metadata": {},
   "outputs": [],
   "source": [
    "# добавим столбец с ценой одного квадратного метра\n",
    "data['price_per_m2'] = (data['last_price'] / data['total_area']).round(2)"
   ]
  },
  {
   "cell_type": "code",
   "execution_count": 24,
   "id": "04c600dd",
   "metadata": {},
   "outputs": [],
   "source": [
    "# добавим столбец с днем недели публикации объявления\n",
    "data['weekday_exposition'] = data['first_day_exposition'].dt.weekday\n",
    "\n",
    "# добавим столбец с месяцем публикации объявления\n",
    "data['month_exposition'] = data['first_day_exposition'].dt.month\n",
    "\n",
    "# добавим столбец с годом публикации объявления\n",
    "data['year_exposition'] = data['first_day_exposition'].dt.year"
   ]
  },
  {
   "cell_type": "code",
   "execution_count": 25,
   "id": "3e524f63",
   "metadata": {},
   "outputs": [],
   "source": [
    "# добавим столбец с типом этажа квартиры (значения — «первый», «последний», «другой») с помощью функции\n",
    "def floor_type(row):\n",
    "    if row['floor'] == 1:\n",
    "        return 'первый'\n",
    "    if row['floor'] == row['floors_total']:\n",
    "        return 'последний'\n",
    "    else:\n",
    "        return 'другой'\n",
    "data['floor_type'] = data.apply(floor_type, axis=1)"
   ]
  },
  {
   "cell_type": "code",
   "execution_count": 26,
   "id": "d46832ac",
   "metadata": {},
   "outputs": [
    {
     "data": {
      "text/plain": [
       "array(['другой', 'первый', 'последний'], dtype=object)"
      ]
     },
     "execution_count": 26,
     "metadata": {},
     "output_type": "execute_result"
    }
   ],
   "source": [
    "# проверим, как сработала функция, выведем уникальные значения нового столбца\n",
    "data['floor_type'].unique()"
   ]
  },
  {
   "cell_type": "code",
   "execution_count": 27,
   "id": "880e959d",
   "metadata": {},
   "outputs": [],
   "source": [
    "# добавим столбец с расстоянием до центра города в километрах\n",
    "data['city_centers_km'] = (data['city_centers_nearest'] / 1000).round()"
   ]
  },
  {
   "cell_type": "code",
   "execution_count": 28,
   "id": "c291bd08",
   "metadata": {},
   "outputs": [
    {
     "data": {
      "text/html": [
       "<div>\n",
       "<style scoped>\n",
       "    .dataframe tbody tr th:only-of-type {\n",
       "        vertical-align: middle;\n",
       "    }\n",
       "\n",
       "    .dataframe tbody tr th {\n",
       "        vertical-align: top;\n",
       "    }\n",
       "\n",
       "    .dataframe thead th {\n",
       "        text-align: right;\n",
       "    }\n",
       "</style>\n",
       "<table border=\"1\" class=\"dataframe\">\n",
       "  <thead>\n",
       "    <tr style=\"text-align: right;\">\n",
       "      <th></th>\n",
       "      <th>total_images</th>\n",
       "      <th>last_price</th>\n",
       "      <th>total_area</th>\n",
       "      <th>first_day_exposition</th>\n",
       "      <th>rooms</th>\n",
       "      <th>ceiling_height</th>\n",
       "      <th>floors_total</th>\n",
       "      <th>living_area</th>\n",
       "      <th>floor</th>\n",
       "      <th>is_apartment</th>\n",
       "      <th>...</th>\n",
       "      <th>parks_nearest</th>\n",
       "      <th>ponds_around3000</th>\n",
       "      <th>ponds_nearest</th>\n",
       "      <th>days_exposition</th>\n",
       "      <th>price_per_m2</th>\n",
       "      <th>weekday_exposition</th>\n",
       "      <th>month_exposition</th>\n",
       "      <th>year_exposition</th>\n",
       "      <th>floor_type</th>\n",
       "      <th>city_centers_km</th>\n",
       "    </tr>\n",
       "  </thead>\n",
       "  <tbody>\n",
       "    <tr>\n",
       "      <th>23694</th>\n",
       "      <td>9</td>\n",
       "      <td>9700000.0</td>\n",
       "      <td>133.81</td>\n",
       "      <td>2017-03-21</td>\n",
       "      <td>3</td>\n",
       "      <td>3.7</td>\n",
       "      <td>5.0</td>\n",
       "      <td>73.3</td>\n",
       "      <td>3</td>\n",
       "      <td>True</td>\n",
       "      <td>...</td>\n",
       "      <td>796.0</td>\n",
       "      <td>3</td>\n",
       "      <td>381.0</td>\n",
       "      <td>NaN</td>\n",
       "      <td>72490.85</td>\n",
       "      <td>1</td>\n",
       "      <td>3</td>\n",
       "      <td>2017</td>\n",
       "      <td>другой</td>\n",
       "      <td>4.0</td>\n",
       "    </tr>\n",
       "    <tr>\n",
       "      <th>23695</th>\n",
       "      <td>14</td>\n",
       "      <td>3100000.0</td>\n",
       "      <td>59.00</td>\n",
       "      <td>2018-01-15</td>\n",
       "      <td>3</td>\n",
       "      <td>NaN</td>\n",
       "      <td>5.0</td>\n",
       "      <td>38.0</td>\n",
       "      <td>4</td>\n",
       "      <td>True</td>\n",
       "      <td>...</td>\n",
       "      <td>NaN</td>\n",
       "      <td>0</td>\n",
       "      <td>NaN</td>\n",
       "      <td>45.0</td>\n",
       "      <td>52542.37</td>\n",
       "      <td>0</td>\n",
       "      <td>1</td>\n",
       "      <td>2018</td>\n",
       "      <td>другой</td>\n",
       "      <td>NaN</td>\n",
       "    </tr>\n",
       "    <tr>\n",
       "      <th>23696</th>\n",
       "      <td>18</td>\n",
       "      <td>2500000.0</td>\n",
       "      <td>56.70</td>\n",
       "      <td>2018-02-11</td>\n",
       "      <td>2</td>\n",
       "      <td>NaN</td>\n",
       "      <td>3.0</td>\n",
       "      <td>29.7</td>\n",
       "      <td>1</td>\n",
       "      <td>True</td>\n",
       "      <td>...</td>\n",
       "      <td>NaN</td>\n",
       "      <td>0</td>\n",
       "      <td>NaN</td>\n",
       "      <td>NaN</td>\n",
       "      <td>44091.71</td>\n",
       "      <td>6</td>\n",
       "      <td>2</td>\n",
       "      <td>2018</td>\n",
       "      <td>первый</td>\n",
       "      <td>NaN</td>\n",
       "    </tr>\n",
       "    <tr>\n",
       "      <th>23697</th>\n",
       "      <td>13</td>\n",
       "      <td>11475000.0</td>\n",
       "      <td>76.75</td>\n",
       "      <td>2017-03-28</td>\n",
       "      <td>2</td>\n",
       "      <td>3.0</td>\n",
       "      <td>17.0</td>\n",
       "      <td>NaN</td>\n",
       "      <td>12</td>\n",
       "      <td>True</td>\n",
       "      <td>...</td>\n",
       "      <td>173.0</td>\n",
       "      <td>3</td>\n",
       "      <td>196.0</td>\n",
       "      <td>602.0</td>\n",
       "      <td>149511.40</td>\n",
       "      <td>1</td>\n",
       "      <td>3</td>\n",
       "      <td>2017</td>\n",
       "      <td>другой</td>\n",
       "      <td>10.0</td>\n",
       "    </tr>\n",
       "    <tr>\n",
       "      <th>23698</th>\n",
       "      <td>4</td>\n",
       "      <td>1350000.0</td>\n",
       "      <td>32.30</td>\n",
       "      <td>2017-07-21</td>\n",
       "      <td>1</td>\n",
       "      <td>2.5</td>\n",
       "      <td>5.0</td>\n",
       "      <td>12.3</td>\n",
       "      <td>1</td>\n",
       "      <td>True</td>\n",
       "      <td>...</td>\n",
       "      <td>NaN</td>\n",
       "      <td>0</td>\n",
       "      <td>NaN</td>\n",
       "      <td>NaN</td>\n",
       "      <td>41795.67</td>\n",
       "      <td>4</td>\n",
       "      <td>7</td>\n",
       "      <td>2017</td>\n",
       "      <td>первый</td>\n",
       "      <td>NaN</td>\n",
       "    </tr>\n",
       "  </tbody>\n",
       "</table>\n",
       "<p>5 rows × 28 columns</p>\n",
       "</div>"
      ],
      "text/plain": [
       "       total_images  last_price  total_area first_day_exposition  rooms  \\\n",
       "23694             9   9700000.0      133.81           2017-03-21      3   \n",
       "23695            14   3100000.0       59.00           2018-01-15      3   \n",
       "23696            18   2500000.0       56.70           2018-02-11      2   \n",
       "23697            13  11475000.0       76.75           2017-03-28      2   \n",
       "23698             4   1350000.0       32.30           2017-07-21      1   \n",
       "\n",
       "       ceiling_height  floors_total  living_area  floor  is_apartment  ...  \\\n",
       "23694             3.7           5.0         73.3      3          True  ...   \n",
       "23695             NaN           5.0         38.0      4          True  ...   \n",
       "23696             NaN           3.0         29.7      1          True  ...   \n",
       "23697             3.0          17.0          NaN     12          True  ...   \n",
       "23698             2.5           5.0         12.3      1          True  ...   \n",
       "\n",
       "       parks_nearest  ponds_around3000  ponds_nearest  days_exposition  \\\n",
       "23694          796.0                 3          381.0              NaN   \n",
       "23695            NaN                 0            NaN             45.0   \n",
       "23696            NaN                 0            NaN              NaN   \n",
       "23697          173.0                 3          196.0            602.0   \n",
       "23698            NaN                 0            NaN              NaN   \n",
       "\n",
       "      price_per_m2  weekday_exposition  month_exposition  year_exposition  \\\n",
       "23694     72490.85                   1                 3             2017   \n",
       "23695     52542.37                   0                 1             2018   \n",
       "23696     44091.71                   6                 2             2018   \n",
       "23697    149511.40                   1                 3             2017   \n",
       "23698     41795.67                   4                 7             2017   \n",
       "\n",
       "       floor_type  city_centers_km  \n",
       "23694      другой              4.0  \n",
       "23695      другой              NaN  \n",
       "23696      первый              NaN  \n",
       "23697      другой             10.0  \n",
       "23698      первый              NaN  \n",
       "\n",
       "[5 rows x 28 columns]"
      ]
     },
     "execution_count": 28,
     "metadata": {},
     "output_type": "execute_result"
    }
   ],
   "source": [
    "# проверим, что там у нас по добавленным столбцам\n",
    "data.tail()"
   ]
  },
  {
   "cell_type": "markdown",
   "id": "d8dfca91",
   "metadata": {},
   "source": [
    "## Проведите исследовательский анализ данных"
   ]
  },
  {
   "cell_type": "markdown",
   "id": "e2a0af45",
   "metadata": {},
   "source": [
    "### Построение гистограмм для параметров объектов недвижимости"
   ]
  },
  {
   "cell_type": "markdown",
   "id": "b4ddb436",
   "metadata": {},
   "source": [
    "**Список параметров:**\n",
    "- общая площадь\n",
    "- жилая площадь\n",
    "- площадь кухни\n",
    "- цена объекта\n",
    "- количество комнат\n",
    "- высота потолков\n",
    "- тип этажа квартиры («первый», «последний», «другой»)\n",
    "- общее количество этажей в доме\n",
    "- расстояние до центра города в метрах\n",
    "- расстояние до ближайшего парка"
   ]
  },
  {
   "cell_type": "markdown",
   "id": "e67b441d",
   "metadata": {},
   "source": [
    "**Общая площадь**"
   ]
  },
  {
   "cell_type": "code",
   "execution_count": 29,
   "id": "44ab5a13",
   "metadata": {},
   "outputs": [
    {
     "data": {
      "text/plain": [
       "count    23699.000000\n",
       "mean        60.348651\n",
       "std         35.654083\n",
       "min         12.000000\n",
       "25%         40.000000\n",
       "50%         52.000000\n",
       "75%         69.900000\n",
       "max        900.000000\n",
       "Name: total_area, dtype: float64"
      ]
     },
     "execution_count": 29,
     "metadata": {},
     "output_type": "execute_result"
    }
   ],
   "source": [
    "# изучим данные в столбце с общей площадью квартир\n",
    "data['total_area'].describe()"
   ]
  },
  {
   "cell_type": "markdown",
   "id": "19809684",
   "metadata": {},
   "source": [
    "***Судя по разницам среднего, медианного значения и максимальной общей площади квартир, нужно подробнее посмотреть, какие именно значения скорее всего являются выбросами. Понятное дело, что максимальное значение 900 м² скорее всего проставлено некорректно. Нагляднее всего это можно сделать с помощью диаграммы размаха.***"
   ]
  },
  {
   "cell_type": "code",
   "execution_count": 30,
   "id": "8fbd55ca",
   "metadata": {},
   "outputs": [
    {
     "data": {
      "image/png": "[encoded data removed]",
      "text/plain": [
       "<Figure size 360x216 with 1 Axes>"
      ]
     },
     "metadata": {
      "needs_background": "light"
     },
     "output_type": "display_data"
    }
   ],
   "source": [
    "# изучим подробнее, какие именно значения являются выбросами\n",
    "data.boxplot(column='total_area', figsize=(5,3))\n",
    "plt.title('Размах данных общей площади')\n",
    "plt.ylabel('площадь, м²')\n",
    "plt.show()"
   ]
  },
  {
   "cell_type": "markdown",
   "id": "b047c8b9",
   "metadata": {},
   "source": [
    "***Граница верхнего уса находится примерно на значении 150, рассмотрим еще подробнее.***"
   ]
  },
  {
   "cell_type": "code",
   "execution_count": 31,
   "id": "c3913fd8",
   "metadata": {},
   "outputs": [
    {
     "data": {
      "image/png": "[encoded data removed]",
      "text/plain": [
       "<Figure size 360x216 with 1 Axes>"
      ]
     },
     "metadata": {
      "needs_background": "light"
     },
     "output_type": "display_data"
    }
   ],
   "source": [
    "# добавим границу вертикальной оси y\n",
    "data.boxplot(column='total_area', figsize=(5,3))\n",
    "plt.title('Размах данных общей площади')\n",
    "plt.ylabel('площадь, м²')\n",
    "plt.ylim(0,200)\n",
    "plt.show()"
   ]
  },
  {
   "cell_type": "markdown",
   "id": "d57fee89",
   "metadata": {},
   "source": [
    "***Примерно после значения 120 м² данные сливаются в одну жирную линию, очень много таких выбросов. Поэтому при построении гистограммы в качестве нижней границы возьмем минимальное значение (12 м²), а в качестве верхней границы возьмем 120 м².***"
   ]
  },
  {
   "cell_type": "code",
   "execution_count": 32,
   "id": "85d2f6b5",
   "metadata": {},
   "outputs": [
    {
     "data": {
      "image/png": "[encoded data removed]",
      "text/plain": [
       "<Figure size 360x216 with 1 Axes>"
      ]
     },
     "metadata": {
      "needs_background": "light"
     },
     "output_type": "display_data"
    }
   ],
   "source": [
    "# собственно говоря, теперь мы можем построить гистограмму\n",
    "data['total_area'].hist(bins=50, range=(12,120), edgecolor = 'black', legend=True, figsize=(5,3))\n",
    "plt.title('Общая площадь объектов недвижимости')\n",
    "plt.xlabel('площадь, м²')\n",
    "plt.ylabel('количество объектов недвижимости')\n",
    "plt.show()"
   ]
  },
  {
   "cell_type": "markdown",
   "id": "fd105188",
   "metadata": {},
   "source": [
    "***Из гистограммы мы видим, что самый распространённый вариант недвижимости в объявлениях имеет площадь примерно 45 м². Самые редкие варианты - менее 29 м² примерно, а также на спад идет количество объявлений о продаже квартир с площадью более 80 м². Наиболее распространена выборка квартир с площадью от 30 м² до 68 м².***\n",
    "\n",
    "***Среднее значение - 60 м², медианное значение - 52 м².***"
   ]
  },
  {
   "cell_type": "markdown",
   "id": "a056bf23",
   "metadata": {},
   "source": [
    "**Жилая площадь**"
   ]
  },
  {
   "cell_type": "code",
   "execution_count": 33,
   "id": "b2489b74",
   "metadata": {},
   "outputs": [
    {
     "data": {
      "text/plain": [
       "count    21796.000000\n",
       "mean        34.457852\n",
       "std         22.030445\n",
       "min          2.000000\n",
       "25%         18.600000\n",
       "50%         30.000000\n",
       "75%         42.300000\n",
       "max        409.700000\n",
       "Name: living_area, dtype: float64"
      ]
     },
     "execution_count": 33,
     "metadata": {},
     "output_type": "execute_result"
    }
   ],
   "source": [
    "# изучим данные в столбце с жилой площадью квартир\n",
    "data['living_area'].describe()"
   ]
  },
  {
   "cell_type": "markdown",
   "id": "0a75c472",
   "metadata": {},
   "source": [
    "***Аналогично данных по общей площади, опять видим очень большое максимальное значение (409 м²). Проверим данные на предмет выбросов с помощью диаграммы размаха.***"
   ]
  },
  {
   "cell_type": "code",
   "execution_count": 34,
   "id": "ecb6b301",
   "metadata": {},
   "outputs": [
    {
     "data": {
      "image/png": "[encoded data removed]",
      "text/plain": [
       "<Figure size 360x216 with 1 Axes>"
      ]
     },
     "metadata": {
      "needs_background": "light"
     },
     "output_type": "display_data"
    }
   ],
   "source": [
    "# поищем и здесь выбросы\n",
    "data.boxplot(column='living_area', figsize=(5,3))\n",
    "plt.title('Размах данных жилой площади')\n",
    "plt.ylabel('площадь, м²')\n",
    "plt.show()"
   ]
  },
  {
   "cell_type": "markdown",
   "id": "08e93d45",
   "metadata": {},
   "source": [
    "***Примерно после значения площади 90 м², верхней границы \"уса\", данные исключим как выбросы, гистограмму будем строить с верхним значением в 90 м². Минимальную границу все же оставим равной минимальному значению.***"
   ]
  },
  {
   "cell_type": "code",
   "execution_count": 35,
   "id": "1d3209c3",
   "metadata": {},
   "outputs": [
    {
     "data": {
      "image/png": "[encoded data removed]",
      "text/plain": [
       "<Figure size 360x216 with 1 Axes>"
      ]
     },
     "metadata": {
      "needs_background": "light"
     },
     "output_type": "display_data"
    }
   ],
   "source": [
    "# строим гистограмму по данным жилой площади\n",
    "data['living_area'].hist(bins=30, range=(2,90), edgecolor='black', legend=True, figsize=(5,3))\n",
    "plt.title('Жилая площадь объектов недвижимости')\n",
    "plt.xlabel('площадь, м²')\n",
    "plt.ylabel('количество объектов недвижимости')\n",
    "plt.show()"
   ]
  },
  {
   "cell_type": "markdown",
   "id": "4311e768",
   "metadata": {},
   "source": [
    "***Из гистограммы мы видим, что самый распространённый вариант недвижимости в объявлениях имеет жилую площадь в диапазоне примерно от 18 м² до 20 м². Также достаточно часто встречающийся вариант - 30 м². Самые редкие варианты - менее 16 м² примерно, а также довольно редко встречаются объявления о продаже квартир с жилой площадью более 42 м².***\n",
    "\n",
    "***Среднее значение - 35 м², медианное значение - 30 м², что в принципе подтверждается графиком.***"
   ]
  },
  {
   "cell_type": "markdown",
   "id": "67007999",
   "metadata": {},
   "source": [
    "**Площадь кухни**"
   ]
  },
  {
   "cell_type": "code",
   "execution_count": 36,
   "id": "e3118897",
   "metadata": {},
   "outputs": [
    {
     "data": {
      "text/plain": [
       "count    21421.000000\n",
       "mean        10.569807\n",
       "std          5.905438\n",
       "min          1.300000\n",
       "25%          7.000000\n",
       "50%          9.100000\n",
       "75%         12.000000\n",
       "max        112.000000\n",
       "Name: kitchen_area, dtype: float64"
      ]
     },
     "execution_count": 36,
     "metadata": {},
     "output_type": "execute_result"
    }
   ],
   "source": [
    "# изучим данные в столбце с жилой площадью квартир\n",
    "data['kitchen_area'].describe()"
   ]
  },
  {
   "cell_type": "code",
   "execution_count": 37,
   "id": "f449dcb8",
   "metadata": {},
   "outputs": [
    {
     "data": {
      "image/png": "[encoded data removed]",
      "text/plain": [
       "<Figure size 360x216 with 1 Axes>"
      ]
     },
     "metadata": {
      "needs_background": "light"
     },
     "output_type": "display_data"
    }
   ],
   "source": [
    "# исследуем данные на предмет выбросов\n",
    "data.boxplot(column='kitchen_area', figsize=(5,3))\n",
    "plt.title('Размах данных площади кухни')\n",
    "plt.ylabel('площадь, м²')\n",
    "plt.show()"
   ]
  },
  {
   "cell_type": "markdown",
   "id": "a284db29",
   "metadata": {},
   "source": [
    "***Примерно после 19 м² данные исключим как выбросы, гистограмму будем строить с верхним значением в 19 м². Минимальную границу оставим примерно минимальному значению, возьмем 2 м².***"
   ]
  },
  {
   "cell_type": "code",
   "execution_count": 38,
   "id": "de83eedf",
   "metadata": {},
   "outputs": [
    {
     "data": {
      "image/png": "[encoded data removed]",
      "text/plain": [
       "<Figure size 360x216 with 1 Axes>"
      ]
     },
     "metadata": {
      "needs_background": "light"
     },
     "output_type": "display_data"
    }
   ],
   "source": [
    "# строим гистограмму\n",
    "data['kitchen_area'].hist(bins=30, range=(2,19), edgecolor='black', legend=True, figsize=(5,3))\n",
    "plt.title('Площадь кухни объектов недвижимости')\n",
    "plt.xlabel('площадь, м²')\n",
    "plt.ylabel('количество объектов недвижимости')\n",
    "plt.show()"
   ]
  },
  {
   "cell_type": "markdown",
   "id": "8f69bc6d",
   "metadata": {},
   "source": [
    "***Исходя из площади кухни самый распространённый вариант в объявлениях - это квартиры с кухнями примерно 6 м². Также нужно отметить достаточно частные варианты квартир с кухнями площадью 8 м² и 10 м². Самые редкие варианты - менее 5 м² примерно, а также более 15 м².***\n",
    "\n",
    "***Судя по описанию данных, среднее значение - 10 м², медианное значение - 9 м².***"
   ]
  },
  {
   "cell_type": "markdown",
   "id": "3e38ef4f",
   "metadata": {},
   "source": [
    "**Цена объекта**"
   ]
  },
  {
   "cell_type": "code",
   "execution_count": 39,
   "id": "faa41491",
   "metadata": {},
   "outputs": [
    {
     "data": {
      "text/plain": [
       "count    2.369900e+04\n",
       "mean     6.541549e+06\n",
       "std      1.088701e+07\n",
       "min      1.219000e+04\n",
       "25%      3.400000e+06\n",
       "50%      4.650000e+06\n",
       "75%      6.800000e+06\n",
       "max      7.630000e+08\n",
       "Name: last_price, dtype: float64"
      ]
     },
     "execution_count": 39,
     "metadata": {},
     "output_type": "execute_result"
    }
   ],
   "source": [
    "# изучим данные в столбце с жилой площадью квартир, данные представлены в экспоненциальной форме записи чисел\n",
    "data['last_price'].describe()"
   ]
  },
  {
   "cell_type": "code",
   "execution_count": 40,
   "id": "07442a1e",
   "metadata": {},
   "outputs": [],
   "source": [
    "# чтобы посмотреть данные на предмет выбросов, немного преобразуем данные\n",
    "data['last_price'] = data['last_price']/1000000"
   ]
  },
  {
   "cell_type": "code",
   "execution_count": 41,
   "id": "d28a25be",
   "metadata": {},
   "outputs": [
    {
     "data": {
      "text/plain": [
       "count    23699.000000\n",
       "mean         6.541549\n",
       "std         10.887013\n",
       "min          0.012190\n",
       "25%          3.400000\n",
       "50%          4.650000\n",
       "75%          6.800000\n",
       "max        763.000000\n",
       "Name: last_price, dtype: float64"
      ]
     },
     "execution_count": 41,
     "metadata": {},
     "output_type": "execute_result"
    }
   ],
   "source": [
    "# снова посмотрим описание данных по цене\n",
    "data['last_price'].describe()"
   ]
  },
  {
   "cell_type": "code",
   "execution_count": 42,
   "id": "cc226d06",
   "metadata": {},
   "outputs": [
    {
     "data": {
      "image/png": "[encoded data removed]",
      "text/plain": [
       "<Figure size 360x216 with 1 Axes>"
      ]
     },
     "metadata": {
      "needs_background": "light"
     },
     "output_type": "display_data"
    }
   ],
   "source": [
    "# сейчас нам будет удобнее исследовать данные на предмет выбросов с помощью диаграммы размаха\n",
    "data.boxplot(column='last_price', figsize=(5,3))\n",
    "plt.title('Размах данных по цене')\n",
    "plt.ylabel('цена, млн.руб.')\n",
    "# зададим лимит поменьше, чтобы было нагляднее\n",
    "plt.ylim(0,50)\n",
    "plt.show()"
   ]
  },
  {
   "cell_type": "markdown",
   "id": "5b09b234",
   "metadata": {},
   "source": [
    "***Примерно выше 12 млн. руб. данные лучше исключить как выбросы, гистограмму будем строить с верхним значением в 12 млн. руб. Минимальную границу оставим как есть, хоть и нет квартир в Питере и ЛО по цене 12 тыс.руб.***"
   ]
  },
  {
   "cell_type": "code",
   "execution_count": 43,
   "id": "5c8e7dee",
   "metadata": {},
   "outputs": [
    {
     "data": {
      "image/png": "[encoded data removed]",
      "text/plain": [
       "<Figure size 360x216 with 1 Axes>"
      ]
     },
     "metadata": {
      "needs_background": "light"
     },
     "output_type": "display_data"
    }
   ],
   "source": [
    "# строим гистограмму зависимости от цены квартир\n",
    "data['last_price'].hist(bins=20, range=(0.012190,12.0), edgecolor='black', legend=True, figsize=(5,3))\n",
    "plt.title('Цены объектов недвижимости')\n",
    "plt.xlabel('цена, млн.руб.')\n",
    "plt.ylabel('количество объектов недвижимости')\n",
    "plt.show()"
   ]
  },
  {
   "cell_type": "markdown",
   "id": "07df771b",
   "metadata": {},
   "source": [
    "***Судя по гистограмме, самый распространённый вариант стоимости квартир в объявлениях примерно 3,7 - 4,2 млн.руб. Да, в текущих реалиях кажется чем-то из области фантастики, тем более для Питера, однако держим в голове, что данные мы исследуем за 2014-2019 гг. Варианты с ценой более 9 млн.руб. уже гораздо реже встречаются.***\n",
    "\n",
    "***Судя по описанию данных среднее значение по цене - это 6,5 млн.руб., медианное значение - это 4,6 млн.руб.***"
   ]
  },
  {
   "cell_type": "markdown",
   "id": "8bfbd5e2",
   "metadata": {},
   "source": [
    "**Количество комнат**"
   ]
  },
  {
   "cell_type": "code",
   "execution_count": 44,
   "id": "bd8a1fe8",
   "metadata": {},
   "outputs": [
    {
     "data": {
      "text/plain": [
       "count    23699.000000\n",
       "mean         2.070636\n",
       "std          1.078405\n",
       "min          0.000000\n",
       "25%          1.000000\n",
       "50%          2.000000\n",
       "75%          3.000000\n",
       "max         19.000000\n",
       "Name: rooms, dtype: float64"
      ]
     },
     "execution_count": 44,
     "metadata": {},
     "output_type": "execute_result"
    }
   ],
   "source": [
    "# изучим данные в столбце с количеством комнат\n",
    "data['rooms'].describe()"
   ]
  },
  {
   "cell_type": "code",
   "execution_count": 45,
   "id": "77b69d38",
   "metadata": {},
   "outputs": [
    {
     "data": {
      "image/png": "[encoded data removed]",
      "text/plain": [
       "<Figure size 360x216 with 1 Axes>"
      ]
     },
     "metadata": {
      "needs_background": "light"
     },
     "output_type": "display_data"
    }
   ],
   "source": [
    "# сейчас нам будет удобнее исследовать данные на предмет выбросов с помощью диаграммы размаха\n",
    "data.boxplot(column='rooms', figsize=(5,3))\n",
    "plt.title('Размах данных по количеству комнат')\n",
    "plt.ylabel('комнат, шт.')\n",
    "plt.show()"
   ]
  },
  {
   "cell_type": "markdown",
   "id": "fd255e67",
   "metadata": {},
   "source": [
    "***Оставим для построения гистограммы верхнее значение в 6 комнат в квартирах. Да, есть еще значения в 0 комнат, о которых можно было бы спросить тех, кто выгружал нам данные, т.е. действительно ли квартиры с 0 комнат - это студии? Быстро проверим, есть ли в строках с количеством комнат 0 значения в столбце `studio` значение False.***"
   ]
  },
  {
   "cell_type": "code",
   "execution_count": 46,
   "id": "b7a9ff8c",
   "metadata": {},
   "outputs": [
    {
     "data": {
      "text/html": [
       "<div>\n",
       "<style scoped>\n",
       "    .dataframe tbody tr th:only-of-type {\n",
       "        vertical-align: middle;\n",
       "    }\n",
       "\n",
       "    .dataframe tbody tr th {\n",
       "        vertical-align: top;\n",
       "    }\n",
       "\n",
       "    .dataframe thead th {\n",
       "        text-align: right;\n",
       "    }\n",
       "</style>\n",
       "<table border=\"1\" class=\"dataframe\">\n",
       "  <thead>\n",
       "    <tr style=\"text-align: right;\">\n",
       "      <th>studio</th>\n",
       "      <th>False</th>\n",
       "      <th>True</th>\n",
       "    </tr>\n",
       "    <tr>\n",
       "      <th>rooms</th>\n",
       "      <th></th>\n",
       "      <th></th>\n",
       "    </tr>\n",
       "  </thead>\n",
       "  <tbody>\n",
       "    <tr>\n",
       "      <th>0</th>\n",
       "      <td>59.0</td>\n",
       "      <td>138.0</td>\n",
       "    </tr>\n",
       "    <tr>\n",
       "      <th>1</th>\n",
       "      <td>8036.0</td>\n",
       "      <td>11.0</td>\n",
       "    </tr>\n",
       "    <tr>\n",
       "      <th>2</th>\n",
       "      <td>7940.0</td>\n",
       "      <td>NaN</td>\n",
       "    </tr>\n",
       "    <tr>\n",
       "      <th>3</th>\n",
       "      <td>5814.0</td>\n",
       "      <td>NaN</td>\n",
       "    </tr>\n",
       "    <tr>\n",
       "      <th>4</th>\n",
       "      <td>1180.0</td>\n",
       "      <td>NaN</td>\n",
       "    </tr>\n",
       "    <tr>\n",
       "      <th>5</th>\n",
       "      <td>326.0</td>\n",
       "      <td>NaN</td>\n",
       "    </tr>\n",
       "    <tr>\n",
       "      <th>6</th>\n",
       "      <td>105.0</td>\n",
       "      <td>NaN</td>\n",
       "    </tr>\n",
       "    <tr>\n",
       "      <th>7</th>\n",
       "      <td>59.0</td>\n",
       "      <td>NaN</td>\n",
       "    </tr>\n",
       "    <tr>\n",
       "      <th>8</th>\n",
       "      <td>12.0</td>\n",
       "      <td>NaN</td>\n",
       "    </tr>\n",
       "    <tr>\n",
       "      <th>9</th>\n",
       "      <td>8.0</td>\n",
       "      <td>NaN</td>\n",
       "    </tr>\n",
       "    <tr>\n",
       "      <th>10</th>\n",
       "      <td>3.0</td>\n",
       "      <td>NaN</td>\n",
       "    </tr>\n",
       "    <tr>\n",
       "      <th>11</th>\n",
       "      <td>2.0</td>\n",
       "      <td>NaN</td>\n",
       "    </tr>\n",
       "    <tr>\n",
       "      <th>12</th>\n",
       "      <td>1.0</td>\n",
       "      <td>NaN</td>\n",
       "    </tr>\n",
       "    <tr>\n",
       "      <th>14</th>\n",
       "      <td>2.0</td>\n",
       "      <td>NaN</td>\n",
       "    </tr>\n",
       "    <tr>\n",
       "      <th>15</th>\n",
       "      <td>1.0</td>\n",
       "      <td>NaN</td>\n",
       "    </tr>\n",
       "    <tr>\n",
       "      <th>16</th>\n",
       "      <td>1.0</td>\n",
       "      <td>NaN</td>\n",
       "    </tr>\n",
       "    <tr>\n",
       "      <th>19</th>\n",
       "      <td>1.0</td>\n",
       "      <td>NaN</td>\n",
       "    </tr>\n",
       "  </tbody>\n",
       "</table>\n",
       "</div>"
      ],
      "text/plain": [
       "studio   False  True \n",
       "rooms                \n",
       "0         59.0  138.0\n",
       "1       8036.0   11.0\n",
       "2       7940.0    NaN\n",
       "3       5814.0    NaN\n",
       "4       1180.0    NaN\n",
       "5        326.0    NaN\n",
       "6        105.0    NaN\n",
       "7         59.0    NaN\n",
       "8         12.0    NaN\n",
       "9          8.0    NaN\n",
       "10         3.0    NaN\n",
       "11         2.0    NaN\n",
       "12         1.0    NaN\n",
       "14         2.0    NaN\n",
       "15         1.0    NaN\n",
       "16         1.0    NaN\n",
       "19         1.0    NaN"
      ]
     },
     "execution_count": 46,
     "metadata": {},
     "output_type": "execute_result"
    }
   ],
   "source": [
    "#проверим по сводной таблице\n",
    "data.pivot_table(index = 'rooms', columns = 'studio', values = 'is_apartment', aggfunc = 'count')"
   ]
  },
  {
   "cell_type": "markdown",
   "id": "8a762834",
   "metadata": {},
   "source": [
    "***Как мы увидели, даже в строках с количеством комнат 0, есть ложные значения в столбце со студиями. Значит, наша гипотеза не подтвердилась, не всегда количество комнат 0 обозначает, что это студия. Можем построить гистограмму с нижней границей в 1 комнату.***"
   ]
  },
  {
   "cell_type": "code",
   "execution_count": 47,
   "id": "8df5f4f1",
   "metadata": {},
   "outputs": [
    {
     "data": {
      "image/png": "[encoded data removed]",
      "text/plain": [
       "<Figure size 360x216 with 1 Axes>"
      ]
     },
     "metadata": {
      "needs_background": "light"
     },
     "output_type": "display_data"
    }
   ],
   "source": [
    "# строим гистограмму зависимости количества объявлений от количества комнат в квартире\n",
    "data['rooms'].hist(bins=5, range=(1,6), edgecolor='black', legend=True, figsize=(5,3))\n",
    "plt.title('Количество комнат в объектах недвижимости')\n",
    "plt.xlabel('количество комнат, шт.')\n",
    "plt.ylabel('количество объектов недвижимости')\n",
    "plt.show()"
   ]
  },
  {
   "cell_type": "markdown",
   "id": "3bc5da37",
   "metadata": {},
   "source": [
    "***Мы рассмотрели зависимость количества объявлений от количества комнат в указанных объектах недвижимости. Из выборки исключены квартиры с количеством комнат 0 и более 6. Чаще всего в объявлениях встречаются 1-комнатные, практически также часто 2-комнатные квартиры. Дальше, с увеличением количества комнат уменьшается количество объявлений в продаже. Меньше всего вариантов квартир с количеством комнат больше 4.***\n",
    "\n",
    "***Среднее и медианное значение, судя по описанию данных, 2 комнаты.***"
   ]
  },
  {
   "cell_type": "markdown",
   "id": "7cd6c259",
   "metadata": {},
   "source": [
    "**Высота потолков**"
   ]
  },
  {
   "cell_type": "code",
   "execution_count": 48,
   "id": "c9862a53",
   "metadata": {},
   "outputs": [
    {
     "data": {
      "text/plain": [
       "count    14504.000000\n",
       "mean         2.771499\n",
       "std          1.261056\n",
       "min          1.000000\n",
       "25%          2.520000\n",
       "50%          2.650000\n",
       "75%          2.800000\n",
       "max        100.000000\n",
       "Name: ceiling_height, dtype: float64"
      ]
     },
     "execution_count": 48,
     "metadata": {},
     "output_type": "execute_result"
    }
   ],
   "source": [
    "# изучим данные в столбце с высотой потолков\n",
    "data['ceiling_height'].describe()"
   ]
  },
  {
   "cell_type": "markdown",
   "id": "7689ec49",
   "metadata": {},
   "source": [
    "***В столбце `ceiling_height` указана высота потолков 25 м, 32 м, 100 м. Логично предположить, что на самом деле это вещественные значения: 2.5 м и 3.2 м.***"
   ]
  },
  {
   "cell_type": "code",
   "execution_count": 49,
   "id": "4fabca87",
   "metadata": {},
   "outputs": [],
   "source": [
    "# поделим значения столбца, которые больше 20 м, на 10, чтобы восстановить корректность данных\n",
    "data.loc[data['ceiling_height'] >= 20,'ceiling_height'] = data['ceiling_height'] / 10"
   ]
  },
  {
   "cell_type": "code",
   "execution_count": 50,
   "id": "1f258bd5",
   "metadata": {},
   "outputs": [
    {
     "data": {
      "text/plain": [
       "count    14504.000000\n",
       "mean         2.729608\n",
       "std          0.319850\n",
       "min          1.000000\n",
       "25%          2.510000\n",
       "50%          2.650000\n",
       "75%          2.800000\n",
       "max         14.000000\n",
       "Name: ceiling_height, dtype: float64"
      ]
     },
     "execution_count": 50,
     "metadata": {},
     "output_type": "execute_result"
    }
   ],
   "source": [
    "# проверим снова описание данных после деления\n",
    "data['ceiling_height'].describe()"
   ]
  },
  {
   "cell_type": "code",
   "execution_count": 51,
   "id": "b867e898",
   "metadata": {},
   "outputs": [
    {
     "data": {
      "image/png": "[encoded data removed]",
      "text/plain": [
       "<Figure size 360x216 with 1 Axes>"
      ]
     },
     "metadata": {
      "needs_background": "light"
     },
     "output_type": "display_data"
    }
   ],
   "source": [
    "# на всякий случай все равно проверим данные на предмет выбросов с помощью диаграммы размаха\n",
    "data.boxplot(column='ceiling_height', figsize=(5,3))\n",
    "plt.title('Размах данных по высоте потолков')\n",
    "plt.ylabel('высота потолка, м.')\n",
    "plt.ylim(0,10)\n",
    "plt.show()"
   ]
  },
  {
   "cell_type": "markdown",
   "id": "fffffd8f",
   "metadata": {},
   "source": [
    "***Ну да, получается, что значения с высотой потолков больше 3 м можно не учитывать при построении гистограммы, как выбросы. Кстати, это касается и потолков с высотой меньше 2,2 м. Посмотрим, что на гистограмме.***"
   ]
  },
  {
   "cell_type": "code",
   "execution_count": 52,
   "id": "2742acfe",
   "metadata": {},
   "outputs": [
    {
     "data": {
      "image/png": "[encoded data removed]",
      "text/plain": [
       "<Figure size 360x216 with 1 Axes>"
      ]
     },
     "metadata": {
      "needs_background": "light"
     },
     "output_type": "display_data"
    }
   ],
   "source": [
    "# строим гистограмму\n",
    "data.query('(ceiling_height > 2) & (ceiling_height < 3)')['ceiling_height'].hist(\n",
    "    bins=10, \n",
    "    edgecolor='black', \n",
    "    legend=True, \n",
    "    figsize=(5,3)\n",
    "         )\n",
    "plt.title('Высота потолков в объектах недвижимости')\n",
    "plt.xlabel('высота потолка, м.')\n",
    "plt.ylabel('количество объектов недвижимости')\n",
    "plt.show()"
   ]
  },
  {
   "cell_type": "markdown",
   "id": "cb363894",
   "metadata": {},
   "source": [
    "***Получается, самый часто встречающийся вариант объявлений - это квартиры с потолками примерно 2,5 м. Также достаточно частые варианты - это значения высоты потолков - 2,6 м и 2,7 м. И, начиная со значений в 2,8 м количество таких квартир уменьшается.***\n",
    "\n",
    "***Что и подтверждается описанием данных, среднее значение составляет 2,7 м, а медианное - 2,6 м.***"
   ]
  },
  {
   "cell_type": "markdown",
   "id": "278c5521",
   "metadata": {},
   "source": [
    "**Тип этажа квартиры («первый», «последний», «другой»)**"
   ]
  },
  {
   "cell_type": "code",
   "execution_count": 53,
   "id": "e6ea3745",
   "metadata": {},
   "outputs": [
    {
     "data": {
      "text/plain": [
       "count      23699\n",
       "unique         3\n",
       "top       другой\n",
       "freq       17446\n",
       "Name: floor_type, dtype: object"
      ]
     },
     "execution_count": 53,
     "metadata": {},
     "output_type": "execute_result"
    }
   ],
   "source": [
    "# изучим данные в добавленном нами столбце с типом этажа квартиры\n",
    "data['floor_type'].describe()"
   ]
  },
  {
   "cell_type": "code",
   "execution_count": 54,
   "id": "f07086e3",
   "metadata": {},
   "outputs": [
    {
     "data": {
      "text/plain": [
       "другой       17446\n",
       "последний     3336\n",
       "первый        2917\n",
       "Name: floor_type, dtype: int64"
      ]
     },
     "execution_count": 54,
     "metadata": {},
     "output_type": "execute_result"
    }
   ],
   "source": [
    "# однако данные в столбце являются категориальными, поэтому показательнее будет посмотреть другим методом\n",
    "data['floor_type'].value_counts()"
   ]
  },
  {
   "cell_type": "code",
   "execution_count": 55,
   "id": "478a11dc",
   "metadata": {},
   "outputs": [
    {
     "data": {
      "image/png": "[encoded data removed]",
      "text/plain": [
       "<Figure size 432x288 with 1 Axes>"
      ]
     },
     "metadata": {},
     "output_type": "display_data"
    }
   ],
   "source": [
    "# и для отображения наиболее часто встречающегося значения подойдет, например, круговая диаграмма, т.к. значения всего три\n",
    "data['floor_type'].value_counts().plot(kind='pie', y='floor_type', legend=True)\n",
    "plt.show()"
   ]
  },
  {
   "cell_type": "markdown",
   "id": "6c0299d2",
   "metadata": {},
   "source": [
    "***Мы увидели, что наименее популярные объявления - это квартиры на первом и последнем этажах. Визуально 75% от общего количества объявлений - это  квартиры любых других этажей, кроме крайних.***"
   ]
  },
  {
   "cell_type": "markdown",
   "id": "0cc626fe",
   "metadata": {},
   "source": [
    "**Общее количество этажей в доме**"
   ]
  },
  {
   "cell_type": "code",
   "execution_count": 56,
   "id": "ad08135b",
   "metadata": {},
   "outputs": [
    {
     "data": {
      "text/plain": [
       "count    23613.000000\n",
       "mean        10.673824\n",
       "std          6.597173\n",
       "min          1.000000\n",
       "25%          5.000000\n",
       "50%          9.000000\n",
       "75%         16.000000\n",
       "max         60.000000\n",
       "Name: floors_total, dtype: float64"
      ]
     },
     "execution_count": 56,
     "metadata": {},
     "output_type": "execute_result"
    }
   ],
   "source": [
    "# изучим данные в столбце с количеством этажей\n",
    "data['floors_total'].describe()"
   ]
  },
  {
   "cell_type": "code",
   "execution_count": 57,
   "id": "d9db9e91",
   "metadata": {},
   "outputs": [
    {
     "data": {
      "image/png": "[encoded data removed]",
      "text/plain": [
       "<Figure size 360x216 with 1 Axes>"
      ]
     },
     "metadata": {
      "needs_background": "light"
     },
     "output_type": "display_data"
    }
   ],
   "source": [
    "# обязательно проверяем данные на выбросы, потому что максимальное количество этажей - 60, многовато\n",
    "data.boxplot(column='floors_total', figsize=(5,3))\n",
    "plt.title('Размах данных по количеству этажей в доме')\n",
    "plt.ylabel('количество этажей, шт.')\n",
    "plt.show()"
   ]
  },
  {
   "cell_type": "markdown",
   "id": "be274848",
   "metadata": {},
   "source": [
    "***Из графика мы видим, что присутствуют буквально штучные значения в диапазоне от 50 до 60 этажей. Вероятно, это тоже была случайно сделанная не в том месте запятая, однако это слишком приблизительная гипотеза, чтобы мы могли в данном столбце что-либо править. Поэтому оставляем как есть, исключаем значения более 30 этажей, как выбросы.***"
   ]
  },
  {
   "cell_type": "code",
   "execution_count": 58,
   "id": "20066b2c",
   "metadata": {},
   "outputs": [
    {
     "data": {
      "image/png": "[encoded data removed]",
      "text/plain": [
       "<Figure size 360x216 with 1 Axes>"
      ]
     },
     "metadata": {
      "needs_background": "light"
     },
     "output_type": "display_data"
    }
   ],
   "source": [
    "# строим гистограмму зависимости количества объявлений от этажности в доме\n",
    "data['floors_total'].hist(bins=30, range=(1,30), edgecolor='black', legend=True, figsize=(5,3))\n",
    "plt.title('Общее количество этажей в объектах недвижимости')\n",
    "plt.xlabel('количество этажей, шт.')\n",
    "plt.ylabel('количество объектов недвижимости')\n",
    "plt.show()"
   ]
  },
  {
   "cell_type": "markdown",
   "id": "2d818155",
   "metadata": {},
   "source": [
    "***Мы увидели, что самые распространенные дома в данной выборке объявлений - это 5-этажки. Немного меньше объявлений о продаже квартир в 9-этажных домах. Остальные значения встречаются реже.***\n",
    "\n",
    "***Среднее и медианное значение по описанию данных - 10 и 9 соответственно.***"
   ]
  },
  {
   "cell_type": "markdown",
   "id": "8ee5f922",
   "metadata": {},
   "source": [
    "**Расстояние до центра города в метрах**"
   ]
  },
  {
   "cell_type": "code",
   "execution_count": 59,
   "id": "1e937f57",
   "metadata": {},
   "outputs": [
    {
     "data": {
      "text/plain": [
       "count    18180.000000\n",
       "mean     14191.277833\n",
       "std       8608.386210\n",
       "min        181.000000\n",
       "25%       9238.000000\n",
       "50%      13098.500000\n",
       "75%      16293.000000\n",
       "max      65968.000000\n",
       "Name: city_centers_nearest, dtype: float64"
      ]
     },
     "execution_count": 59,
     "metadata": {},
     "output_type": "execute_result"
    }
   ],
   "source": [
    "# изучим, как обстоит дело с данными о расстоянии от центра города\n",
    "data['city_centers_nearest'].describe()"
   ]
  },
  {
   "cell_type": "code",
   "execution_count": 60,
   "id": "c6e4fd2f",
   "metadata": {},
   "outputs": [
    {
     "data": {
      "image/png": "[encoded data removed]",
      "text/plain": [
       "<Figure size 360x216 with 1 Axes>"
      ]
     },
     "metadata": {
      "needs_background": "light"
     },
     "output_type": "display_data"
    }
   ],
   "source": [
    "# традиционно проверим по диаграмме размаха\n",
    "data.boxplot(column='city_centers_nearest', figsize=(5,3))\n",
    "plt.title('Размах данных по расстоянию от центра города')\n",
    "plt.ylabel('расстояние, м.')\n",
    "plt.show()"
   ]
  },
  {
   "cell_type": "markdown",
   "id": "ea19c789",
   "metadata": {},
   "source": [
    "***Как мы видим, для гистограммы можно взять данные с верхней границей до 28 000 м, остальные значения находятся за границей \"нормального размаха\".***"
   ]
  },
  {
   "cell_type": "code",
   "execution_count": 61,
   "id": "c4a75404",
   "metadata": {},
   "outputs": [
    {
     "data": {
      "image/png": "[encoded data removed]",
      "text/plain": [
       "<Figure size 360x216 with 1 Axes>"
      ]
     },
     "metadata": {
      "needs_background": "light"
     },
     "output_type": "display_data"
    }
   ],
   "source": [
    "# строим гистограмму связи количества объявлений от расстояния до центра города\n",
    "data['city_centers_nearest'].hist(bins=80, range=(0,28000), edgecolor='black', legend=True, figsize=(5,3))\n",
    "plt.title('Расстояние от центра города')\n",
    "plt.xlabel('расстояние, м.')\n",
    "plt.ylabel('количество объектов недвижимости')\n",
    "plt.show()"
   ]
  },
  {
   "cell_type": "markdown",
   "id": "87a9602e",
   "metadata": {},
   "source": [
    "***Два наиболее часто встречающихся значения - это квартиры с удалённостью примерно 15 и 12 км от центра города. Также достаточно много объявлений со значениями в 13-14 км. И нельзя не отметить выбивающийся \"хвостик\" количества объявлений со значениями в 5 км от центра.***\n",
    "\n",
    "***Среднее значение по описанию данных - это примерно 14 км и медианное значение примерно 13 км.***"
   ]
  },
  {
   "cell_type": "markdown",
   "id": "f5ec77d9",
   "metadata": {},
   "source": [
    "**Расстояние до ближайшего парка**"
   ]
  },
  {
   "cell_type": "code",
   "execution_count": 62,
   "id": "804cbef1",
   "metadata": {},
   "outputs": [
    {
     "data": {
      "text/plain": [
       "count    8079.000000\n",
       "mean      490.804555\n",
       "std       342.317995\n",
       "min         1.000000\n",
       "25%       288.000000\n",
       "50%       455.000000\n",
       "75%       612.000000\n",
       "max      3190.000000\n",
       "Name: parks_nearest, dtype: float64"
      ]
     },
     "execution_count": 62,
     "metadata": {},
     "output_type": "execute_result"
    }
   ],
   "source": [
    "# посмотрим, что по описанию данных со значениями расстояния до парков\n",
    "data['parks_nearest'].describe()"
   ]
  },
  {
   "cell_type": "code",
   "execution_count": 63,
   "id": "4f6c444b",
   "metadata": {},
   "outputs": [
    {
     "data": {
      "image/png": "[encoded data removed]",
      "text/plain": [
       "<Figure size 360x216 with 1 Axes>"
      ]
     },
     "metadata": {
      "needs_background": "light"
     },
     "output_type": "display_data"
    }
   ],
   "source": [
    "# поищем выбросы\n",
    "data.boxplot(column='parks_nearest', figsize=(5,3))\n",
    "plt.title('Размах данных по расстоянию до ближайшего парка')\n",
    "plt.ylabel('расстояние, м.')\n",
    "plt.show()"
   ]
  },
  {
   "cell_type": "markdown",
   "id": "27ee9414",
   "metadata": {},
   "source": [
    "***В пределах диапазона \"нормального размаха\" оставим значения до 1100 м. С такими значениями построим гистограмму.***"
   ]
  },
  {
   "cell_type": "code",
   "execution_count": 64,
   "id": "f326f83e",
   "metadata": {},
   "outputs": [
    {
     "data": {
      "image/png": "[encoded data removed]",
      "text/plain": [
       "<Figure size 360x216 with 1 Axes>"
      ]
     },
     "metadata": {
      "needs_background": "light"
     },
     "output_type": "display_data"
    }
   ],
   "source": [
    "# строим гистограмму связи количества объявлений от расстояния до ближайшего парка\n",
    "data['parks_nearest'].hist(bins=30, range=(0,1100), edgecolor='black', legend=True, figsize=(5,3))\n",
    "plt.title('Расстояние до ближайшего парка')\n",
    "plt.xlabel('расстояние, м.')\n",
    "plt.ylabel('количество объектов недвижимости')\n",
    "plt.show()"
   ]
  },
  {
   "cell_type": "markdown",
   "id": "86dba4bc",
   "metadata": {},
   "source": [
    "***Большинство квартир в имеющейся выборке объявлений находятся на удалении примерно в 490 м от парков, а также в 400 м. Достаточно часто встречаются объявления со значениями удалённости в примерно 500 с копейками метров, все остальные уже реже.***\n",
    "\n",
    "***Среднее значение по описанию данных - как раз 490 м, медианное значение составляет 450 м.***"
   ]
  },
  {
   "cell_type": "markdown",
   "id": "a2b4237a",
   "metadata": {},
   "source": [
    "<div style=\"background-color:Azure; color:#black; padding:2%\">\n",
    "\n",
    "***ВЫВОД***\n",
    "    \n",
    "Наиболее ходовые объекты на рынке недвижимости Питера и ЛО в 2014-2019 гг - это 1- и 2-комнатные квартиры в домах с 5 и 9 этажами с общей площадью примерно в 45 м², с жилой площадью от 18 до 20 м², площадью кухни около 6 м² с высотой потолков от 2,5 до 2,7 м. При этом популярные квартиры НЕ находятся на первых и последних этажах, достаточно удалены от центра города (скорее всего это спальные районы), примерно на расстоянии 12-15 км, однако с парками поблизости, примерно в 500 метрах. Стоимость популярных объектов недвижимости составляет от 3,7 до 4,2 млн. руб."
   ]
  },
  {
   "cell_type": "markdown",
   "id": "9aac432a",
   "metadata": {},
   "source": [
    "### Изучение скорости продажи квартир"
   ]
  },
  {
   "cell_type": "markdown",
   "id": "90ccf4fb",
   "metadata": {},
   "source": [
    "Значение в столбце `days_exposition`показывает, сколько дней было размещено каждое объявление.\n",
    "   - Постройте гистограмму.\n",
    "   - Посчитайте среднее и медиану.\n",
    "   - В ячейке типа `markdown` опишите, сколько времени обычно занимает продажа. Какие продажи можно считать быстрыми, а какие — необычно долгими?"
   ]
  },
  {
   "cell_type": "code",
   "execution_count": 65,
   "id": "5ccc74f4",
   "metadata": {},
   "outputs": [
    {
     "data": {
      "text/plain": [
       "count    20518.000000\n",
       "mean       180.888634\n",
       "std        219.727988\n",
       "min          1.000000\n",
       "25%         45.000000\n",
       "50%         95.000000\n",
       "75%        232.000000\n",
       "max       1580.000000\n",
       "Name: days_exposition, dtype: float64"
      ]
     },
     "execution_count": 65,
     "metadata": {},
     "output_type": "execute_result"
    }
   ],
   "source": [
    "# сразу проведем описательный анализ данных\n",
    "data['days_exposition'].describe()"
   ]
  },
  {
   "cell_type": "code",
   "execution_count": 66,
   "id": "6592dd4d",
   "metadata": {},
   "outputs": [
    {
     "data": {
      "image/png": "[encoded data removed]",
      "text/plain": [
       "<Figure size 360x216 with 1 Axes>"
      ]
     },
     "metadata": {
      "needs_background": "light"
     },
     "output_type": "display_data"
    }
   ],
   "source": [
    "# постараемся избавиться от слишком длительных значений о продаже квартир\n",
    "data.boxplot(column='days_exposition', figsize=(5,3))\n",
    "plt.title('Размах данных по количеству дней размещения объявления')\n",
    "plt.ylabel('количество дней, шт.')\n",
    "plt.show()"
   ]
  },
  {
   "cell_type": "markdown",
   "id": "02fa840b",
   "metadata": {},
   "source": [
    "***Сразу проследим, что можем взять более точечную выборку с верхней границей до 500 дней.***"
   ]
  },
  {
   "cell_type": "code",
   "execution_count": 67,
   "id": "832a217a",
   "metadata": {},
   "outputs": [
    {
     "data": {
      "image/png": "[encoded data removed]",
      "text/plain": [
       "<Figure size 360x216 with 1 Axes>"
      ]
     },
     "metadata": {
      "needs_background": "light"
     },
     "output_type": "display_data"
    }
   ],
   "source": [
    "data['days_exposition'].hist(bins=80, range=(0,500),edgecolor='black', legend=True, figsize=(5,3))\n",
    "plt.title('Количество дней размещения объявления')\n",
    "plt.xlabel('количество дней, шт.')\n",
    "plt.ylabel('количество объектов недвижимости')\n",
    "plt.show()"
   ]
  },
  {
   "cell_type": "markdown",
   "id": "5e2bb9fc",
   "metadata": {},
   "source": [
    "***На графике отчетливо видны два самых высоких столбика с самыми частыми значениями, для более точного визуала ограничим количество дней значениями до 100 и посмотрим, что получилось.***"
   ]
  },
  {
   "cell_type": "code",
   "execution_count": 68,
   "id": "2d7bc5b7",
   "metadata": {},
   "outputs": [
    {
     "data": {
      "image/png": "[encoded data removed]",
      "text/plain": [
       "<Figure size 360x216 with 1 Axes>"
      ]
     },
     "metadata": {
      "needs_background": "light"
     },
     "output_type": "display_data"
    }
   ],
   "source": [
    "data['days_exposition'].hist(bins=80, range=(0,100),edgecolor='black', legend=True, figsize=(5,3))\n",
    "plt.title('Количество дней размещения объявления')\n",
    "plt.xlabel('количество дней, шт.')\n",
    "plt.ylabel('количество объектов недвижимости')\n",
    "plt.show()"
   ]
  },
  {
   "cell_type": "markdown",
   "id": "29d2b7b7",
   "metadata": {},
   "source": [
    "***Теперь с определенностью можно сказать, что процесс продажи квартиры чаще всего занимает 45 дней, также достаточно часто квартиры продаются за 60 дней размещения объявления.***"
   ]
  },
  {
   "cell_type": "markdown",
   "id": "2db7b2c6",
   "metadata": {},
   "source": [
    "<div style=\"background-color:Azure; color:#black; padding:2%\">\n",
    "\n",
    "***ВЫВОД***\n",
    "    \n",
    "Судя по описательной статистике среднее значение дней публикации составляет 180 дней, медианное значение - 95 дней, что меньше практически в два раза, чем среднее. Это значит, что в исходных данных имеется значительное количество выбросов, которые мы отследили с помощью диаграммы размаха, выбрав верхней границей срок до 500 дней. Максимальное значение кажется слишком большим, 1580 дней.\n",
    "\n",
    "Судя по справке Яндекс.Недвижимость, максимальный срок публикации объявления по продажам квартир и комнат — 365 дней. Возможно, в 2014-2019 гг. срок публикации объявлений был другим. Также по текущим данным есть информация (https://yandex.ru/support/realty/agency/home/add-ads-housing.html#publication-time), что в течение срока от 45 дней объявление считается актуальным (что интересно, в ходе анализа данных мы выяснили, что процесс продажи квартиры чаще всего занимает именно 45 дней). Возможно в данных, которые предоставлены нам, объявления не были сняты с публикации даже после продажи квартиры, поэтому попали к нам в выборку.\n",
    "\n",
    "Быстрой можно считать продажу в течение 45 дней (это первый квартиль в нашей описательной статистике), долгая продажа получилась более 232 дней (третий квартиль в статистике). Необычайно долгой продажей можно посчитать срок от 232 до 500 дней, потому что значения свыше 500 дней (по диаграмме размаха) мы отсекли как выбросы."
   ]
  },
  {
   "cell_type": "markdown",
   "id": "b3c2a309",
   "metadata": {},
   "source": [
    "### Определение факторов, которые больше всего влияют на общую (полную) стоимость объекта"
   ]
  },
  {
   "cell_type": "markdown",
   "id": "f9db9eec",
   "metadata": {},
   "source": [
    "Изучите, зависит ли цена от:\n",
    "    \n",
    "   - общей площади;\n",
    "   - жилой площади;\n",
    "   - площади кухни;\n",
    "   - количества комнат;\n",
    "   - этажа, на котором расположена квартира (первый, последний, другой);\n",
    "   - даты размещения (день недели, месяц, год).\n",
    "    \n",
    "Постройте графики, которые покажут зависимость цены от указанных выше параметров. Для подготовки данных перед визуализацией вы можете использовать сводные таблицы."
   ]
  },
  {
   "cell_type": "code",
   "execution_count": 69,
   "id": "2089b0c2",
   "metadata": {},
   "outputs": [
    {
     "name": "stdout",
     "output_type": "stream",
     "text": [
      "0.6536750579657243\n",
      "0.5664915336952652\n",
      "0.5198690130216389\n",
      "0.3633428499648948\n"
     ]
    }
   ],
   "source": [
    "# либо это можно сделать попарно\n",
    "print(data['last_price'].corr(data['total_area']))\n",
    "print(data['last_price'].corr(data['living_area']))\n",
    "print(data['last_price'].corr(data['kitchen_area']))\n",
    "print(data['last_price'].corr(data['rooms']))"
   ]
  },
  {
   "cell_type": "code",
   "execution_count": 70,
   "id": "cb77d26f",
   "metadata": {},
   "outputs": [
    {
     "data": {
      "text/html": [
       "<div>\n",
       "<style scoped>\n",
       "    .dataframe tbody tr th:only-of-type {\n",
       "        vertical-align: middle;\n",
       "    }\n",
       "\n",
       "    .dataframe tbody tr th {\n",
       "        vertical-align: top;\n",
       "    }\n",
       "\n",
       "    .dataframe thead th {\n",
       "        text-align: right;\n",
       "    }\n",
       "</style>\n",
       "<table border=\"1\" class=\"dataframe\">\n",
       "  <thead>\n",
       "    <tr style=\"text-align: right;\">\n",
       "      <th></th>\n",
       "      <th>last_price</th>\n",
       "      <th>total_area</th>\n",
       "      <th>living_area</th>\n",
       "      <th>kitchen_area</th>\n",
       "    </tr>\n",
       "  </thead>\n",
       "  <tbody>\n",
       "    <tr>\n",
       "      <th>last_price</th>\n",
       "      <td>1.000000</td>\n",
       "      <td>0.653675</td>\n",
       "      <td>0.566492</td>\n",
       "      <td>0.519869</td>\n",
       "    </tr>\n",
       "    <tr>\n",
       "      <th>total_area</th>\n",
       "      <td>0.653675</td>\n",
       "      <td>1.000000</td>\n",
       "      <td>0.939537</td>\n",
       "      <td>0.609121</td>\n",
       "    </tr>\n",
       "    <tr>\n",
       "      <th>living_area</th>\n",
       "      <td>0.566492</td>\n",
       "      <td>0.939537</td>\n",
       "      <td>1.000000</td>\n",
       "      <td>0.428674</td>\n",
       "    </tr>\n",
       "    <tr>\n",
       "      <th>kitchen_area</th>\n",
       "      <td>0.519869</td>\n",
       "      <td>0.609121</td>\n",
       "      <td>0.428674</td>\n",
       "      <td>1.000000</td>\n",
       "    </tr>\n",
       "  </tbody>\n",
       "</table>\n",
       "</div>"
      ],
      "text/plain": [
       "              last_price  total_area  living_area  kitchen_area\n",
       "last_price      1.000000    0.653675     0.566492      0.519869\n",
       "total_area      0.653675    1.000000     0.939537      0.609121\n",
       "living_area     0.566492    0.939537     1.000000      0.428674\n",
       "kitchen_area    0.519869    0.609121     0.428674      1.000000"
      ]
     },
     "metadata": {},
     "output_type": "display_data"
    }
   ],
   "source": [
    "# либо список параметров, нужных для сравнения просто передать\n",
    "params = ['last_price',\n",
    "    'total_area',\n",
    "    'living_area',\n",
    "    'kitchen_area'\n",
    "         ]\n",
    "display(data[params].corr())"
   ]
  },
  {
   "cell_type": "markdown",
   "id": "a4b8e20b",
   "metadata": {},
   "source": [
    "***По матрице корреляции в первую очередь мы видим прямопропорциональную зависимость стоимости квартиры и общей площади (0.653675), а также достаточно сильную связь цены и жилой площади (0.566492), и наконец зависимость между стоимостью квартиры и площадью кухни (0.519869).***\n",
    "\n",
    "***Построим диаграммы рассеяния попарно для стоимости квартиры с указанными в задании величинами.***"
   ]
  },
  {
   "cell_type": "code",
   "execution_count": 71,
   "id": "bc3a3c94",
   "metadata": {},
   "outputs": [
    {
     "data": {
      "image/png": "[encoded data removed]",
      "text/plain": [
       "<Figure size 360x216 with 1 Axes>"
      ]
     },
     "metadata": {
      "needs_background": "light"
     },
     "output_type": "display_data"
    }
   ],
   "source": [
    "# исследуем связь цены квартиры от общей площади с помощью диаграммы рассеяния\n",
    "data.pivot_table(index='total_area', values='last_price').plot(grid=True, style='o', figsize=(5, 3), alpha = 0.3)\n",
    "plt.title('Зависимость цены от общей площади')\n",
    "plt.xlabel('площадь, м²')\n",
    "plt.ylabel('стоимость, млн.руб.')\n",
    "plt.show()"
   ]
  },
  {
   "cell_type": "markdown",
   "id": "d15a88f9",
   "metadata": {},
   "source": []
  },
  {
   "cell_type": "markdown",
   "id": "a447e569",
   "metadata": {},
   "source": [
    "***Как мы видим по диаграмме - прямая связь между ценой квартиры и общей площадью прослеживается очень четко! Что логично - чем больше площадь квартиры, тем квартира дороже.***"
   ]
  },
  {
   "cell_type": "code",
   "execution_count": 72,
   "id": "080dd3e1",
   "metadata": {},
   "outputs": [
    {
     "data": {
      "image/png": "[encoded data removed]",
      "text/plain": [
       "<Figure size 360x216 with 1 Axes>"
      ]
     },
     "metadata": {
      "needs_background": "light"
     },
     "output_type": "display_data"
    }
   ],
   "source": [
    "# исследуем связь цены квартиры от жилой площади с помощью диаграммы рассеяния\n",
    "data.pivot_table(index='living_area', values='last_price').plot(grid=True, style='o', figsize=(5, 3), alpha = 0.3)\n",
    "plt.title('Зависимость цены от жилой площади')\n",
    "plt.xlabel('площадь, м²')\n",
    "plt.ylabel('стоимость, млн.руб.')\n",
    "plt.show()"
   ]
  },
  {
   "cell_type": "markdown",
   "id": "7f564f56",
   "metadata": {},
   "source": [
    "***Практически также, как и в прежней паре параметров - и жилая площадь квартиры влияет на ее стоимость, визуально связь чуть слабее. Тоже логично - чем больше жилая площадь квартиры, тем квартира дороже.***"
   ]
  },
  {
   "cell_type": "code",
   "execution_count": 73,
   "id": "805a8f9a",
   "metadata": {},
   "outputs": [
    {
     "data": {
      "image/png": "[encoded data removed]",
      "text/plain": [
       "<Figure size 360x216 with 1 Axes>"
      ]
     },
     "metadata": {
      "needs_background": "light"
     },
     "output_type": "display_data"
    }
   ],
   "source": [
    "# исследуем связь цены квартиры от площади кухни с помощью диаграммы рассеяния\n",
    "data.pivot_table(index='kitchen_area', values='last_price').plot(grid=True, style='o', figsize=(5, 3), alpha = 0.3)\n",
    "plt.title('Зависимость цены от площади кухни')\n",
    "plt.xlabel('площадь, м²')\n",
    "plt.ylabel('стоимость, млн.руб.')\n",
    "plt.show()"
   ]
  },
  {
   "cell_type": "markdown",
   "id": "a4d24acf",
   "metadata": {},
   "source": [
    "***Связь также есть, но уже визуально гораздо слабее, чем в предыдущих двух парах. На увеличение стоимости квартиры немного влияет метраж в принципе, в данном случае метраж кухни.***"
   ]
  },
  {
   "cell_type": "code",
   "execution_count": 74,
   "id": "ef7bd5cb",
   "metadata": {},
   "outputs": [
    {
     "data": {
      "image/png": "[encoded data removed]",
      "text/plain": [
       "<Figure size 864x432 with 1 Axes>"
      ]
     },
     "metadata": {
      "needs_background": "light"
     },
     "output_type": "display_data"
    }
   ],
   "source": [
    "# теперь исследуем связь цены квартиры от количества комнат с помощью диаграммы рассеяния\n",
    "data.plot(x = 'rooms', y = 'last_price', style='o', grid=True, figsize=(12, 6), alpha=0.5)\n",
    "plt.title('Зависимость цены от количества комнат')\n",
    "plt.xlabel('количество, шт.')\n",
    "plt.ylabel('стоимость, млн.руб.')\n",
    "plt.show()"
   ]
  },
  {
   "cell_type": "markdown",
   "id": "07712ab9",
   "metadata": {},
   "source": [
    "***Из графика мы видим некоторую связь, да. Однако \"хвост\" графика идет вверх до достижения значения в 5 комнат, а затем начинает снижаться. Площадь комнат может быть разная, могут быть квартиры с 2 комнатами больше по площади, чем с 6 комнатами.***"
   ]
  },
  {
   "cell_type": "code",
   "execution_count": 75,
   "id": "704b538a",
   "metadata": {},
   "outputs": [
    {
     "data": {
      "text/html": [
       "<div>\n",
       "<style scoped>\n",
       "    .dataframe tbody tr th:only-of-type {\n",
       "        vertical-align: middle;\n",
       "    }\n",
       "\n",
       "    .dataframe tbody tr th {\n",
       "        vertical-align: top;\n",
       "    }\n",
       "\n",
       "    .dataframe thead tr th {\n",
       "        text-align: left;\n",
       "    }\n",
       "\n",
       "    .dataframe thead tr:last-of-type th {\n",
       "        text-align: right;\n",
       "    }\n",
       "</style>\n",
       "<table border=\"1\" class=\"dataframe\">\n",
       "  <thead>\n",
       "    <tr>\n",
       "      <th></th>\n",
       "      <th>median</th>\n",
       "      <th>mean</th>\n",
       "    </tr>\n",
       "    <tr>\n",
       "      <th></th>\n",
       "      <th>last_price</th>\n",
       "      <th>last_price</th>\n",
       "    </tr>\n",
       "    <tr>\n",
       "      <th>floor_type</th>\n",
       "      <th></th>\n",
       "      <th></th>\n",
       "    </tr>\n",
       "  </thead>\n",
       "  <tbody>\n",
       "    <tr>\n",
       "      <th>другой</th>\n",
       "      <td>4.85</td>\n",
       "      <td>6.675444</td>\n",
       "    </tr>\n",
       "    <tr>\n",
       "      <th>первый</th>\n",
       "      <td>3.90</td>\n",
       "      <td>4.803560</td>\n",
       "    </tr>\n",
       "    <tr>\n",
       "      <th>последний</th>\n",
       "      <td>4.30</td>\n",
       "      <td>7.361025</td>\n",
       "    </tr>\n",
       "  </tbody>\n",
       "</table>\n",
       "</div>"
      ],
      "text/plain": [
       "               median       mean\n",
       "           last_price last_price\n",
       "floor_type                      \n",
       "другой           4.85   6.675444\n",
       "первый           3.90   4.803560\n",
       "последний        4.30   7.361025"
      ]
     },
     "execution_count": 75,
     "metadata": {},
     "output_type": "execute_result"
    }
   ],
   "source": [
    "# теперь исследуем отдельно связь между пропущенным ранее типом этажа и стоимость квартиры, сводная таблица нам в помощь\n",
    "data.pivot_table(index='floor_type', values='last_price', aggfunc=['median', 'mean'])"
   ]
  },
  {
   "cell_type": "markdown",
   "id": "faf3d495",
   "metadata": {},
   "source": [
    "***Из таблички сразу видим, что стоимость квартир реально отличается в зависимости от типа этажа. Объявления о продаже квартир на первом этаже в представленной выборке являются самыми недорогими, чуть дороже квартиры на последних этажах. Однако квартиры на крайних этажах в любом случае уступают по цене другим этажам.***\n",
    "\n",
    "***Подтвердим нашу гипотезу с помощью графика.***"
   ]
  },
  {
   "cell_type": "code",
   "execution_count": 76,
   "id": "c6084820",
   "metadata": {},
   "outputs": [
    {
     "data": {
      "image/png": "[encoded data removed]",
      "text/plain": [
       "<Figure size 360x216 with 1 Axes>"
      ]
     },
     "metadata": {
      "needs_background": "light"
     },
     "output_type": "display_data"
    }
   ],
   "source": [
    "data.pivot_table(index='floor_type', values='last_price', aggfunc=['median', 'mean']).plot(\n",
    "    y='median',\n",
    "    grid=True,\n",
    "    style='o-',\n",
    "    figsize=(5, 3)\n",
    ")\n",
    "plt.title('Зависимость цены от этажа квартиры')\n",
    "plt.xlabel('тип этажа')\n",
    "plt.ylabel('стоимость, млн.руб.')\n",
    "plt.show()"
   ]
  },
  {
   "cell_type": "markdown",
   "id": "e221d13b",
   "metadata": {},
   "source": [
    "***Теперь интересно проследить, есть ли взаимосвязь между стоимостью квартиры и датой размещения объявления, отдельно по дню, месяцу и году. Возможно, здесь нам подойдет столбчатая диаграмма.***"
   ]
  },
  {
   "cell_type": "code",
   "execution_count": 77,
   "id": "ffaaf0da",
   "metadata": {},
   "outputs": [
    {
     "data": {
      "image/png": "[encoded data removed]",
      "text/plain": [
       "<Figure size 360x216 with 1 Axes>"
      ]
     },
     "metadata": {
      "needs_background": "light"
     },
     "output_type": "display_data"
    },
    {
     "data": {
      "image/png": "[encoded data removed]",
      "text/plain": [
       "<Figure size 360x216 with 1 Axes>"
      ]
     },
     "metadata": {
      "needs_background": "light"
     },
     "output_type": "display_data"
    },
    {
     "data": {
      "image/png": "[encoded data removed]",
      "text/plain": [
       "<Figure size 360x216 with 1 Axes>"
      ]
     },
     "metadata": {
      "needs_background": "light"
     },
     "output_type": "display_data"
    }
   ],
   "source": [
    "# посмотрим зависимость цены квартиры от дня размещения объявления\n",
    "data.pivot_table(index='weekday_exposition', values='last_price').plot(grid=True, style='o-', figsize=(5, 3), kind='bar')\n",
    "plt.title('Зависимость цены от дня публикации')\n",
    "plt.xlabel('день публикации')\n",
    "plt.ylabel('стоимость, млн.руб.')\n",
    "plt.show()\n",
    "\n",
    "# посмотрим зависимость цены квартиры от месяца размещения объявления\n",
    "data.pivot_table(index='month_exposition', values='last_price').plot(grid=True, style='o-', figsize=(5, 3), kind='bar')\n",
    "plt.title('Зависимость цены от месяца публикации')\n",
    "plt.xlabel('месяц публикации')\n",
    "plt.ylabel('стоимость, млн.руб.')\n",
    "plt.show()\n",
    "\n",
    "# посмотрим зависимость цены квартиры от года размещения объявления\n",
    "data.pivot_table(index='year_exposition', values='last_price').plot(grid=True, style='o-', figsize=(5, 3), kind='bar')\n",
    "plt.title('Зависимость цены от года публикации')\n",
    "plt.xlabel('год публикации')\n",
    "plt.ylabel('стоимость, млн.руб.')\n",
    "plt.show()"
   ]
  },
  {
   "cell_type": "markdown",
   "id": "02dffa87",
   "metadata": {},
   "source": [
    "***Очень явно видно, что никакой зависимости от дня и месяца публикации объявления нет. Обращает на себя наше внимание последний график, всё-таки год размещения объявления повлиял на стоимость квартиры. В принципе да, цены с течением времени могут меняться, однако по логике можно было бы предположить, что в сторону увеличения стоимости, а у нас получилось как будто бы наоборот.***\n",
    "\n",
    "***Скорее всего на это влияет и то,что было размещено просто меньше вариантов более дорогих квартир, так как они стали менее ходовыми с течением времени.***"
   ]
  },
  {
   "cell_type": "markdown",
   "id": "6fef2fd0",
   "metadata": {},
   "source": [
    "<div style=\"background-color:Azure; color:#black; padding:2%\">\n",
    "\n",
    "***ВЫВОД***\n",
    "    \n",
    "Мы проследили наглядно, что среди всех указанных параметров на стоимость квартиры влияют сильнее всего те, которые связаны с площадью объекта недвижимости (это общая/ жилая площадь и немного площадь кухни), т.е. чем больше площадь, тем дороже объект; а также есть связь с тем, на каком этаже расположена квартира, т.е. наименее дорогие квартиры находятся на первых и последних этажах, однако стоимость выше у квартир других этажей.\n",
    "    \n",
    "Также на самом последнем графике мы отследили взаимосвязь стоимости квартиры от года размещения объявления, с течением времени стоимость поползла вниз, т.е. по сравнению с 2014 годом стоимость квартир к 2019 году достаточно заметно уменьшилась."
   ]
  },
  {
   "cell_type": "markdown",
   "id": "e23d1522",
   "metadata": {},
   "source": [
    "### Подсчет средней цены одного м² в 10 населённых пунктах с наибольшим числом объявлений"
   ]
  },
  {
   "cell_type": "markdown",
   "id": "ad41e502",
   "metadata": {},
   "source": [
    "Постройте сводную таблицу с количеством объявлений и средней ценой квадратного метра для этих населенных пунктов. Выделите населённые пункты с самой высокой и низкой стоимостью квадратного метра."
   ]
  },
  {
   "cell_type": "code",
   "execution_count": 78,
   "id": "5a579ce6",
   "metadata": {},
   "outputs": [
    {
     "data": {
      "text/html": [
       "<div>\n",
       "<style scoped>\n",
       "    .dataframe tbody tr th:only-of-type {\n",
       "        vertical-align: middle;\n",
       "    }\n",
       "\n",
       "    .dataframe tbody tr th {\n",
       "        vertical-align: top;\n",
       "    }\n",
       "\n",
       "    .dataframe thead th {\n",
       "        text-align: right;\n",
       "    }\n",
       "</style>\n",
       "<table border=\"1\" class=\"dataframe\">\n",
       "  <thead>\n",
       "    <tr style=\"text-align: right;\">\n",
       "      <th></th>\n",
       "      <th>balcony</th>\n",
       "      <th>price_per_m2</th>\n",
       "    </tr>\n",
       "    <tr>\n",
       "      <th>locality_name</th>\n",
       "      <th></th>\n",
       "      <th></th>\n",
       "    </tr>\n",
       "  </thead>\n",
       "  <tbody>\n",
       "    <tr>\n",
       "      <th>Санкт-Петербург</th>\n",
       "      <td>15721</td>\n",
       "      <td>114849.0</td>\n",
       "    </tr>\n",
       "    <tr>\n",
       "      <th>поселок Мурино</th>\n",
       "      <td>556</td>\n",
       "      <td>85682.0</td>\n",
       "    </tr>\n",
       "    <tr>\n",
       "      <th>поселок Шушары</th>\n",
       "      <td>440</td>\n",
       "      <td>78677.0</td>\n",
       "    </tr>\n",
       "    <tr>\n",
       "      <th>Всеволожск</th>\n",
       "      <td>398</td>\n",
       "      <td>68654.0</td>\n",
       "    </tr>\n",
       "    <tr>\n",
       "      <th>Пушкин</th>\n",
       "      <td>369</td>\n",
       "      <td>103126.0</td>\n",
       "    </tr>\n",
       "    <tr>\n",
       "      <th>Колпино</th>\n",
       "      <td>338</td>\n",
       "      <td>75425.0</td>\n",
       "    </tr>\n",
       "    <tr>\n",
       "      <th>поселок Парголово</th>\n",
       "      <td>327</td>\n",
       "      <td>90176.0</td>\n",
       "    </tr>\n",
       "    <tr>\n",
       "      <th>Гатчина</th>\n",
       "      <td>307</td>\n",
       "      <td>68746.0</td>\n",
       "    </tr>\n",
       "    <tr>\n",
       "      <th>деревня Кудрово</th>\n",
       "      <td>299</td>\n",
       "      <td>92474.0</td>\n",
       "    </tr>\n",
       "    <tr>\n",
       "      <th>Выборг</th>\n",
       "      <td>237</td>\n",
       "      <td>58142.0</td>\n",
       "    </tr>\n",
       "  </tbody>\n",
       "</table>\n",
       "</div>"
      ],
      "text/plain": [
       "                   balcony  price_per_m2\n",
       "locality_name                           \n",
       "Санкт-Петербург      15721      114849.0\n",
       "поселок Мурино         556       85682.0\n",
       "поселок Шушары         440       78677.0\n",
       "Всеволожск             398       68654.0\n",
       "Пушкин                 369      103126.0\n",
       "Колпино                338       75425.0\n",
       "поселок Парголово      327       90176.0\n",
       "Гатчина                307       68746.0\n",
       "деревня Кудрово        299       92474.0\n",
       "Выборг                 237       58142.0"
      ]
     },
     "execution_count": 78,
     "metadata": {},
     "output_type": "execute_result"
    }
   ],
   "source": [
    "# сделаем сводную таблицу, сгруппировав 10 самых популярных объявлений и добавив среднюю цену за м²\n",
    "round(data.groupby('locality_name').agg({'balcony':'count', 'price_per_m2':'mean'}) \\\n",
    "    .sort_values(by = 'balcony', ascending = False) \\\n",
    "    .head(10))"
   ]
  },
  {
   "cell_type": "markdown",
   "id": "325cdc6d",
   "metadata": {},
   "source": [
    "<div style=\"background-color:Azure; color:#black; padding:2%\">\n",
    "\n",
    "***ВЫВОД***\n",
    "    \n",
    "Два самых дорогих по цене за квадратный метр (больше 100 тыс. руб.) населённых пункта - это Санкт-Петербург (114 849 руб. за м²), что ожидаемо, это самый крупный город в представленной выборке, а также г. Пушкин (103 126 руб. за м²), скорее всего потому что город считается крупным туристическим и историческим центром.\n",
    "    \n",
    "Наименее дорогим населённым пунктом по цене за квардратный метр оказался Выборг (58 142 руб. за м²)."
   ]
  },
  {
   "cell_type": "markdown",
   "id": "1ad34b6c",
   "metadata": {},
   "source": [
    "### Подсчёт средней стоимости квартир в Санкт-Петербурге на разном удалении от центра."
   ]
  },
  {
   "cell_type": "markdown",
   "id": "32f0933d",
   "metadata": {},
   "source": [
    "Выделите квартиры в Санкт-Петербурге с помощью столбца `locality_name` и вычислите их среднюю стоимость на разном удалении от центра. Учитывайте каждый километр расстояния: узнайте среднюю цену квартир в одном километре от центра, в двух и так далее. Опишите, как стоимость объектов зависит от расстояния до центра города — постройте график изменения средней цены для каждого километра от центра Петербурга."
   ]
  },
  {
   "cell_type": "code",
   "execution_count": 80,
   "id": "2f97a099",
   "metadata": {},
   "outputs": [],
   "source": [
    "# выделим квартиры только в Санкт-Петербурге\n",
    "flats_spb = data.query('locality_name == \"Санкт-Петербург\"')"
   ]
  },
  {
   "cell_type": "code",
   "execution_count": 81,
   "id": "acbed1cf",
   "metadata": {},
   "outputs": [
    {
     "data": {
      "text/plain": [
       "15721"
      ]
     },
     "execution_count": 81,
     "metadata": {},
     "output_type": "execute_result"
    }
   ],
   "source": [
    "# посчитаем, сколько таких объявлений только по г. Санкт-Петербург\n",
    "len(flats_spb)"
   ]
  },
  {
   "cell_type": "code",
   "execution_count": 82,
   "id": "80383406",
   "metadata": {},
   "outputs": [
    {
     "data": {
      "image/png": "[encoded data removed]",
      "text/plain": [
       "<Figure size 360x216 with 1 Axes>"
      ]
     },
     "metadata": {
      "needs_background": "light"
     },
     "output_type": "display_data"
    }
   ],
   "source": [
    "# построим график изменения средней цены квартиры по удаленности от центра города\n",
    "flats_spb.pivot_table(index='city_centers_km', values='last_price').plot(\n",
    "    style='o-',\n",
    "    grid=True,\n",
    "    figsize=(5, 3)\n",
    ")\n",
    "plt.title('Зависимость цены и расстояния от центра города')\n",
    "plt.xlabel('удаленность от центра, км')\n",
    "plt.ylabel('стоимость, млн.руб.')\n",
    "plt.show()"
   ]
  },
  {
   "cell_type": "markdown",
   "id": "9ba2e1e2",
   "metadata": {},
   "source": [
    "<div style=\"background-color:Azure; color:#black; padding:2%\">\n",
    "\n",
    "***ВЫВОД***\n",
    "    \n",
    "Что и требовалось ожидать, с уменьшением расстояния до центра города увеличивается стоимость квартир, т.е. чем ближе к центру Питера, тем квартиры дороже.\n",
    "Есть незначительный \"хвост\" в удаленных от центра квартирах, возможно это зависит от застройщика, либо это какая-то элитная недвижимость, например, с собственным парком или прудом."
   ]
  },
  {
   "cell_type": "markdown",
   "id": "d68e73c5",
   "metadata": {},
   "source": [
    "## Общий вывод"
   ]
  },
  {
   "cell_type": "markdown",
   "id": "9ef7b55a",
   "metadata": {},
   "source": [
    "### Выводы для построения автоматизированной системы определения рыночной стоимости"
   ]
  },
  {
   "cell_type": "markdown",
   "id": "37948ae7",
   "metadata": {},
   "source": [
    "1. **В ходе исследования мы выяснили для начала \"портрет\" самого ходового объекта недвижимости на рынке** в Питере и ЛО (по данным за 2014 - 2019 гг) - это квартиры с небольшим количеством комнат (1,2) в пяти- и девятиэтажных домах, самая популярная общая площадь квартир примерно 45 м², жилая - примерно от 18 до 20 м², площадь кухни около 6 м² и высота потолков от 2,5 м до 2,7 м. Не очень популярны квартиры на первых и последних этажах, чем удалённее от центра города квартира (примерно в 12-15 м) и ближе к парк (примерно в 500 м), тем она популярнее.\n",
    "Стоимость самых ходовых объектов недвижимости составляет от 3,7 до 4,2 млн. руб.\n",
    "\n",
    "2. В первую очередь, **сильнее всего влияют на стоимость квартиры параметры, связанные с площадью объекта** (это жилая и общая площадь квартиры), а именно чем больше площадь квартиры, тем дороже. Положительная взаимосвязь есть и от площади кухни, что также стоит отметить. Также на стоимость влияет количество комнат, до значения в 5 комнат стоимость квартиры растёт, но после 5 и дальше, стоимость начинает снижаться. Плюс квартиры на первом и последнем атажах в домах дешевле, чем квартиры на других этажах. При этом более дорогими являются квартиры, которые находят ближе к центру города.\n",
    "\n",
    "3. **Согласно проведённому анализу данных как правило процесс продажи квартиры на сервисе Яндекс. Недвижимость занимает от 45 до 232 дней,** что интересно судя по по текущим данным сервиса есть информация (https://yandex.ru/support/realty/agency/home/add-ads-housing.html#publication-time), что в течение срока от 45 дней объявление считается актуальным, максимальный срок публикации объявления по продажам квартир и комнат — 365 дней. Возможно, в 2014-2019 гг. срок публикации объявлений был другим.\n",
    "\n",
    "4. **Самая высокая средняя стоимость квадратного метра у квартир** в г. Санкт-Петербург (114 849 руб. за м²) и у квартир в г. Пушкин (103 126 руб. за м²), а также в случае с Санкт-Петербургом чем ближе к центру города расположена квартира, тем выше её стоимость."
   ]
  },
  {
   "cell_type": "markdown",
   "id": "48aa91fc",
   "metadata": {},
   "source": [
    "### Выводы после исследовательского анализа данных"
   ]
  },
  {
   "cell_type": "markdown",
   "id": "1551dc4b",
   "metadata": {},
   "source": [
    "1. В ходе аналитики мы проследили, насколько важно сразу проверять датасет на наличие пропусков, некорректных типов данных, а также явных и неявных дубликатов. Далее уже принимали решение, оставлять пропуски нетронутыми (например, в столбце `locality_name` - категориальный тип данных, не заменить ни средними, ни медианными значениями), либо производить адекватную замену пропущенных данных (например, в столбце `balcony` логично предположили, что если не указано количество балконов, то их в квартире не имеется и можно заменить пропуски на ноль).\n",
    "\n",
    "2. Мы снова задумались о причинах появления пропусков в данных - это человеческий фактор (если данные заполняются вручную), технические ошибки при сборе и переносе данных, а также ошибки при выгрузке и объединения различных данных (например, пропуски в наименованиях населённых пунктов, когда не подтянулись картографические данные).\n",
    "\n",
    "3. Очень верным решением было проверять данные на наличие выбросов перед составлением гистограмм (в нашем случае, мы проверяли с помощью диаграмм размаха), иначе результаты получились бы искажёнными. Мы подтвердили это, когда была составлена матрица корреляции (до устранения выбросов и после - данные получились отличными друг от друга).\n",
    "\n",
    "4. В процессе исследования мы использовали различные типы графиков и диаграмм (круговая, гистограмма, размаха, столбчатая) в зависимости от задачи, которая перед нами стояла и выяснили, что в некоторых случаях нагляднее будет применить круговую диаграмму (как в случае с данными из столбца с типом этажа `floor_type`), а в некоторых случаях мы быстрее поймем, что зависимость отсутствует на столбчатой диаграмме (как с задачей по анализу зависимости цены от даты публикации объявления)."
   ]
  }
 ],
 "metadata": {
  "ExecuteTimeLog": [
   {
    "duration": 717,
    "start_time": "2024-04-29T12:00:12.013Z"
   },
   {
    "duration": 10,
    "start_time": "2024-04-29T12:00:12.732Z"
   },
   {
    "duration": 30,
    "start_time": "2024-04-29T12:00:12.743Z"
   },
   {
    "duration": 39,
    "start_time": "2024-04-29T12:00:12.775Z"
   },
   {
    "duration": 93,
    "start_time": "2024-04-29T12:00:12.815Z"
   },
   {
    "duration": 0,
    "start_time": "2024-04-29T12:00:12.911Z"
   },
   {
    "duration": 0,
    "start_time": "2024-04-29T12:00:12.912Z"
   },
   {
    "duration": 0,
    "start_time": "2024-04-29T12:00:12.913Z"
   },
   {
    "duration": 0,
    "start_time": "2024-04-29T12:00:12.913Z"
   },
   {
    "duration": 0,
    "start_time": "2024-04-29T12:00:12.915Z"
   },
   {
    "duration": 0,
    "start_time": "2024-04-29T12:00:12.916Z"
   },
   {
    "duration": 0,
    "start_time": "2024-04-29T12:00:12.916Z"
   },
   {
    "duration": 0,
    "start_time": "2024-04-29T12:00:12.917Z"
   },
   {
    "duration": 0,
    "start_time": "2024-04-29T12:00:12.918Z"
   },
   {
    "duration": 0,
    "start_time": "2024-04-29T12:00:12.919Z"
   },
   {
    "duration": 0,
    "start_time": "2024-04-29T12:00:12.921Z"
   },
   {
    "duration": 0,
    "start_time": "2024-04-29T12:00:12.922Z"
   },
   {
    "duration": 0,
    "start_time": "2024-04-29T12:00:12.923Z"
   },
   {
    "duration": 0,
    "start_time": "2024-04-29T12:00:12.924Z"
   },
   {
    "duration": 0,
    "start_time": "2024-04-29T12:00:12.925Z"
   },
   {
    "duration": 0,
    "start_time": "2024-04-29T12:00:12.925Z"
   },
   {
    "duration": 0,
    "start_time": "2024-04-29T12:00:12.926Z"
   },
   {
    "duration": 0,
    "start_time": "2024-04-29T12:00:12.927Z"
   },
   {
    "duration": 0,
    "start_time": "2024-04-29T12:00:12.928Z"
   },
   {
    "duration": 0,
    "start_time": "2024-04-29T12:00:12.929Z"
   },
   {
    "duration": 0,
    "start_time": "2024-04-29T12:00:12.931Z"
   },
   {
    "duration": 0,
    "start_time": "2024-04-29T12:00:12.931Z"
   },
   {
    "duration": 0,
    "start_time": "2024-04-29T12:00:12.970Z"
   },
   {
    "duration": 0,
    "start_time": "2024-04-29T12:00:12.971Z"
   },
   {
    "duration": 0,
    "start_time": "2024-04-29T12:00:12.972Z"
   },
   {
    "duration": 0,
    "start_time": "2024-04-29T12:00:12.973Z"
   },
   {
    "duration": 0,
    "start_time": "2024-04-29T12:00:12.974Z"
   },
   {
    "duration": 0,
    "start_time": "2024-04-29T12:00:12.975Z"
   },
   {
    "duration": 0,
    "start_time": "2024-04-29T12:00:12.976Z"
   },
   {
    "duration": 0,
    "start_time": "2024-04-29T12:00:12.978Z"
   },
   {
    "duration": 0,
    "start_time": "2024-04-29T12:00:12.979Z"
   },
   {
    "duration": 0,
    "start_time": "2024-04-29T12:00:12.979Z"
   },
   {
    "duration": 0,
    "start_time": "2024-04-29T12:00:12.981Z"
   },
   {
    "duration": 0,
    "start_time": "2024-04-29T12:00:12.981Z"
   },
   {
    "duration": 0,
    "start_time": "2024-04-29T12:00:12.983Z"
   },
   {
    "duration": 0,
    "start_time": "2024-04-29T12:00:12.983Z"
   },
   {
    "duration": 1,
    "start_time": "2024-04-29T12:00:12.984Z"
   },
   {
    "duration": 0,
    "start_time": "2024-04-29T12:00:12.985Z"
   },
   {
    "duration": 0,
    "start_time": "2024-04-29T12:00:12.986Z"
   },
   {
    "duration": 0,
    "start_time": "2024-04-29T12:00:12.988Z"
   },
   {
    "duration": 0,
    "start_time": "2024-04-29T12:00:12.989Z"
   },
   {
    "duration": 0,
    "start_time": "2024-04-29T12:00:12.990Z"
   },
   {
    "duration": 0,
    "start_time": "2024-04-29T12:00:12.990Z"
   },
   {
    "duration": 0,
    "start_time": "2024-04-29T12:00:12.992Z"
   },
   {
    "duration": 0,
    "start_time": "2024-04-29T12:00:12.992Z"
   },
   {
    "duration": 0,
    "start_time": "2024-04-29T12:00:12.993Z"
   },
   {
    "duration": 0,
    "start_time": "2024-04-29T12:00:12.994Z"
   },
   {
    "duration": 0,
    "start_time": "2024-04-29T12:00:12.995Z"
   },
   {
    "duration": 0,
    "start_time": "2024-04-29T12:00:12.996Z"
   },
   {
    "duration": 0,
    "start_time": "2024-04-29T12:00:12.998Z"
   },
   {
    "duration": 0,
    "start_time": "2024-04-29T12:00:12.999Z"
   },
   {
    "duration": 0,
    "start_time": "2024-04-29T12:00:13.000Z"
   },
   {
    "duration": 0,
    "start_time": "2024-04-29T12:00:13.001Z"
   },
   {
    "duration": 0,
    "start_time": "2024-04-29T12:00:13.002Z"
   },
   {
    "duration": 0,
    "start_time": "2024-04-29T12:00:13.002Z"
   },
   {
    "duration": 0,
    "start_time": "2024-04-29T12:00:13.003Z"
   },
   {
    "duration": 0,
    "start_time": "2024-04-29T12:00:13.004Z"
   },
   {
    "duration": 0,
    "start_time": "2024-04-29T12:00:13.070Z"
   },
   {
    "duration": 1,
    "start_time": "2024-04-29T12:00:13.070Z"
   },
   {
    "duration": 0,
    "start_time": "2024-04-29T12:00:13.072Z"
   },
   {
    "duration": 0,
    "start_time": "2024-04-29T12:00:13.073Z"
   },
   {
    "duration": 0,
    "start_time": "2024-04-29T12:00:13.073Z"
   },
   {
    "duration": 0,
    "start_time": "2024-04-29T12:00:13.075Z"
   },
   {
    "duration": 0,
    "start_time": "2024-04-29T12:00:13.075Z"
   },
   {
    "duration": 0,
    "start_time": "2024-04-29T12:00:13.077Z"
   },
   {
    "duration": 0,
    "start_time": "2024-04-29T12:00:13.078Z"
   },
   {
    "duration": 0,
    "start_time": "2024-04-29T12:00:13.079Z"
   },
   {
    "duration": 0,
    "start_time": "2024-04-29T12:00:13.080Z"
   },
   {
    "duration": 0,
    "start_time": "2024-04-29T12:00:13.082Z"
   },
   {
    "duration": 0,
    "start_time": "2024-04-29T12:00:13.083Z"
   },
   {
    "duration": 0,
    "start_time": "2024-04-29T12:00:13.084Z"
   },
   {
    "duration": 0,
    "start_time": "2024-04-29T12:00:13.086Z"
   },
   {
    "duration": 0,
    "start_time": "2024-04-29T12:00:13.087Z"
   },
   {
    "duration": 1,
    "start_time": "2024-04-29T12:00:13.088Z"
   },
   {
    "duration": 0,
    "start_time": "2024-04-29T12:00:13.090Z"
   },
   {
    "duration": 0,
    "start_time": "2024-04-29T12:00:13.091Z"
   },
   {
    "duration": 100,
    "start_time": "2024-04-29T12:00:53.629Z"
   },
   {
    "duration": 756,
    "start_time": "2024-04-29T12:00:59.058Z"
   },
   {
    "duration": 14,
    "start_time": "2024-04-29T12:00:59.816Z"
   },
   {
    "duration": 54,
    "start_time": "2024-04-29T12:00:59.832Z"
   },
   {
    "duration": 82,
    "start_time": "2024-04-29T12:00:59.888Z"
   },
   {
    "duration": 2063,
    "start_time": "2024-04-29T12:00:59.972Z"
   },
   {
    "duration": 9,
    "start_time": "2024-04-29T12:01:02.036Z"
   },
   {
    "duration": 60,
    "start_time": "2024-04-29T12:01:02.047Z"
   },
   {
    "duration": 40,
    "start_time": "2024-04-29T12:01:02.109Z"
   },
   {
    "duration": 36,
    "start_time": "2024-04-29T12:01:02.152Z"
   },
   {
    "duration": 47,
    "start_time": "2024-04-29T12:01:02.190Z"
   },
   {
    "duration": 32,
    "start_time": "2024-04-29T12:01:02.239Z"
   },
   {
    "duration": 65,
    "start_time": "2024-04-29T12:01:02.273Z"
   },
   {
    "duration": 40,
    "start_time": "2024-04-29T12:01:02.339Z"
   },
   {
    "duration": 36,
    "start_time": "2024-04-29T12:01:02.380Z"
   },
   {
    "duration": 37,
    "start_time": "2024-04-29T12:01:02.418Z"
   },
   {
    "duration": 43,
    "start_time": "2024-04-29T12:01:02.457Z"
   },
   {
    "duration": 8,
    "start_time": "2024-04-29T12:01:02.502Z"
   },
   {
    "duration": 24,
    "start_time": "2024-04-29T12:01:02.512Z"
   },
   {
    "duration": 90,
    "start_time": "2024-04-29T12:01:02.538Z"
   },
   {
    "duration": 8,
    "start_time": "2024-04-29T12:01:02.629Z"
   },
   {
    "duration": 30,
    "start_time": "2024-04-29T12:01:02.639Z"
   },
   {
    "duration": 6,
    "start_time": "2024-04-29T12:01:02.671Z"
   },
   {
    "duration": 22,
    "start_time": "2024-04-29T12:01:02.678Z"
   },
   {
    "duration": 332,
    "start_time": "2024-04-29T12:01:02.701Z"
   },
   {
    "duration": 4,
    "start_time": "2024-04-29T12:01:03.034Z"
   },
   {
    "duration": 48,
    "start_time": "2024-04-29T12:01:03.040Z"
   },
   {
    "duration": 9,
    "start_time": "2024-04-29T12:01:03.089Z"
   },
   {
    "duration": 145,
    "start_time": "2024-04-29T12:01:03.102Z"
   },
   {
    "duration": 146,
    "start_time": "2024-04-29T12:01:03.248Z"
   },
   {
    "duration": 301,
    "start_time": "2024-04-29T12:01:03.396Z"
   },
   {
    "duration": 9,
    "start_time": "2024-04-29T12:01:03.698Z"
   },
   {
    "duration": 127,
    "start_time": "2024-04-29T12:01:03.709Z"
   },
   {
    "duration": 197,
    "start_time": "2024-04-29T12:01:03.838Z"
   },
   {
    "duration": 9,
    "start_time": "2024-04-29T12:01:04.037Z"
   },
   {
    "duration": 139,
    "start_time": "2024-04-29T12:01:04.047Z"
   },
   {
    "duration": 189,
    "start_time": "2024-04-29T12:01:04.188Z"
   },
   {
    "duration": 8,
    "start_time": "2024-04-29T12:01:04.379Z"
   },
   {
    "duration": 3,
    "start_time": "2024-04-29T12:01:04.389Z"
   },
   {
    "duration": 14,
    "start_time": "2024-04-29T12:01:04.393Z"
   },
   {
    "duration": 145,
    "start_time": "2024-04-29T12:01:04.408Z"
   },
   {
    "duration": 188,
    "start_time": "2024-04-29T12:01:04.554Z"
   },
   {
    "duration": 9,
    "start_time": "2024-04-29T12:01:04.744Z"
   },
   {
    "duration": 129,
    "start_time": "2024-04-29T12:01:04.754Z"
   },
   {
    "duration": 20,
    "start_time": "2024-04-29T12:01:04.885Z"
   },
   {
    "duration": 156,
    "start_time": "2024-04-29T12:01:04.907Z"
   },
   {
    "duration": 10,
    "start_time": "2024-04-29T12:01:05.069Z"
   },
   {
    "duration": 11,
    "start_time": "2024-04-29T12:01:05.080Z"
   },
   {
    "duration": 16,
    "start_time": "2024-04-29T12:01:05.093Z"
   },
   {
    "duration": 117,
    "start_time": "2024-04-29T12:01:05.111Z"
   },
   {
    "duration": 188,
    "start_time": "2024-04-29T12:01:05.230Z"
   },
   {
    "duration": 10,
    "start_time": "2024-04-29T12:01:05.420Z"
   },
   {
    "duration": 16,
    "start_time": "2024-04-29T12:01:05.431Z"
   },
   {
    "duration": 228,
    "start_time": "2024-04-29T12:01:05.448Z"
   },
   {
    "duration": 9,
    "start_time": "2024-04-29T12:01:05.678Z"
   },
   {
    "duration": 141,
    "start_time": "2024-04-29T12:01:05.689Z"
   },
   {
    "duration": 198,
    "start_time": "2024-04-29T12:01:05.832Z"
   },
   {
    "duration": 8,
    "start_time": "2024-04-29T12:01:06.032Z"
   },
   {
    "duration": 142,
    "start_time": "2024-04-29T12:01:06.041Z"
   },
   {
    "duration": 275,
    "start_time": "2024-04-29T12:01:06.184Z"
   },
   {
    "duration": 10,
    "start_time": "2024-04-29T12:01:06.461Z"
   },
   {
    "duration": 128,
    "start_time": "2024-04-29T12:01:06.472Z"
   },
   {
    "duration": 179,
    "start_time": "2024-04-29T12:01:06.601Z"
   },
   {
    "duration": 8,
    "start_time": "2024-04-29T12:01:06.782Z"
   },
   {
    "duration": 140,
    "start_time": "2024-04-29T12:01:06.792Z"
   },
   {
    "duration": 279,
    "start_time": "2024-04-29T12:01:06.933Z"
   },
   {
    "duration": 352,
    "start_time": "2024-04-29T12:01:07.214Z"
   },
   {
    "duration": 26,
    "start_time": "2024-04-29T12:01:07.569Z"
   },
   {
    "duration": 25,
    "start_time": "2024-04-29T12:01:07.597Z"
   },
   {
    "duration": 47,
    "start_time": "2024-04-29T12:01:07.624Z"
   },
   {
    "duration": 148,
    "start_time": "2024-04-29T12:01:07.672Z"
   },
   {
    "duration": 165,
    "start_time": "2024-04-29T12:01:07.822Z"
   },
   {
    "duration": 180,
    "start_time": "2024-04-29T12:01:07.989Z"
   },
   {
    "duration": 160,
    "start_time": "2024-04-29T12:01:08.171Z"
   },
   {
    "duration": 41,
    "start_time": "2024-04-29T12:01:08.333Z"
   },
   {
    "duration": 152,
    "start_time": "2024-04-29T12:01:08.375Z"
   },
   {
    "duration": 443,
    "start_time": "2024-04-29T12:01:08.528Z"
   },
   {
    "duration": 8,
    "start_time": "2024-04-29T12:01:08.973Z"
   },
   {
    "duration": 34,
    "start_time": "2024-04-29T12:01:08.983Z"
   },
   {
    "duration": 9,
    "start_time": "2024-04-29T12:01:09.019Z"
   },
   {
    "duration": 40,
    "start_time": "2024-04-29T12:01:09.029Z"
   },
   {
    "duration": 157,
    "start_time": "2024-04-29T12:01:09.071Z"
   },
   {
    "duration": 13,
    "start_time": "2024-04-29T12:05:32.239Z"
   },
   {
    "duration": 4,
    "start_time": "2024-04-29T13:03:24.728Z"
   },
   {
    "duration": 99,
    "start_time": "2024-04-29T13:03:25.720Z"
   },
   {
    "duration": 485,
    "start_time": "2024-04-29T13:04:21.827Z"
   },
   {
    "duration": 143,
    "start_time": "2024-04-29T13:04:27.279Z"
   },
   {
    "duration": 50,
    "start_time": "2024-04-29T13:04:59.327Z"
   },
   {
    "duration": 46,
    "start_time": "2024-04-29T13:05:21.420Z"
   },
   {
    "duration": 68,
    "start_time": "2024-04-29T13:06:10.403Z"
   },
   {
    "duration": 46,
    "start_time": "2024-04-29T13:06:54.752Z"
   },
   {
    "duration": 933,
    "start_time": "2024-04-29T13:35:10.368Z"
   },
   {
    "duration": 624,
    "start_time": "2024-04-29T13:35:23.070Z"
   },
   {
    "duration": 93,
    "start_time": "2024-04-29T13:35:23.696Z"
   },
   {
    "duration": 15,
    "start_time": "2024-04-29T13:35:23.791Z"
   },
   {
    "duration": 68,
    "start_time": "2024-04-29T13:35:23.808Z"
   },
   {
    "duration": 89,
    "start_time": "2024-04-29T13:35:23.877Z"
   },
   {
    "duration": 1869,
    "start_time": "2024-04-29T13:35:23.967Z"
   },
   {
    "duration": 9,
    "start_time": "2024-04-29T13:35:25.837Z"
   },
   {
    "duration": 10,
    "start_time": "2024-04-29T13:35:25.847Z"
   },
   {
    "duration": 12,
    "start_time": "2024-04-29T13:35:25.859Z"
   },
   {
    "duration": 5,
    "start_time": "2024-04-29T13:35:25.873Z"
   },
   {
    "duration": 5,
    "start_time": "2024-04-29T13:35:25.879Z"
   },
   {
    "duration": 11,
    "start_time": "2024-04-29T13:35:25.885Z"
   },
   {
    "duration": 4,
    "start_time": "2024-04-29T13:35:25.897Z"
   },
   {
    "duration": 23,
    "start_time": "2024-04-29T13:35:25.902Z"
   },
   {
    "duration": 4,
    "start_time": "2024-04-29T13:35:25.927Z"
   },
   {
    "duration": 15,
    "start_time": "2024-04-29T13:35:25.932Z"
   },
   {
    "duration": 26,
    "start_time": "2024-04-29T13:35:25.948Z"
   },
   {
    "duration": 6,
    "start_time": "2024-04-29T13:35:25.975Z"
   },
   {
    "duration": 7,
    "start_time": "2024-04-29T13:35:25.982Z"
   },
   {
    "duration": 52,
    "start_time": "2024-04-29T13:35:25.991Z"
   },
   {
    "duration": 21,
    "start_time": "2024-04-29T13:35:26.044Z"
   },
   {
    "duration": 5,
    "start_time": "2024-04-29T13:35:26.067Z"
   },
   {
    "duration": 5,
    "start_time": "2024-04-29T13:35:26.074Z"
   },
   {
    "duration": 13,
    "start_time": "2024-04-29T13:35:26.081Z"
   },
   {
    "duration": 309,
    "start_time": "2024-04-29T13:35:26.096Z"
   },
   {
    "duration": 5,
    "start_time": "2024-04-29T13:35:26.407Z"
   },
   {
    "duration": 30,
    "start_time": "2024-04-29T13:35:26.414Z"
   },
   {
    "duration": 24,
    "start_time": "2024-04-29T13:35:26.448Z"
   },
   {
    "duration": 8,
    "start_time": "2024-04-29T13:35:26.473Z"
   },
   {
    "duration": 106,
    "start_time": "2024-04-29T13:35:26.482Z"
   },
   {
    "duration": 123,
    "start_time": "2024-04-29T13:35:26.589Z"
   },
   {
    "duration": 263,
    "start_time": "2024-04-29T13:35:26.713Z"
   },
   {
    "duration": 9,
    "start_time": "2024-04-29T13:35:26.978Z"
   },
   {
    "duration": 117,
    "start_time": "2024-04-29T13:35:26.988Z"
   },
   {
    "duration": 165,
    "start_time": "2024-04-29T13:35:27.107Z"
   },
   {
    "duration": 8,
    "start_time": "2024-04-29T13:35:27.273Z"
   },
   {
    "duration": 112,
    "start_time": "2024-04-29T13:35:27.282Z"
   },
   {
    "duration": 162,
    "start_time": "2024-04-29T13:35:27.396Z"
   },
   {
    "duration": 8,
    "start_time": "2024-04-29T13:35:27.564Z"
   },
   {
    "duration": 6,
    "start_time": "2024-04-29T13:35:27.573Z"
   },
   {
    "duration": 7,
    "start_time": "2024-04-29T13:35:27.581Z"
   },
   {
    "duration": 115,
    "start_time": "2024-04-29T13:35:27.590Z"
   },
   {
    "duration": 161,
    "start_time": "2024-04-29T13:35:27.706Z"
   },
   {
    "duration": 7,
    "start_time": "2024-04-29T13:35:27.868Z"
   },
   {
    "duration": 109,
    "start_time": "2024-04-29T13:35:27.876Z"
   },
   {
    "duration": 17,
    "start_time": "2024-04-29T13:35:27.986Z"
   },
   {
    "duration": 133,
    "start_time": "2024-04-29T13:35:28.004Z"
   },
   {
    "duration": 10,
    "start_time": "2024-04-29T13:35:28.139Z"
   },
   {
    "duration": 16,
    "start_time": "2024-04-29T13:35:28.151Z"
   },
   {
    "duration": 10,
    "start_time": "2024-04-29T13:35:28.169Z"
   },
   {
    "duration": 110,
    "start_time": "2024-04-29T13:35:28.181Z"
   },
   {
    "duration": 156,
    "start_time": "2024-04-29T13:35:28.293Z"
   },
   {
    "duration": 16,
    "start_time": "2024-04-29T13:35:28.451Z"
   },
   {
    "duration": 13,
    "start_time": "2024-04-29T13:35:28.468Z"
   },
   {
    "duration": 197,
    "start_time": "2024-04-29T13:35:28.483Z"
   },
   {
    "duration": 8,
    "start_time": "2024-04-29T13:35:28.681Z"
   },
   {
    "duration": 113,
    "start_time": "2024-04-29T13:35:28.690Z"
   },
   {
    "duration": 196,
    "start_time": "2024-04-29T13:35:28.805Z"
   },
   {
    "duration": 9,
    "start_time": "2024-04-29T13:35:29.003Z"
   },
   {
    "duration": 121,
    "start_time": "2024-04-29T13:35:29.013Z"
   },
   {
    "duration": 240,
    "start_time": "2024-04-29T13:35:29.135Z"
   },
   {
    "duration": 8,
    "start_time": "2024-04-29T13:35:29.376Z"
   },
   {
    "duration": 107,
    "start_time": "2024-04-29T13:35:29.385Z"
   },
   {
    "duration": 165,
    "start_time": "2024-04-29T13:35:29.494Z"
   },
   {
    "duration": 11,
    "start_time": "2024-04-29T13:35:29.661Z"
   },
   {
    "duration": 124,
    "start_time": "2024-04-29T13:35:29.674Z"
   },
   {
    "duration": 254,
    "start_time": "2024-04-29T13:35:29.800Z"
   },
   {
    "duration": 296,
    "start_time": "2024-04-29T13:35:30.056Z"
   },
   {
    "duration": 29,
    "start_time": "2024-04-29T13:35:30.354Z"
   },
   {
    "duration": 62,
    "start_time": "2024-04-29T13:35:30.384Z"
   },
   {
    "duration": 36,
    "start_time": "2024-04-29T13:35:30.447Z"
   },
   {
    "duration": 151,
    "start_time": "2024-04-29T13:35:30.485Z"
   },
   {
    "duration": 149,
    "start_time": "2024-04-29T13:35:30.638Z"
   },
   {
    "duration": 143,
    "start_time": "2024-04-29T13:35:30.789Z"
   },
   {
    "duration": 133,
    "start_time": "2024-04-29T13:35:30.934Z"
   },
   {
    "duration": 19,
    "start_time": "2024-04-29T13:35:31.069Z"
   },
   {
    "duration": 195,
    "start_time": "2024-04-29T13:35:31.089Z"
   },
   {
    "duration": 450,
    "start_time": "2024-04-29T13:35:31.285Z"
   },
   {
    "duration": 6,
    "start_time": "2024-04-29T13:35:31.737Z"
   },
   {
    "duration": 60,
    "start_time": "2024-04-29T13:35:31.745Z"
   },
   {
    "duration": 16,
    "start_time": "2024-04-29T13:35:31.806Z"
   },
   {
    "duration": 10,
    "start_time": "2024-04-29T13:35:31.827Z"
   },
   {
    "duration": 19,
    "start_time": "2024-04-29T13:35:31.838Z"
   },
   {
    "duration": 140,
    "start_time": "2024-04-29T13:35:31.858Z"
   },
   {
    "duration": 70,
    "start_time": "2024-04-29T13:46:35.086Z"
   },
   {
    "duration": 45,
    "start_time": "2024-04-29T13:47:53.154Z"
   },
   {
    "duration": 14,
    "start_time": "2024-04-29T13:48:00.046Z"
   },
   {
    "duration": 610,
    "start_time": "2024-04-29T13:48:08.695Z"
   },
   {
    "duration": 91,
    "start_time": "2024-04-29T13:48:09.307Z"
   },
   {
    "duration": 13,
    "start_time": "2024-04-29T13:48:09.400Z"
   },
   {
    "duration": 36,
    "start_time": "2024-04-29T13:48:09.415Z"
   },
   {
    "duration": 73,
    "start_time": "2024-04-29T13:48:09.452Z"
   },
   {
    "duration": 1846,
    "start_time": "2024-04-29T13:48:09.526Z"
   },
   {
    "duration": 10,
    "start_time": "2024-04-29T13:48:11.373Z"
   },
   {
    "duration": 6,
    "start_time": "2024-04-29T13:48:11.384Z"
   },
   {
    "duration": 8,
    "start_time": "2024-04-29T13:48:11.392Z"
   },
   {
    "duration": 5,
    "start_time": "2024-04-29T13:48:11.402Z"
   },
   {
    "duration": 7,
    "start_time": "2024-04-29T13:48:11.409Z"
   },
   {
    "duration": 7,
    "start_time": "2024-04-29T13:48:11.418Z"
   },
   {
    "duration": 13,
    "start_time": "2024-04-29T13:48:11.426Z"
   },
   {
    "duration": 29,
    "start_time": "2024-04-29T13:48:11.441Z"
   },
   {
    "duration": 3,
    "start_time": "2024-04-29T13:48:11.471Z"
   },
   {
    "duration": 16,
    "start_time": "2024-04-29T13:48:11.475Z"
   },
   {
    "duration": 22,
    "start_time": "2024-04-29T13:48:11.492Z"
   },
   {
    "duration": 6,
    "start_time": "2024-04-29T13:48:11.515Z"
   },
   {
    "duration": 5,
    "start_time": "2024-04-29T13:48:11.523Z"
   },
   {
    "duration": 80,
    "start_time": "2024-04-29T13:48:11.529Z"
   },
   {
    "duration": 6,
    "start_time": "2024-04-29T13:48:11.610Z"
   },
   {
    "duration": 5,
    "start_time": "2024-04-29T13:48:11.618Z"
   },
   {
    "duration": 18,
    "start_time": "2024-04-29T13:48:11.625Z"
   },
   {
    "duration": 21,
    "start_time": "2024-04-29T13:48:11.644Z"
   },
   {
    "duration": 301,
    "start_time": "2024-04-29T13:48:11.667Z"
   },
   {
    "duration": 5,
    "start_time": "2024-04-29T13:48:11.970Z"
   },
   {
    "duration": 7,
    "start_time": "2024-04-29T13:48:11.976Z"
   },
   {
    "duration": 23,
    "start_time": "2024-04-29T13:48:11.986Z"
   },
   {
    "duration": 7,
    "start_time": "2024-04-29T13:48:12.010Z"
   },
   {
    "duration": 122,
    "start_time": "2024-04-29T13:48:12.019Z"
   },
   {
    "duration": 118,
    "start_time": "2024-04-29T13:48:12.143Z"
   },
   {
    "duration": 275,
    "start_time": "2024-04-29T13:48:12.262Z"
   },
   {
    "duration": 9,
    "start_time": "2024-04-29T13:48:12.539Z"
   },
   {
    "duration": 110,
    "start_time": "2024-04-29T13:48:12.549Z"
   },
   {
    "duration": 171,
    "start_time": "2024-04-29T13:48:12.664Z"
   },
   {
    "duration": 8,
    "start_time": "2024-04-29T13:48:12.836Z"
   },
   {
    "duration": 106,
    "start_time": "2024-04-29T13:48:12.845Z"
   },
   {
    "duration": 185,
    "start_time": "2024-04-29T13:48:12.952Z"
   },
   {
    "duration": 9,
    "start_time": "2024-04-29T13:48:13.138Z"
   },
   {
    "duration": 3,
    "start_time": "2024-04-29T13:48:13.148Z"
   },
   {
    "duration": 7,
    "start_time": "2024-04-29T13:48:13.165Z"
   },
   {
    "duration": 110,
    "start_time": "2024-04-29T13:48:13.173Z"
   },
   {
    "duration": 145,
    "start_time": "2024-04-29T13:48:13.284Z"
   },
   {
    "duration": 7,
    "start_time": "2024-04-29T13:48:13.430Z"
   },
   {
    "duration": 106,
    "start_time": "2024-04-29T13:48:13.439Z"
   },
   {
    "duration": 23,
    "start_time": "2024-04-29T13:48:13.547Z"
   },
   {
    "duration": 131,
    "start_time": "2024-04-29T13:48:13.571Z"
   },
   {
    "duration": 8,
    "start_time": "2024-04-29T13:48:13.704Z"
   },
   {
    "duration": 4,
    "start_time": "2024-04-29T13:48:13.713Z"
   },
   {
    "duration": 9,
    "start_time": "2024-04-29T13:48:13.718Z"
   },
   {
    "duration": 113,
    "start_time": "2024-04-29T13:48:13.729Z"
   },
   {
    "duration": 166,
    "start_time": "2024-04-29T13:48:13.844Z"
   },
   {
    "duration": 9,
    "start_time": "2024-04-29T13:48:14.011Z"
   },
   {
    "duration": 9,
    "start_time": "2024-04-29T13:48:14.022Z"
   },
   {
    "duration": 188,
    "start_time": "2024-04-29T13:48:14.032Z"
   },
   {
    "duration": 8,
    "start_time": "2024-04-29T13:48:14.221Z"
   },
   {
    "duration": 115,
    "start_time": "2024-04-29T13:48:14.230Z"
   },
   {
    "duration": 175,
    "start_time": "2024-04-29T13:48:14.347Z"
   },
   {
    "duration": 8,
    "start_time": "2024-04-29T13:48:14.524Z"
   },
   {
    "duration": 112,
    "start_time": "2024-04-29T13:48:14.533Z"
   },
   {
    "duration": 226,
    "start_time": "2024-04-29T13:48:14.646Z"
   },
   {
    "duration": 7,
    "start_time": "2024-04-29T13:48:14.874Z"
   },
   {
    "duration": 103,
    "start_time": "2024-04-29T13:48:14.882Z"
   },
   {
    "duration": 161,
    "start_time": "2024-04-29T13:48:14.986Z"
   },
   {
    "duration": 8,
    "start_time": "2024-04-29T13:48:15.148Z"
   },
   {
    "duration": 120,
    "start_time": "2024-04-29T13:48:15.157Z"
   },
   {
    "duration": 232,
    "start_time": "2024-04-29T13:48:15.279Z"
   },
   {
    "duration": 301,
    "start_time": "2024-04-29T13:48:15.512Z"
   },
   {
    "duration": 25,
    "start_time": "2024-04-29T13:48:15.815Z"
   },
   {
    "duration": 39,
    "start_time": "2024-04-29T13:48:15.842Z"
   },
   {
    "duration": 23,
    "start_time": "2024-04-29T13:48:15.883Z"
   },
   {
    "duration": 165,
    "start_time": "2024-04-29T13:48:15.908Z"
   },
   {
    "duration": 152,
    "start_time": "2024-04-29T13:48:16.074Z"
   },
   {
    "duration": 145,
    "start_time": "2024-04-29T13:48:16.227Z"
   },
   {
    "duration": 135,
    "start_time": "2024-04-29T13:48:16.374Z"
   },
   {
    "duration": 19,
    "start_time": "2024-04-29T13:48:16.510Z"
   },
   {
    "duration": 145,
    "start_time": "2024-04-29T13:48:16.531Z"
   },
   {
    "duration": 412,
    "start_time": "2024-04-29T13:48:16.677Z"
   },
   {
    "duration": 7,
    "start_time": "2024-04-29T13:48:17.090Z"
   },
   {
    "duration": 36,
    "start_time": "2024-04-29T13:48:17.098Z"
   },
   {
    "duration": 11,
    "start_time": "2024-04-29T13:48:17.135Z"
   },
   {
    "duration": 69,
    "start_time": "2024-04-29T13:48:17.165Z"
   },
   {
    "duration": 0,
    "start_time": "2024-04-29T13:48:17.235Z"
   },
   {
    "duration": 0,
    "start_time": "2024-04-29T13:48:17.236Z"
   },
   {
    "duration": 0,
    "start_time": "2024-04-29T13:48:17.237Z"
   },
   {
    "duration": 14,
    "start_time": "2024-04-29T13:50:52.859Z"
   },
   {
    "duration": 15,
    "start_time": "2024-04-29T13:51:02.859Z"
   },
   {
    "duration": 18,
    "start_time": "2024-04-29T13:51:55.096Z"
   },
   {
    "duration": 14,
    "start_time": "2024-04-29T13:52:12.451Z"
   },
   {
    "duration": 15,
    "start_time": "2024-04-29T13:52:19.775Z"
   },
   {
    "duration": 15,
    "start_time": "2024-04-29T13:53:00.223Z"
   },
   {
    "duration": 17,
    "start_time": "2024-04-29T13:53:25.287Z"
   },
   {
    "duration": 13,
    "start_time": "2024-04-29T13:56:03.523Z"
   },
   {
    "duration": 3,
    "start_time": "2024-04-29T13:57:37.799Z"
   },
   {
    "duration": 8,
    "start_time": "2024-04-29T13:58:26.091Z"
   },
   {
    "duration": 7,
    "start_time": "2024-04-29T13:58:35.587Z"
   },
   {
    "duration": 3,
    "start_time": "2024-04-29T13:58:37.040Z"
   },
   {
    "duration": 131,
    "start_time": "2024-04-29T13:58:38.588Z"
   },
   {
    "duration": 49,
    "start_time": "2024-04-29T14:04:36.872Z"
   },
   {
    "duration": 1720,
    "start_time": "2024-04-29T14:06:09.515Z"
   },
   {
    "duration": 17,
    "start_time": "2024-04-29T14:08:03.384Z"
   },
   {
    "duration": 20,
    "start_time": "2024-04-29T14:08:25.583Z"
   },
   {
    "duration": 21,
    "start_time": "2024-04-29T14:11:36.155Z"
   },
   {
    "duration": 2,
    "start_time": "2024-04-29T14:12:31.028Z"
   },
   {
    "duration": 992,
    "start_time": "2024-04-29T14:24:25.668Z"
   },
   {
    "duration": 143,
    "start_time": "2024-04-29T14:24:34.795Z"
   },
   {
    "duration": 137,
    "start_time": "2024-04-29T14:24:53.072Z"
   },
   {
    "duration": 133,
    "start_time": "2024-04-29T14:25:34.888Z"
   },
   {
    "duration": 554,
    "start_time": "2024-04-29T14:25:40.819Z"
   },
   {
    "duration": 95,
    "start_time": "2024-04-29T14:25:41.375Z"
   },
   {
    "duration": 15,
    "start_time": "2024-04-29T14:25:41.472Z"
   },
   {
    "duration": 36,
    "start_time": "2024-04-29T14:25:41.489Z"
   },
   {
    "duration": 83,
    "start_time": "2024-04-29T14:25:41.526Z"
   },
   {
    "duration": 1974,
    "start_time": "2024-04-29T14:25:41.610Z"
   },
   {
    "duration": 13,
    "start_time": "2024-04-29T14:25:43.586Z"
   },
   {
    "duration": 8,
    "start_time": "2024-04-29T14:25:43.601Z"
   },
   {
    "duration": 7,
    "start_time": "2024-04-29T14:25:43.611Z"
   },
   {
    "duration": 7,
    "start_time": "2024-04-29T14:25:43.621Z"
   },
   {
    "duration": 7,
    "start_time": "2024-04-29T14:25:43.629Z"
   },
   {
    "duration": 3,
    "start_time": "2024-04-29T14:25:43.638Z"
   },
   {
    "duration": 24,
    "start_time": "2024-04-29T14:25:43.642Z"
   },
   {
    "duration": 22,
    "start_time": "2024-04-29T14:25:43.667Z"
   },
   {
    "duration": 4,
    "start_time": "2024-04-29T14:25:43.691Z"
   },
   {
    "duration": 32,
    "start_time": "2024-04-29T14:25:43.696Z"
   },
   {
    "duration": 37,
    "start_time": "2024-04-29T14:25:43.730Z"
   },
   {
    "duration": 8,
    "start_time": "2024-04-29T14:25:43.769Z"
   },
   {
    "duration": 8,
    "start_time": "2024-04-29T14:25:43.779Z"
   },
   {
    "duration": 80,
    "start_time": "2024-04-29T14:25:43.788Z"
   },
   {
    "duration": 10,
    "start_time": "2024-04-29T14:25:43.870Z"
   },
   {
    "duration": 9,
    "start_time": "2024-04-29T14:25:43.882Z"
   },
   {
    "duration": 8,
    "start_time": "2024-04-29T14:25:43.893Z"
   },
   {
    "duration": 12,
    "start_time": "2024-04-29T14:25:43.903Z"
   },
   {
    "duration": 346,
    "start_time": "2024-04-29T14:25:43.916Z"
   },
   {
    "duration": 5,
    "start_time": "2024-04-29T14:25:44.264Z"
   },
   {
    "duration": 8,
    "start_time": "2024-04-29T14:25:44.270Z"
   },
   {
    "duration": 23,
    "start_time": "2024-04-29T14:25:44.281Z"
   },
   {
    "duration": 8,
    "start_time": "2024-04-29T14:25:44.305Z"
   },
   {
    "duration": 128,
    "start_time": "2024-04-29T14:25:44.314Z"
   },
   {
    "duration": 124,
    "start_time": "2024-04-29T14:25:44.443Z"
   },
   {
    "duration": 302,
    "start_time": "2024-04-29T14:25:44.569Z"
   },
   {
    "duration": 10,
    "start_time": "2024-04-29T14:25:44.873Z"
   },
   {
    "duration": 111,
    "start_time": "2024-04-29T14:25:44.885Z"
   },
   {
    "duration": 183,
    "start_time": "2024-04-29T14:25:44.998Z"
   },
   {
    "duration": 8,
    "start_time": "2024-04-29T14:25:45.183Z"
   },
   {
    "duration": 141,
    "start_time": "2024-04-29T14:25:45.193Z"
   },
   {
    "duration": 184,
    "start_time": "2024-04-29T14:25:45.335Z"
   },
   {
    "duration": 10,
    "start_time": "2024-04-29T14:25:45.521Z"
   },
   {
    "duration": 12,
    "start_time": "2024-04-29T14:25:45.532Z"
   },
   {
    "duration": 10,
    "start_time": "2024-04-29T14:25:45.546Z"
   },
   {
    "duration": 122,
    "start_time": "2024-04-29T14:25:45.564Z"
   },
   {
    "duration": 169,
    "start_time": "2024-04-29T14:25:45.688Z"
   },
   {
    "duration": 16,
    "start_time": "2024-04-29T14:25:45.858Z"
   },
   {
    "duration": 109,
    "start_time": "2024-04-29T14:25:45.876Z"
   },
   {
    "duration": 19,
    "start_time": "2024-04-29T14:25:45.986Z"
   },
   {
    "duration": 148,
    "start_time": "2024-04-29T14:25:46.006Z"
   },
   {
    "duration": 11,
    "start_time": "2024-04-29T14:25:46.156Z"
   },
   {
    "duration": 10,
    "start_time": "2024-04-29T14:25:46.169Z"
   },
   {
    "duration": 18,
    "start_time": "2024-04-29T14:25:46.181Z"
   },
   {
    "duration": 116,
    "start_time": "2024-04-29T14:25:46.201Z"
   },
   {
    "duration": 178,
    "start_time": "2024-04-29T14:25:46.319Z"
   },
   {
    "duration": 8,
    "start_time": "2024-04-29T14:25:46.499Z"
   },
   {
    "duration": 17,
    "start_time": "2024-04-29T14:25:46.508Z"
   },
   {
    "duration": 225,
    "start_time": "2024-04-29T14:25:46.526Z"
   },
   {
    "duration": 15,
    "start_time": "2024-04-29T14:25:46.752Z"
   },
   {
    "duration": 126,
    "start_time": "2024-04-29T14:25:46.769Z"
   },
   {
    "duration": 204,
    "start_time": "2024-04-29T14:25:46.897Z"
   },
   {
    "duration": 9,
    "start_time": "2024-04-29T14:25:47.102Z"
   },
   {
    "duration": 131,
    "start_time": "2024-04-29T14:25:47.112Z"
   },
   {
    "duration": 262,
    "start_time": "2024-04-29T14:25:47.244Z"
   },
   {
    "duration": 9,
    "start_time": "2024-04-29T14:25:47.507Z"
   },
   {
    "duration": 116,
    "start_time": "2024-04-29T14:25:47.517Z"
   },
   {
    "duration": 191,
    "start_time": "2024-04-29T14:25:47.635Z"
   },
   {
    "duration": 8,
    "start_time": "2024-04-29T14:25:47.828Z"
   },
   {
    "duration": 124,
    "start_time": "2024-04-29T14:25:47.837Z"
   },
   {
    "duration": 252,
    "start_time": "2024-04-29T14:25:47.964Z"
   },
   {
    "duration": 328,
    "start_time": "2024-04-29T14:25:48.217Z"
   },
   {
    "duration": 39,
    "start_time": "2024-04-29T14:25:48.547Z"
   },
   {
    "duration": 132,
    "start_time": "2024-04-29T14:25:48.587Z"
   },
   {
    "duration": 166,
    "start_time": "2024-04-29T14:25:48.721Z"
   },
   {
    "duration": 164,
    "start_time": "2024-04-29T14:25:48.888Z"
   },
   {
    "duration": 153,
    "start_time": "2024-04-29T14:25:49.053Z"
   },
   {
    "duration": 20,
    "start_time": "2024-04-29T14:25:49.208Z"
   },
   {
    "duration": 155,
    "start_time": "2024-04-29T14:25:49.230Z"
   },
   {
    "duration": 499,
    "start_time": "2024-04-29T14:25:49.386Z"
   },
   {
    "duration": 13,
    "start_time": "2024-04-29T14:25:49.887Z"
   },
   {
    "duration": 3,
    "start_time": "2024-04-29T14:25:49.902Z"
   },
   {
    "duration": 19,
    "start_time": "2024-04-29T14:25:49.906Z"
   },
   {
    "duration": 3,
    "start_time": "2024-04-29T14:25:49.927Z"
   },
   {
    "duration": 171,
    "start_time": "2024-04-29T14:25:49.931Z"
   },
   {
    "duration": 299,
    "start_time": "2024-04-29T14:28:40.519Z"
   },
   {
    "duration": 379,
    "start_time": "2024-04-29T14:29:18.867Z"
   },
   {
    "duration": 357,
    "start_time": "2024-04-29T14:29:34.047Z"
   },
   {
    "duration": 203,
    "start_time": "2024-04-29T14:29:38.644Z"
   },
   {
    "duration": 22,
    "start_time": "2024-04-29T14:34:12.332Z"
   },
   {
    "duration": 140,
    "start_time": "2024-04-29T14:34:28.392Z"
   },
   {
    "duration": 131,
    "start_time": "2024-04-29T14:35:16.624Z"
   },
   {
    "duration": 616,
    "start_time": "2024-04-29T14:35:22.556Z"
   },
   {
    "duration": 92,
    "start_time": "2024-04-29T14:35:23.174Z"
   },
   {
    "duration": 15,
    "start_time": "2024-04-29T14:35:23.267Z"
   },
   {
    "duration": 37,
    "start_time": "2024-04-29T14:35:23.283Z"
   },
   {
    "duration": 85,
    "start_time": "2024-04-29T14:35:23.322Z"
   },
   {
    "duration": 1904,
    "start_time": "2024-04-29T14:35:23.408Z"
   },
   {
    "duration": 9,
    "start_time": "2024-04-29T14:35:25.314Z"
   },
   {
    "duration": 8,
    "start_time": "2024-04-29T14:35:25.325Z"
   },
   {
    "duration": 8,
    "start_time": "2024-04-29T14:35:25.334Z"
   },
   {
    "duration": 9,
    "start_time": "2024-04-29T14:35:25.345Z"
   },
   {
    "duration": 5,
    "start_time": "2024-04-29T14:35:25.355Z"
   },
   {
    "duration": 3,
    "start_time": "2024-04-29T14:35:25.362Z"
   },
   {
    "duration": 5,
    "start_time": "2024-04-29T14:35:25.366Z"
   },
   {
    "duration": 16,
    "start_time": "2024-04-29T14:35:25.372Z"
   },
   {
    "duration": 3,
    "start_time": "2024-04-29T14:35:25.389Z"
   },
   {
    "duration": 15,
    "start_time": "2024-04-29T14:35:25.394Z"
   },
   {
    "duration": 23,
    "start_time": "2024-04-29T14:35:25.411Z"
   },
   {
    "duration": 30,
    "start_time": "2024-04-29T14:35:25.435Z"
   },
   {
    "duration": 6,
    "start_time": "2024-04-29T14:35:25.467Z"
   },
   {
    "duration": 62,
    "start_time": "2024-04-29T14:35:25.475Z"
   },
   {
    "duration": 10,
    "start_time": "2024-04-29T14:35:25.538Z"
   },
   {
    "duration": 12,
    "start_time": "2024-04-29T14:35:25.550Z"
   },
   {
    "duration": 11,
    "start_time": "2024-04-29T14:35:25.565Z"
   },
   {
    "duration": 23,
    "start_time": "2024-04-29T14:35:25.577Z"
   },
   {
    "duration": 316,
    "start_time": "2024-04-29T14:35:25.602Z"
   },
   {
    "duration": 4,
    "start_time": "2024-04-29T14:35:25.920Z"
   },
   {
    "duration": 4,
    "start_time": "2024-04-29T14:35:25.926Z"
   },
   {
    "duration": 36,
    "start_time": "2024-04-29T14:35:25.934Z"
   },
   {
    "duration": 8,
    "start_time": "2024-04-29T14:35:25.971Z"
   },
   {
    "duration": 108,
    "start_time": "2024-04-29T14:35:25.981Z"
   },
   {
    "duration": 117,
    "start_time": "2024-04-29T14:35:26.091Z"
   },
   {
    "duration": 291,
    "start_time": "2024-04-29T14:35:26.210Z"
   },
   {
    "duration": 8,
    "start_time": "2024-04-29T14:35:26.502Z"
   },
   {
    "duration": 111,
    "start_time": "2024-04-29T14:35:26.512Z"
   },
   {
    "duration": 181,
    "start_time": "2024-04-29T14:35:26.625Z"
   },
   {
    "duration": 9,
    "start_time": "2024-04-29T14:35:26.808Z"
   },
   {
    "duration": 114,
    "start_time": "2024-04-29T14:35:26.818Z"
   },
   {
    "duration": 163,
    "start_time": "2024-04-29T14:35:26.933Z"
   },
   {
    "duration": 8,
    "start_time": "2024-04-29T14:35:27.098Z"
   },
   {
    "duration": 3,
    "start_time": "2024-04-29T14:35:27.107Z"
   },
   {
    "duration": 14,
    "start_time": "2024-04-29T14:35:27.112Z"
   },
   {
    "duration": 111,
    "start_time": "2024-04-29T14:35:27.127Z"
   },
   {
    "duration": 153,
    "start_time": "2024-04-29T14:35:27.239Z"
   },
   {
    "duration": 8,
    "start_time": "2024-04-29T14:35:27.393Z"
   },
   {
    "duration": 106,
    "start_time": "2024-04-29T14:35:27.402Z"
   },
   {
    "duration": 19,
    "start_time": "2024-04-29T14:35:27.509Z"
   },
   {
    "duration": 172,
    "start_time": "2024-04-29T14:35:27.530Z"
   },
   {
    "duration": 9,
    "start_time": "2024-04-29T14:35:27.704Z"
   },
   {
    "duration": 5,
    "start_time": "2024-04-29T14:35:27.714Z"
   },
   {
    "duration": 27,
    "start_time": "2024-04-29T14:35:27.720Z"
   },
   {
    "duration": 142,
    "start_time": "2024-04-29T14:35:27.749Z"
   },
   {
    "duration": 167,
    "start_time": "2024-04-29T14:35:27.893Z"
   },
   {
    "duration": 8,
    "start_time": "2024-04-29T14:35:28.064Z"
   },
   {
    "duration": 7,
    "start_time": "2024-04-29T14:35:28.074Z"
   },
   {
    "duration": 194,
    "start_time": "2024-04-29T14:35:28.082Z"
   },
   {
    "duration": 8,
    "start_time": "2024-04-29T14:35:28.278Z"
   },
   {
    "duration": 118,
    "start_time": "2024-04-29T14:35:28.287Z"
   },
   {
    "duration": 179,
    "start_time": "2024-04-29T14:35:28.406Z"
   },
   {
    "duration": 9,
    "start_time": "2024-04-29T14:35:28.586Z"
   },
   {
    "duration": 118,
    "start_time": "2024-04-29T14:35:28.596Z"
   },
   {
    "duration": 286,
    "start_time": "2024-04-29T14:35:28.715Z"
   },
   {
    "duration": 10,
    "start_time": "2024-04-29T14:35:29.003Z"
   },
   {
    "duration": 119,
    "start_time": "2024-04-29T14:35:29.015Z"
   },
   {
    "duration": 192,
    "start_time": "2024-04-29T14:35:29.136Z"
   },
   {
    "duration": 10,
    "start_time": "2024-04-29T14:35:29.330Z"
   },
   {
    "duration": 142,
    "start_time": "2024-04-29T14:35:29.341Z"
   },
   {
    "duration": 255,
    "start_time": "2024-04-29T14:35:29.485Z"
   },
   {
    "duration": 306,
    "start_time": "2024-04-29T14:35:29.742Z"
   },
   {
    "duration": 27,
    "start_time": "2024-04-29T14:35:30.050Z"
   },
   {
    "duration": 151,
    "start_time": "2024-04-29T14:35:30.078Z"
   },
   {
    "duration": 145,
    "start_time": "2024-04-29T14:35:30.230Z"
   },
   {
    "duration": 140,
    "start_time": "2024-04-29T14:35:30.377Z"
   },
   {
    "duration": 233,
    "start_time": "2024-04-29T14:35:30.518Z"
   },
   {
    "duration": 29,
    "start_time": "2024-04-29T14:35:30.752Z"
   },
   {
    "duration": 154,
    "start_time": "2024-04-29T14:35:30.783Z"
   },
   {
    "duration": 438,
    "start_time": "2024-04-29T14:35:30.939Z"
   },
   {
    "duration": 13,
    "start_time": "2024-04-29T14:35:31.379Z"
   },
   {
    "duration": 33,
    "start_time": "2024-04-29T14:35:31.393Z"
   },
   {
    "duration": 50,
    "start_time": "2024-04-29T14:35:31.427Z"
   },
   {
    "duration": 22,
    "start_time": "2024-04-29T14:35:31.478Z"
   },
   {
    "duration": 156,
    "start_time": "2024-04-29T14:35:31.501Z"
   },
   {
    "duration": 581,
    "start_time": "2024-04-29T14:39:44.231Z"
   },
   {
    "duration": 97,
    "start_time": "2024-04-29T14:39:44.814Z"
   },
   {
    "duration": 21,
    "start_time": "2024-04-29T14:39:44.913Z"
   },
   {
    "duration": 66,
    "start_time": "2024-04-29T14:39:44.936Z"
   },
   {
    "duration": 74,
    "start_time": "2024-04-29T14:39:45.004Z"
   },
   {
    "duration": 2013,
    "start_time": "2024-04-29T14:39:45.079Z"
   },
   {
    "duration": 9,
    "start_time": "2024-04-29T14:39:47.093Z"
   },
   {
    "duration": 4,
    "start_time": "2024-04-29T14:39:47.104Z"
   },
   {
    "duration": 12,
    "start_time": "2024-04-29T14:39:47.109Z"
   },
   {
    "duration": 6,
    "start_time": "2024-04-29T14:39:47.123Z"
   },
   {
    "duration": 8,
    "start_time": "2024-04-29T14:39:47.130Z"
   },
   {
    "duration": 4,
    "start_time": "2024-04-29T14:39:47.140Z"
   },
   {
    "duration": 7,
    "start_time": "2024-04-29T14:39:47.145Z"
   },
   {
    "duration": 40,
    "start_time": "2024-04-29T14:39:47.153Z"
   },
   {
    "duration": 2,
    "start_time": "2024-04-29T14:39:47.195Z"
   },
   {
    "duration": 13,
    "start_time": "2024-04-29T14:39:47.199Z"
   },
   {
    "duration": 18,
    "start_time": "2024-04-29T14:39:47.213Z"
   },
   {
    "duration": 6,
    "start_time": "2024-04-29T14:39:47.232Z"
   },
   {
    "duration": 6,
    "start_time": "2024-04-29T14:39:47.239Z"
   },
   {
    "duration": 65,
    "start_time": "2024-04-29T14:39:47.246Z"
   },
   {
    "duration": 8,
    "start_time": "2024-04-29T14:39:47.313Z"
   },
   {
    "duration": 12,
    "start_time": "2024-04-29T14:39:47.322Z"
   },
   {
    "duration": 10,
    "start_time": "2024-04-29T14:39:47.335Z"
   },
   {
    "duration": 12,
    "start_time": "2024-04-29T14:39:47.346Z"
   },
   {
    "duration": 323,
    "start_time": "2024-04-29T14:39:47.365Z"
   },
   {
    "duration": 4,
    "start_time": "2024-04-29T14:39:47.690Z"
   },
   {
    "duration": 15,
    "start_time": "2024-04-29T14:39:47.696Z"
   },
   {
    "duration": 31,
    "start_time": "2024-04-29T14:39:47.715Z"
   },
   {
    "duration": 8,
    "start_time": "2024-04-29T14:39:47.747Z"
   },
   {
    "duration": 128,
    "start_time": "2024-04-29T14:39:47.756Z"
   },
   {
    "duration": 109,
    "start_time": "2024-04-29T14:39:47.885Z"
   },
   {
    "duration": 304,
    "start_time": "2024-04-29T14:39:47.995Z"
   },
   {
    "duration": 8,
    "start_time": "2024-04-29T14:39:48.300Z"
   },
   {
    "duration": 120,
    "start_time": "2024-04-29T14:39:48.309Z"
   },
   {
    "duration": 172,
    "start_time": "2024-04-29T14:39:48.430Z"
   },
   {
    "duration": 7,
    "start_time": "2024-04-29T14:39:48.604Z"
   },
   {
    "duration": 115,
    "start_time": "2024-04-29T14:39:48.613Z"
   },
   {
    "duration": 187,
    "start_time": "2024-04-29T14:39:48.730Z"
   },
   {
    "duration": 9,
    "start_time": "2024-04-29T14:39:48.919Z"
   },
   {
    "duration": 4,
    "start_time": "2024-04-29T14:39:48.929Z"
   },
   {
    "duration": 33,
    "start_time": "2024-04-29T14:39:48.935Z"
   },
   {
    "duration": 115,
    "start_time": "2024-04-29T14:39:48.971Z"
   },
   {
    "duration": 157,
    "start_time": "2024-04-29T14:39:49.088Z"
   },
   {
    "duration": 8,
    "start_time": "2024-04-29T14:39:49.246Z"
   },
   {
    "duration": 112,
    "start_time": "2024-04-29T14:39:49.255Z"
   },
   {
    "duration": 22,
    "start_time": "2024-04-29T14:39:49.369Z"
   },
   {
    "duration": 155,
    "start_time": "2024-04-29T14:39:49.392Z"
   },
   {
    "duration": 8,
    "start_time": "2024-04-29T14:39:49.549Z"
   },
   {
    "duration": 8,
    "start_time": "2024-04-29T14:39:49.565Z"
   },
   {
    "duration": 14,
    "start_time": "2024-04-29T14:39:49.575Z"
   },
   {
    "duration": 110,
    "start_time": "2024-04-29T14:39:49.590Z"
   },
   {
    "duration": 185,
    "start_time": "2024-04-29T14:39:49.701Z"
   },
   {
    "duration": 11,
    "start_time": "2024-04-29T14:39:49.888Z"
   },
   {
    "duration": 11,
    "start_time": "2024-04-29T14:39:49.900Z"
   },
   {
    "duration": 199,
    "start_time": "2024-04-29T14:39:49.912Z"
   },
   {
    "duration": 8,
    "start_time": "2024-04-29T14:39:50.112Z"
   },
   {
    "duration": 128,
    "start_time": "2024-04-29T14:39:50.121Z"
   },
   {
    "duration": 186,
    "start_time": "2024-04-29T14:39:50.251Z"
   },
   {
    "duration": 8,
    "start_time": "2024-04-29T14:39:50.438Z"
   },
   {
    "duration": 121,
    "start_time": "2024-04-29T14:39:50.447Z"
   },
   {
    "duration": 251,
    "start_time": "2024-04-29T14:39:50.571Z"
   },
   {
    "duration": 8,
    "start_time": "2024-04-29T14:39:50.823Z"
   },
   {
    "duration": 114,
    "start_time": "2024-04-29T14:39:50.832Z"
   },
   {
    "duration": 171,
    "start_time": "2024-04-29T14:39:50.948Z"
   },
   {
    "duration": 9,
    "start_time": "2024-04-29T14:39:51.120Z"
   },
   {
    "duration": 130,
    "start_time": "2024-04-29T14:39:51.130Z"
   },
   {
    "duration": 264,
    "start_time": "2024-04-29T14:39:51.262Z"
   },
   {
    "duration": 315,
    "start_time": "2024-04-29T14:39:51.527Z"
   },
   {
    "duration": 32,
    "start_time": "2024-04-29T14:39:51.843Z"
   },
   {
    "duration": 134,
    "start_time": "2024-04-29T14:39:51.877Z"
   },
   {
    "duration": 142,
    "start_time": "2024-04-29T14:39:52.012Z"
   },
   {
    "duration": 129,
    "start_time": "2024-04-29T14:39:52.156Z"
   },
   {
    "duration": 228,
    "start_time": "2024-04-29T14:39:52.286Z"
   },
   {
    "duration": 20,
    "start_time": "2024-04-29T14:39:52.515Z"
   },
   {
    "duration": 141,
    "start_time": "2024-04-29T14:39:52.536Z"
   },
   {
    "duration": 467,
    "start_time": "2024-04-29T14:39:52.679Z"
   },
   {
    "duration": 23,
    "start_time": "2024-04-29T14:39:53.148Z"
   },
   {
    "duration": 2,
    "start_time": "2024-04-29T14:39:53.173Z"
   },
   {
    "duration": 39,
    "start_time": "2024-04-29T14:39:53.176Z"
   },
   {
    "duration": 31,
    "start_time": "2024-04-29T14:39:53.216Z"
   },
   {
    "duration": 172,
    "start_time": "2024-04-29T14:39:53.248Z"
   },
   {
    "duration": 605,
    "start_time": "2024-04-29T14:43:46.903Z"
   },
   {
    "duration": 101,
    "start_time": "2024-04-29T14:43:47.510Z"
   },
   {
    "duration": 14,
    "start_time": "2024-04-29T14:43:47.613Z"
   },
   {
    "duration": 64,
    "start_time": "2024-04-29T14:43:47.629Z"
   },
   {
    "duration": 71,
    "start_time": "2024-04-29T14:43:47.695Z"
   },
   {
    "duration": 2096,
    "start_time": "2024-04-29T14:43:47.768Z"
   },
   {
    "duration": 14,
    "start_time": "2024-04-29T14:43:49.866Z"
   },
   {
    "duration": 4,
    "start_time": "2024-04-29T14:43:49.882Z"
   },
   {
    "duration": 16,
    "start_time": "2024-04-29T14:43:49.887Z"
   },
   {
    "duration": 4,
    "start_time": "2024-04-29T14:43:49.906Z"
   },
   {
    "duration": 8,
    "start_time": "2024-04-29T14:43:49.914Z"
   },
   {
    "duration": 7,
    "start_time": "2024-04-29T14:43:49.923Z"
   },
   {
    "duration": 20,
    "start_time": "2024-04-29T14:43:49.931Z"
   },
   {
    "duration": 34,
    "start_time": "2024-04-29T14:43:49.953Z"
   },
   {
    "duration": 7,
    "start_time": "2024-04-29T14:43:49.988Z"
   },
   {
    "duration": 18,
    "start_time": "2024-04-29T14:43:49.997Z"
   },
   {
    "duration": 22,
    "start_time": "2024-04-29T14:43:50.017Z"
   },
   {
    "duration": 6,
    "start_time": "2024-04-29T14:43:50.041Z"
   },
   {
    "duration": 10,
    "start_time": "2024-04-29T14:43:50.048Z"
   },
   {
    "duration": 57,
    "start_time": "2024-04-29T14:43:50.060Z"
   },
   {
    "duration": 6,
    "start_time": "2024-04-29T14:43:50.119Z"
   },
   {
    "duration": 6,
    "start_time": "2024-04-29T14:43:50.126Z"
   },
   {
    "duration": 12,
    "start_time": "2024-04-29T14:43:50.133Z"
   },
   {
    "duration": 11,
    "start_time": "2024-04-29T14:43:50.146Z"
   },
   {
    "duration": 347,
    "start_time": "2024-04-29T14:43:50.158Z"
   },
   {
    "duration": 4,
    "start_time": "2024-04-29T14:43:50.507Z"
   },
   {
    "duration": 4,
    "start_time": "2024-04-29T14:43:50.513Z"
   },
   {
    "duration": 22,
    "start_time": "2024-04-29T14:43:50.520Z"
   },
   {
    "duration": 29,
    "start_time": "2024-04-29T14:43:50.544Z"
   },
   {
    "duration": 127,
    "start_time": "2024-04-29T14:43:50.575Z"
   },
   {
    "duration": 132,
    "start_time": "2024-04-29T14:43:50.704Z"
   },
   {
    "duration": 299,
    "start_time": "2024-04-29T14:43:50.837Z"
   },
   {
    "duration": 9,
    "start_time": "2024-04-29T14:43:51.137Z"
   },
   {
    "duration": 123,
    "start_time": "2024-04-29T14:43:51.147Z"
   },
   {
    "duration": 170,
    "start_time": "2024-04-29T14:43:51.273Z"
   },
   {
    "duration": 8,
    "start_time": "2024-04-29T14:43:51.445Z"
   },
   {
    "duration": 122,
    "start_time": "2024-04-29T14:43:51.454Z"
   },
   {
    "duration": 179,
    "start_time": "2024-04-29T14:43:51.578Z"
   },
   {
    "duration": 16,
    "start_time": "2024-04-29T14:43:51.758Z"
   },
   {
    "duration": 4,
    "start_time": "2024-04-29T14:43:51.776Z"
   },
   {
    "duration": 8,
    "start_time": "2024-04-29T14:43:51.782Z"
   },
   {
    "duration": 132,
    "start_time": "2024-04-29T14:43:51.791Z"
   },
   {
    "duration": 180,
    "start_time": "2024-04-29T14:43:51.925Z"
   },
   {
    "duration": 7,
    "start_time": "2024-04-29T14:43:52.106Z"
   },
   {
    "duration": 108,
    "start_time": "2024-04-29T14:43:52.115Z"
   },
   {
    "duration": 18,
    "start_time": "2024-04-29T14:43:52.224Z"
   },
   {
    "duration": 166,
    "start_time": "2024-04-29T14:43:52.243Z"
   },
   {
    "duration": 8,
    "start_time": "2024-04-29T14:43:52.411Z"
   },
   {
    "duration": 28,
    "start_time": "2024-04-29T14:43:52.421Z"
   },
   {
    "duration": 15,
    "start_time": "2024-04-29T14:43:52.450Z"
   },
   {
    "duration": 101,
    "start_time": "2024-04-29T14:43:52.466Z"
   },
   {
    "duration": 171,
    "start_time": "2024-04-29T14:43:52.569Z"
   },
   {
    "duration": 8,
    "start_time": "2024-04-29T14:43:52.741Z"
   },
   {
    "duration": 23,
    "start_time": "2024-04-29T14:43:52.750Z"
   },
   {
    "duration": 194,
    "start_time": "2024-04-29T14:43:52.775Z"
   },
   {
    "duration": 10,
    "start_time": "2024-04-29T14:43:52.971Z"
   },
   {
    "duration": 118,
    "start_time": "2024-04-29T14:43:52.982Z"
   },
   {
    "duration": 181,
    "start_time": "2024-04-29T14:43:53.102Z"
   },
   {
    "duration": 8,
    "start_time": "2024-04-29T14:43:53.285Z"
   },
   {
    "duration": 124,
    "start_time": "2024-04-29T14:43:53.294Z"
   },
   {
    "duration": 271,
    "start_time": "2024-04-29T14:43:53.419Z"
   },
   {
    "duration": 11,
    "start_time": "2024-04-29T14:43:53.691Z"
   },
   {
    "duration": 175,
    "start_time": "2024-04-29T14:43:53.705Z"
   },
   {
    "duration": 187,
    "start_time": "2024-04-29T14:43:53.882Z"
   },
   {
    "duration": 9,
    "start_time": "2024-04-29T14:43:54.070Z"
   },
   {
    "duration": 133,
    "start_time": "2024-04-29T14:43:54.080Z"
   },
   {
    "duration": 268,
    "start_time": "2024-04-29T14:43:54.214Z"
   },
   {
    "duration": 315,
    "start_time": "2024-04-29T14:43:54.484Z"
   },
   {
    "duration": 20,
    "start_time": "2024-04-29T14:43:54.801Z"
   },
   {
    "duration": 156,
    "start_time": "2024-04-29T14:43:54.823Z"
   },
   {
    "duration": 165,
    "start_time": "2024-04-29T14:43:54.981Z"
   },
   {
    "duration": 142,
    "start_time": "2024-04-29T14:43:55.147Z"
   },
   {
    "duration": 232,
    "start_time": "2024-04-29T14:43:55.290Z"
   },
   {
    "duration": 21,
    "start_time": "2024-04-29T14:43:55.523Z"
   },
   {
    "duration": 138,
    "start_time": "2024-04-29T14:43:55.545Z"
   },
   {
    "duration": 425,
    "start_time": "2024-04-29T14:43:55.685Z"
   },
   {
    "duration": 13,
    "start_time": "2024-04-29T14:43:56.112Z"
   },
   {
    "duration": 3,
    "start_time": "2024-04-29T14:43:56.126Z"
   },
   {
    "duration": 11,
    "start_time": "2024-04-29T14:43:56.130Z"
   },
   {
    "duration": 3,
    "start_time": "2024-04-29T14:43:56.143Z"
   },
   {
    "duration": 180,
    "start_time": "2024-04-29T14:43:56.166Z"
   },
   {
    "duration": 185,
    "start_time": "2024-04-29T14:45:27.123Z"
   },
   {
    "duration": 135,
    "start_time": "2024-04-29T14:45:31.651Z"
   },
   {
    "duration": 130,
    "start_time": "2024-04-29T14:45:35.471Z"
   },
   {
    "duration": 208,
    "start_time": "2024-04-29T14:45:40.111Z"
   },
   {
    "duration": 19,
    "start_time": "2024-04-29T14:46:00.167Z"
   },
   {
    "duration": 127,
    "start_time": "2024-04-29T14:46:04.011Z"
   },
   {
    "duration": 8,
    "start_time": "2024-04-29T14:47:07.647Z"
   },
   {
    "duration": 5,
    "start_time": "2024-04-29T14:47:08.927Z"
   },
   {
    "duration": 128,
    "start_time": "2024-04-29T14:47:10.383Z"
   },
   {
    "duration": 657,
    "start_time": "2024-04-29T19:04:16.726Z"
   },
   {
    "duration": 108,
    "start_time": "2024-04-29T19:04:17.385Z"
   },
   {
    "duration": 16,
    "start_time": "2024-04-29T19:04:17.494Z"
   },
   {
    "duration": 63,
    "start_time": "2024-04-29T19:04:17.513Z"
   },
   {
    "duration": 69,
    "start_time": "2024-04-29T19:04:17.578Z"
   },
   {
    "duration": 2044,
    "start_time": "2024-04-29T19:04:17.649Z"
   },
   {
    "duration": 11,
    "start_time": "2024-04-29T19:04:19.695Z"
   },
   {
    "duration": 67,
    "start_time": "2024-04-29T19:04:19.707Z"
   },
   {
    "duration": 43,
    "start_time": "2024-04-29T19:04:19.776Z"
   },
   {
    "duration": 12,
    "start_time": "2024-04-29T19:04:19.822Z"
   },
   {
    "duration": 6,
    "start_time": "2024-04-29T19:04:19.836Z"
   },
   {
    "duration": 6,
    "start_time": "2024-04-29T19:04:19.844Z"
   },
   {
    "duration": 16,
    "start_time": "2024-04-29T19:04:19.852Z"
   },
   {
    "duration": 24,
    "start_time": "2024-04-29T19:04:19.870Z"
   },
   {
    "duration": 4,
    "start_time": "2024-04-29T19:04:19.895Z"
   },
   {
    "duration": 22,
    "start_time": "2024-04-29T19:04:19.900Z"
   },
   {
    "duration": 21,
    "start_time": "2024-04-29T19:04:19.923Z"
   },
   {
    "duration": 7,
    "start_time": "2024-04-29T19:04:19.945Z"
   },
   {
    "duration": 43,
    "start_time": "2024-04-29T19:04:19.953Z"
   },
   {
    "duration": 76,
    "start_time": "2024-04-29T19:04:19.997Z"
   },
   {
    "duration": 12,
    "start_time": "2024-04-29T19:04:20.075Z"
   },
   {
    "duration": 22,
    "start_time": "2024-04-29T19:04:20.088Z"
   },
   {
    "duration": 35,
    "start_time": "2024-04-29T19:04:20.111Z"
   },
   {
    "duration": 13,
    "start_time": "2024-04-29T19:04:20.148Z"
   },
   {
    "duration": 335,
    "start_time": "2024-04-29T19:04:20.163Z"
   },
   {
    "duration": 4,
    "start_time": "2024-04-29T19:04:20.500Z"
   },
   {
    "duration": 17,
    "start_time": "2024-04-29T19:04:20.506Z"
   },
   {
    "duration": 39,
    "start_time": "2024-04-29T19:04:20.527Z"
   },
   {
    "duration": 14,
    "start_time": "2024-04-29T19:04:20.568Z"
   },
   {
    "duration": 113,
    "start_time": "2024-04-29T19:04:20.583Z"
   },
   {
    "duration": 123,
    "start_time": "2024-04-29T19:04:20.698Z"
   },
   {
    "duration": 291,
    "start_time": "2024-04-29T19:04:20.822Z"
   },
   {
    "duration": 9,
    "start_time": "2024-04-29T19:04:21.114Z"
   },
   {
    "duration": 115,
    "start_time": "2024-04-29T19:04:21.124Z"
   },
   {
    "duration": 194,
    "start_time": "2024-04-29T19:04:21.240Z"
   },
   {
    "duration": 9,
    "start_time": "2024-04-29T19:04:21.435Z"
   },
   {
    "duration": 127,
    "start_time": "2024-04-29T19:04:21.445Z"
   },
   {
    "duration": 175,
    "start_time": "2024-04-29T19:04:21.573Z"
   },
   {
    "duration": 8,
    "start_time": "2024-04-29T19:04:21.750Z"
   },
   {
    "duration": 7,
    "start_time": "2024-04-29T19:04:21.760Z"
   },
   {
    "duration": 21,
    "start_time": "2024-04-29T19:04:21.768Z"
   },
   {
    "duration": 116,
    "start_time": "2024-04-29T19:04:21.791Z"
   },
   {
    "duration": 171,
    "start_time": "2024-04-29T19:04:21.908Z"
   },
   {
    "duration": 14,
    "start_time": "2024-04-29T19:04:22.080Z"
   },
   {
    "duration": 116,
    "start_time": "2024-04-29T19:04:22.096Z"
   },
   {
    "duration": 20,
    "start_time": "2024-04-29T19:04:22.213Z"
   },
   {
    "duration": 141,
    "start_time": "2024-04-29T19:04:22.234Z"
   },
   {
    "duration": 18,
    "start_time": "2024-04-29T19:04:22.376Z"
   },
   {
    "duration": 5,
    "start_time": "2024-04-29T19:04:22.396Z"
   },
   {
    "duration": 32,
    "start_time": "2024-04-29T19:04:22.402Z"
   },
   {
    "duration": 118,
    "start_time": "2024-04-29T19:04:22.435Z"
   },
   {
    "duration": 182,
    "start_time": "2024-04-29T19:04:22.554Z"
   },
   {
    "duration": 9,
    "start_time": "2024-04-29T19:04:22.737Z"
   },
   {
    "duration": 15,
    "start_time": "2024-04-29T19:04:22.748Z"
   },
   {
    "duration": 203,
    "start_time": "2024-04-29T19:04:22.765Z"
   },
   {
    "duration": 8,
    "start_time": "2024-04-29T19:04:22.970Z"
   },
   {
    "duration": 134,
    "start_time": "2024-04-29T19:04:22.979Z"
   },
   {
    "duration": 187,
    "start_time": "2024-04-29T19:04:23.114Z"
   },
   {
    "duration": 8,
    "start_time": "2024-04-29T19:04:23.303Z"
   },
   {
    "duration": 137,
    "start_time": "2024-04-29T19:04:23.313Z"
   },
   {
    "duration": 271,
    "start_time": "2024-04-29T19:04:23.452Z"
   },
   {
    "duration": 9,
    "start_time": "2024-04-29T19:04:23.725Z"
   },
   {
    "duration": 124,
    "start_time": "2024-04-29T19:04:23.736Z"
   },
   {
    "duration": 192,
    "start_time": "2024-04-29T19:04:23.862Z"
   },
   {
    "duration": 10,
    "start_time": "2024-04-29T19:04:24.056Z"
   },
   {
    "duration": 139,
    "start_time": "2024-04-29T19:04:24.067Z"
   },
   {
    "duration": 269,
    "start_time": "2024-04-29T19:04:24.207Z"
   },
   {
    "duration": 317,
    "start_time": "2024-04-29T19:04:24.478Z"
   },
   {
    "duration": 22,
    "start_time": "2024-04-29T19:04:24.797Z"
   },
   {
    "duration": 186,
    "start_time": "2024-04-29T19:04:24.820Z"
   },
   {
    "duration": 157,
    "start_time": "2024-04-29T19:04:25.008Z"
   },
   {
    "duration": 137,
    "start_time": "2024-04-29T19:04:25.167Z"
   },
   {
    "duration": 241,
    "start_time": "2024-04-29T19:04:25.305Z"
   },
   {
    "duration": 22,
    "start_time": "2024-04-29T19:04:25.548Z"
   },
   {
    "duration": 166,
    "start_time": "2024-04-29T19:04:25.571Z"
   },
   {
    "duration": 465,
    "start_time": "2024-04-29T19:04:25.738Z"
   },
   {
    "duration": 15,
    "start_time": "2024-04-29T19:04:26.205Z"
   },
   {
    "duration": 23,
    "start_time": "2024-04-29T19:04:26.221Z"
   },
   {
    "duration": 14,
    "start_time": "2024-04-29T19:04:26.246Z"
   },
   {
    "duration": 15,
    "start_time": "2024-04-29T19:04:26.262Z"
   },
   {
    "duration": 154,
    "start_time": "2024-04-29T19:04:26.278Z"
   },
   {
    "duration": 59,
    "start_time": "2024-04-29T21:09:00.455Z"
   },
   {
    "duration": 782,
    "start_time": "2024-04-29T21:09:06.709Z"
   },
   {
    "duration": 217,
    "start_time": "2024-04-29T21:09:07.493Z"
   },
   {
    "duration": 17,
    "start_time": "2024-04-29T21:09:07.712Z"
   },
   {
    "duration": 39,
    "start_time": "2024-04-29T21:09:07.731Z"
   },
   {
    "duration": 66,
    "start_time": "2024-04-29T21:09:07.772Z"
   },
   {
    "duration": 1932,
    "start_time": "2024-04-29T21:09:07.840Z"
   },
   {
    "duration": 9,
    "start_time": "2024-04-29T21:09:09.774Z"
   },
   {
    "duration": 9,
    "start_time": "2024-04-29T21:09:09.785Z"
   },
   {
    "duration": 19,
    "start_time": "2024-04-29T21:09:09.795Z"
   },
   {
    "duration": 13,
    "start_time": "2024-04-29T21:09:09.817Z"
   },
   {
    "duration": 9,
    "start_time": "2024-04-29T21:09:09.832Z"
   },
   {
    "duration": 7,
    "start_time": "2024-04-29T21:09:09.843Z"
   },
   {
    "duration": 9,
    "start_time": "2024-04-29T21:09:09.852Z"
   },
   {
    "duration": 21,
    "start_time": "2024-04-29T21:09:09.864Z"
   },
   {
    "duration": 3,
    "start_time": "2024-04-29T21:09:09.887Z"
   },
   {
    "duration": 20,
    "start_time": "2024-04-29T21:09:09.892Z"
   },
   {
    "duration": 19,
    "start_time": "2024-04-29T21:09:09.914Z"
   },
   {
    "duration": 6,
    "start_time": "2024-04-29T21:09:09.935Z"
   },
   {
    "duration": 27,
    "start_time": "2024-04-29T21:09:09.942Z"
   },
   {
    "duration": 46,
    "start_time": "2024-04-29T21:09:09.971Z"
   },
   {
    "duration": 7,
    "start_time": "2024-04-29T21:09:10.019Z"
   },
   {
    "duration": 6,
    "start_time": "2024-04-29T21:09:10.027Z"
   },
   {
    "duration": 39,
    "start_time": "2024-04-29T21:09:10.035Z"
   },
   {
    "duration": 16,
    "start_time": "2024-04-29T21:09:10.076Z"
   },
   {
    "duration": 363,
    "start_time": "2024-04-29T21:09:10.094Z"
   },
   {
    "duration": 6,
    "start_time": "2024-04-29T21:09:10.459Z"
   },
   {
    "duration": 4,
    "start_time": "2024-04-29T21:09:10.467Z"
   },
   {
    "duration": 24,
    "start_time": "2024-04-29T21:09:10.474Z"
   },
   {
    "duration": 8,
    "start_time": "2024-04-29T21:09:10.499Z"
   },
   {
    "duration": 125,
    "start_time": "2024-04-29T21:09:10.508Z"
   },
   {
    "duration": 116,
    "start_time": "2024-04-29T21:09:10.634Z"
   },
   {
    "duration": 263,
    "start_time": "2024-04-29T21:09:10.751Z"
   },
   {
    "duration": 8,
    "start_time": "2024-04-29T21:09:11.016Z"
   },
   {
    "duration": 110,
    "start_time": "2024-04-29T21:09:11.025Z"
   },
   {
    "duration": 166,
    "start_time": "2024-04-29T21:09:11.137Z"
   },
   {
    "duration": 9,
    "start_time": "2024-04-29T21:09:11.304Z"
   },
   {
    "duration": 120,
    "start_time": "2024-04-29T21:09:11.314Z"
   },
   {
    "duration": 184,
    "start_time": "2024-04-29T21:09:11.436Z"
   },
   {
    "duration": 10,
    "start_time": "2024-04-29T21:09:11.621Z"
   },
   {
    "duration": 3,
    "start_time": "2024-04-29T21:09:11.633Z"
   },
   {
    "duration": 33,
    "start_time": "2024-04-29T21:09:11.637Z"
   },
   {
    "duration": 129,
    "start_time": "2024-04-29T21:09:11.672Z"
   },
   {
    "duration": 168,
    "start_time": "2024-04-29T21:09:11.803Z"
   },
   {
    "duration": 8,
    "start_time": "2024-04-29T21:09:11.973Z"
   },
   {
    "duration": 123,
    "start_time": "2024-04-29T21:09:11.982Z"
   },
   {
    "duration": 19,
    "start_time": "2024-04-29T21:09:12.106Z"
   },
   {
    "duration": 140,
    "start_time": "2024-04-29T21:09:12.127Z"
   },
   {
    "duration": 8,
    "start_time": "2024-04-29T21:09:12.269Z"
   },
   {
    "duration": 4,
    "start_time": "2024-04-29T21:09:12.278Z"
   },
   {
    "duration": 13,
    "start_time": "2024-04-29T21:09:12.283Z"
   },
   {
    "duration": 117,
    "start_time": "2024-04-29T21:09:12.298Z"
   },
   {
    "duration": 163,
    "start_time": "2024-04-29T21:09:12.417Z"
   },
   {
    "duration": 8,
    "start_time": "2024-04-29T21:09:12.582Z"
   },
   {
    "duration": 12,
    "start_time": "2024-04-29T21:09:12.592Z"
   },
   {
    "duration": 184,
    "start_time": "2024-04-29T21:09:12.605Z"
   },
   {
    "duration": 8,
    "start_time": "2024-04-29T21:09:12.791Z"
   },
   {
    "duration": 120,
    "start_time": "2024-04-29T21:09:12.801Z"
   },
   {
    "duration": 191,
    "start_time": "2024-04-29T21:09:12.923Z"
   },
   {
    "duration": 10,
    "start_time": "2024-04-29T21:09:13.116Z"
   },
   {
    "duration": 139,
    "start_time": "2024-04-29T21:09:13.128Z"
   },
   {
    "duration": 263,
    "start_time": "2024-04-29T21:09:13.268Z"
   },
   {
    "duration": 10,
    "start_time": "2024-04-29T21:09:13.533Z"
   },
   {
    "duration": 110,
    "start_time": "2024-04-29T21:09:13.545Z"
   },
   {
    "duration": 178,
    "start_time": "2024-04-29T21:09:13.664Z"
   },
   {
    "duration": 8,
    "start_time": "2024-04-29T21:09:13.843Z"
   },
   {
    "duration": 120,
    "start_time": "2024-04-29T21:09:13.853Z"
   },
   {
    "duration": 243,
    "start_time": "2024-04-29T21:09:13.974Z"
   },
   {
    "duration": 315,
    "start_time": "2024-04-29T21:09:14.218Z"
   },
   {
    "duration": 19,
    "start_time": "2024-04-29T21:09:14.535Z"
   },
   {
    "duration": 131,
    "start_time": "2024-04-29T21:09:14.565Z"
   },
   {
    "duration": 155,
    "start_time": "2024-04-29T21:09:14.697Z"
   },
   {
    "duration": 130,
    "start_time": "2024-04-29T21:09:14.854Z"
   },
   {
    "duration": 218,
    "start_time": "2024-04-29T21:09:14.986Z"
   },
   {
    "duration": 22,
    "start_time": "2024-04-29T21:09:15.205Z"
   },
   {
    "duration": 146,
    "start_time": "2024-04-29T21:09:15.228Z"
   },
   {
    "duration": 459,
    "start_time": "2024-04-29T21:09:15.376Z"
   },
   {
    "duration": 28,
    "start_time": "2024-04-29T21:09:15.837Z"
   },
   {
    "duration": 2,
    "start_time": "2024-04-29T21:09:15.867Z"
   },
   {
    "duration": 19,
    "start_time": "2024-04-29T21:09:15.871Z"
   },
   {
    "duration": 4,
    "start_time": "2024-04-29T21:09:15.892Z"
   },
   {
    "duration": 154,
    "start_time": "2024-04-29T21:09:15.897Z"
   },
   {
    "duration": 28,
    "start_time": "2024-04-29T21:11:33.785Z"
   },
   {
    "duration": 206,
    "start_time": "2024-04-29T21:11:44.641Z"
   },
   {
    "duration": 152,
    "start_time": "2024-04-29T21:11:48.688Z"
   },
   {
    "duration": 142,
    "start_time": "2024-04-29T21:11:51.665Z"
   },
   {
    "duration": 204,
    "start_time": "2024-04-29T21:11:54.548Z"
   },
   {
    "duration": 21,
    "start_time": "2024-04-29T21:11:58.553Z"
   },
   {
    "duration": 133,
    "start_time": "2024-04-29T21:12:01.853Z"
   },
   {
    "duration": 435,
    "start_time": "2024-04-29T21:12:05.889Z"
   },
   {
    "duration": 14,
    "start_time": "2024-04-29T21:12:11.845Z"
   },
   {
    "duration": 52,
    "start_time": "2024-04-30T08:43:47.805Z"
   },
   {
    "duration": 946,
    "start_time": "2024-04-30T08:43:53.733Z"
   },
   {
    "duration": 232,
    "start_time": "2024-04-30T08:43:54.682Z"
   },
   {
    "duration": 18,
    "start_time": "2024-04-30T08:43:54.916Z"
   },
   {
    "duration": 42,
    "start_time": "2024-04-30T08:43:54.937Z"
   },
   {
    "duration": 88,
    "start_time": "2024-04-30T08:43:54.981Z"
   },
   {
    "duration": 2296,
    "start_time": "2024-04-30T08:43:55.070Z"
   },
   {
    "duration": 10,
    "start_time": "2024-04-30T08:43:57.368Z"
   },
   {
    "duration": 17,
    "start_time": "2024-04-30T08:43:57.379Z"
   },
   {
    "duration": 13,
    "start_time": "2024-04-30T08:43:57.398Z"
   },
   {
    "duration": 42,
    "start_time": "2024-04-30T08:43:57.414Z"
   },
   {
    "duration": 18,
    "start_time": "2024-04-30T08:43:57.458Z"
   },
   {
    "duration": 4,
    "start_time": "2024-04-30T08:43:57.478Z"
   },
   {
    "duration": 8,
    "start_time": "2024-04-30T08:43:57.484Z"
   },
   {
    "duration": 25,
    "start_time": "2024-04-30T08:43:57.493Z"
   },
   {
    "duration": 5,
    "start_time": "2024-04-30T08:43:57.520Z"
   },
   {
    "duration": 16,
    "start_time": "2024-04-30T08:43:57.526Z"
   },
   {
    "duration": 33,
    "start_time": "2024-04-30T08:43:57.543Z"
   },
   {
    "duration": 8,
    "start_time": "2024-04-30T08:43:57.578Z"
   },
   {
    "duration": 23,
    "start_time": "2024-04-30T08:43:57.588Z"
   },
   {
    "duration": 56,
    "start_time": "2024-04-30T08:43:57.613Z"
   },
   {
    "duration": 10,
    "start_time": "2024-04-30T08:43:57.671Z"
   },
   {
    "duration": 7,
    "start_time": "2024-04-30T08:43:57.683Z"
   },
   {
    "duration": 13,
    "start_time": "2024-04-30T08:43:57.691Z"
   },
   {
    "duration": 17,
    "start_time": "2024-04-30T08:43:57.705Z"
   },
   {
    "duration": 379,
    "start_time": "2024-04-30T08:43:57.724Z"
   },
   {
    "duration": 5,
    "start_time": "2024-04-30T08:43:58.105Z"
   },
   {
    "duration": 7,
    "start_time": "2024-04-30T08:43:58.112Z"
   },
   {
    "duration": 40,
    "start_time": "2024-04-30T08:43:58.123Z"
   },
   {
    "duration": 9,
    "start_time": "2024-04-30T08:43:58.165Z"
   },
   {
    "duration": 132,
    "start_time": "2024-04-30T08:43:58.176Z"
   },
   {
    "duration": 140,
    "start_time": "2024-04-30T08:43:58.310Z"
   },
   {
    "duration": 319,
    "start_time": "2024-04-30T08:43:58.452Z"
   },
   {
    "duration": 9,
    "start_time": "2024-04-30T08:43:58.773Z"
   },
   {
    "duration": 137,
    "start_time": "2024-04-30T08:43:58.784Z"
   },
   {
    "duration": 208,
    "start_time": "2024-04-30T08:43:58.922Z"
   },
   {
    "duration": 10,
    "start_time": "2024-04-30T08:43:59.132Z"
   },
   {
    "duration": 167,
    "start_time": "2024-04-30T08:43:59.144Z"
   },
   {
    "duration": 208,
    "start_time": "2024-04-30T08:43:59.313Z"
   },
   {
    "duration": 9,
    "start_time": "2024-04-30T08:43:59.522Z"
   },
   {
    "duration": 4,
    "start_time": "2024-04-30T08:43:59.532Z"
   },
   {
    "duration": 26,
    "start_time": "2024-04-30T08:43:59.538Z"
   },
   {
    "duration": 140,
    "start_time": "2024-04-30T08:43:59.566Z"
   },
   {
    "duration": 203,
    "start_time": "2024-04-30T08:43:59.708Z"
   },
   {
    "duration": 9,
    "start_time": "2024-04-30T08:43:59.913Z"
   },
   {
    "duration": 122,
    "start_time": "2024-04-30T08:43:59.923Z"
   },
   {
    "duration": 29,
    "start_time": "2024-04-30T08:44:00.047Z"
   },
   {
    "duration": 181,
    "start_time": "2024-04-30T08:44:00.077Z"
   },
   {
    "duration": 9,
    "start_time": "2024-04-30T08:44:00.261Z"
   },
   {
    "duration": 147,
    "start_time": "2024-04-30T08:44:00.272Z"
   },
   {
    "duration": 59,
    "start_time": "2024-04-30T08:44:00.420Z"
   },
   {
    "duration": 165,
    "start_time": "2024-04-30T08:44:00.480Z"
   },
   {
    "duration": 207,
    "start_time": "2024-04-30T08:44:00.647Z"
   },
   {
    "duration": 10,
    "start_time": "2024-04-30T08:44:00.861Z"
   },
   {
    "duration": 55,
    "start_time": "2024-04-30T08:44:00.872Z"
   },
   {
    "duration": 240,
    "start_time": "2024-04-30T08:44:00.929Z"
   },
   {
    "duration": 10,
    "start_time": "2024-04-30T08:44:01.171Z"
   },
   {
    "duration": 181,
    "start_time": "2024-04-30T08:44:01.182Z"
   },
   {
    "duration": 207,
    "start_time": "2024-04-30T08:44:01.364Z"
   },
   {
    "duration": 10,
    "start_time": "2024-04-30T08:44:01.573Z"
   },
   {
    "duration": 139,
    "start_time": "2024-04-30T08:44:01.584Z"
   },
   {
    "duration": 302,
    "start_time": "2024-04-30T08:44:01.725Z"
   },
   {
    "duration": 11,
    "start_time": "2024-04-30T08:44:02.029Z"
   },
   {
    "duration": 132,
    "start_time": "2024-04-30T08:44:02.042Z"
   },
   {
    "duration": 197,
    "start_time": "2024-04-30T08:44:02.176Z"
   },
   {
    "duration": 10,
    "start_time": "2024-04-30T08:44:02.375Z"
   },
   {
    "duration": 148,
    "start_time": "2024-04-30T08:44:02.387Z"
   },
   {
    "duration": 290,
    "start_time": "2024-04-30T08:44:02.537Z"
   },
   {
    "duration": 362,
    "start_time": "2024-04-30T08:44:02.829Z"
   },
   {
    "duration": 16,
    "start_time": "2024-04-30T08:44:03.193Z"
   },
   {
    "duration": 159,
    "start_time": "2024-04-30T08:44:03.211Z"
   },
   {
    "duration": 163,
    "start_time": "2024-04-30T08:44:03.371Z"
   },
   {
    "duration": 143,
    "start_time": "2024-04-30T08:44:03.536Z"
   },
   {
    "duration": 266,
    "start_time": "2024-04-30T08:44:03.681Z"
   },
   {
    "duration": 28,
    "start_time": "2024-04-30T08:44:03.949Z"
   },
   {
    "duration": 161,
    "start_time": "2024-04-30T08:44:03.978Z"
   },
   {
    "duration": 526,
    "start_time": "2024-04-30T08:44:04.141Z"
   },
   {
    "duration": 15,
    "start_time": "2024-04-30T08:44:04.669Z"
   },
   {
    "duration": 2,
    "start_time": "2024-04-30T08:44:04.685Z"
   },
   {
    "duration": 10,
    "start_time": "2024-04-30T08:44:04.689Z"
   },
   {
    "duration": 5,
    "start_time": "2024-04-30T08:44:04.701Z"
   },
   {
    "duration": 184,
    "start_time": "2024-04-30T08:44:04.708Z"
   },
   {
    "duration": 19,
    "start_time": "2024-04-30T08:50:05.280Z"
   },
   {
    "duration": 17,
    "start_time": "2024-04-30T08:50:16.439Z"
   },
   {
    "duration": 18,
    "start_time": "2024-04-30T08:53:13.283Z"
   },
   {
    "duration": 222,
    "start_time": "2024-04-30T09:00:55.065Z"
   },
   {
    "duration": 187,
    "start_time": "2024-04-30T09:00:58.176Z"
   },
   {
    "duration": 149,
    "start_time": "2024-04-30T09:01:00.749Z"
   },
   {
    "duration": 240,
    "start_time": "2024-04-30T09:01:08.860Z"
   },
   {
    "duration": 23,
    "start_time": "2024-04-30T09:01:24.780Z"
   },
   {
    "duration": 184,
    "start_time": "2024-04-30T09:01:26.961Z"
   },
   {
    "duration": 520,
    "start_time": "2024-04-30T09:01:33.152Z"
   },
   {
    "duration": 517,
    "start_time": "2024-04-30T09:01:50.520Z"
   },
   {
    "duration": 15,
    "start_time": "2024-04-30T09:10:10.526Z"
   },
   {
    "duration": 12,
    "start_time": "2024-04-30T09:10:15.686Z"
   },
   {
    "duration": 5,
    "start_time": "2024-04-30T09:10:17.134Z"
   },
   {
    "duration": 227,
    "start_time": "2024-04-30T09:10:18.139Z"
   },
   {
    "duration": 53,
    "start_time": "2024-04-30T14:14:53.813Z"
   },
   {
    "duration": 1075,
    "start_time": "2024-04-30T14:15:00.477Z"
   },
   {
    "duration": 321,
    "start_time": "2024-04-30T14:15:01.555Z"
   },
   {
    "duration": 36,
    "start_time": "2024-04-30T14:15:01.878Z"
   },
   {
    "duration": 160,
    "start_time": "2024-04-30T14:15:01.917Z"
   },
   {
    "duration": 101,
    "start_time": "2024-04-30T14:15:02.079Z"
   },
   {
    "duration": 2514,
    "start_time": "2024-04-30T14:15:02.182Z"
   },
   {
    "duration": 15,
    "start_time": "2024-04-30T14:15:04.700Z"
   },
   {
    "duration": 16,
    "start_time": "2024-04-30T14:15:04.716Z"
   },
   {
    "duration": 13,
    "start_time": "2024-04-30T14:15:04.734Z"
   },
   {
    "duration": 6,
    "start_time": "2024-04-30T14:15:04.751Z"
   },
   {
    "duration": 115,
    "start_time": "2024-04-30T14:15:04.759Z"
   },
   {
    "duration": 30,
    "start_time": "2024-04-30T14:15:04.876Z"
   },
   {
    "duration": 8,
    "start_time": "2024-04-30T14:15:04.908Z"
   },
   {
    "duration": 48,
    "start_time": "2024-04-30T14:15:04.918Z"
   },
   {
    "duration": 4,
    "start_time": "2024-04-30T14:15:04.968Z"
   },
   {
    "duration": 22,
    "start_time": "2024-04-30T14:15:04.973Z"
   },
   {
    "duration": 32,
    "start_time": "2024-04-30T14:15:04.996Z"
   },
   {
    "duration": 10,
    "start_time": "2024-04-30T14:15:05.030Z"
   },
   {
    "duration": 16,
    "start_time": "2024-04-30T14:15:05.042Z"
   },
   {
    "duration": 113,
    "start_time": "2024-04-30T14:15:05.060Z"
   },
   {
    "duration": 18,
    "start_time": "2024-04-30T14:15:05.175Z"
   },
   {
    "duration": 13,
    "start_time": "2024-04-30T14:15:05.202Z"
   },
   {
    "duration": 17,
    "start_time": "2024-04-30T14:15:05.217Z"
   },
   {
    "duration": 16,
    "start_time": "2024-04-30T14:15:05.237Z"
   },
   {
    "duration": 427,
    "start_time": "2024-04-30T14:15:05.255Z"
   },
   {
    "duration": 9,
    "start_time": "2024-04-30T14:15:05.683Z"
   },
   {
    "duration": 22,
    "start_time": "2024-04-30T14:15:05.695Z"
   },
   {
    "duration": 28,
    "start_time": "2024-04-30T14:15:05.721Z"
   },
   {
    "duration": 11,
    "start_time": "2024-04-30T14:15:05.751Z"
   },
   {
    "duration": 141,
    "start_time": "2024-04-30T14:15:05.764Z"
   },
   {
    "duration": 152,
    "start_time": "2024-04-30T14:15:05.908Z"
   },
   {
    "duration": 370,
    "start_time": "2024-04-30T14:15:06.062Z"
   },
   {
    "duration": 12,
    "start_time": "2024-04-30T14:15:06.435Z"
   },
   {
    "duration": 137,
    "start_time": "2024-04-30T14:15:06.448Z"
   },
   {
    "duration": 233,
    "start_time": "2024-04-30T14:15:06.587Z"
   },
   {
    "duration": 13,
    "start_time": "2024-04-30T14:15:06.821Z"
   },
   {
    "duration": 153,
    "start_time": "2024-04-30T14:15:06.836Z"
   },
   {
    "duration": 243,
    "start_time": "2024-04-30T14:15:06.991Z"
   },
   {
    "duration": 10,
    "start_time": "2024-04-30T14:15:07.236Z"
   },
   {
    "duration": 5,
    "start_time": "2024-04-30T14:15:07.248Z"
   },
   {
    "duration": 11,
    "start_time": "2024-04-30T14:15:07.255Z"
   },
   {
    "duration": 159,
    "start_time": "2024-04-30T14:15:07.267Z"
   },
   {
    "duration": 243,
    "start_time": "2024-04-30T14:15:07.428Z"
   },
   {
    "duration": 11,
    "start_time": "2024-04-30T14:15:07.672Z"
   },
   {
    "duration": 143,
    "start_time": "2024-04-30T14:15:07.691Z"
   },
   {
    "duration": 22,
    "start_time": "2024-04-30T14:15:07.836Z"
   },
   {
    "duration": 174,
    "start_time": "2024-04-30T14:15:07.859Z"
   },
   {
    "duration": 11,
    "start_time": "2024-04-30T14:15:08.035Z"
   },
   {
    "duration": 20,
    "start_time": "2024-04-30T14:15:08.047Z"
   },
   {
    "duration": 39,
    "start_time": "2024-04-30T14:15:08.068Z"
   },
   {
    "duration": 138,
    "start_time": "2024-04-30T14:15:08.112Z"
   },
   {
    "duration": 219,
    "start_time": "2024-04-30T14:15:08.252Z"
   },
   {
    "duration": 10,
    "start_time": "2024-04-30T14:15:08.473Z"
   },
   {
    "duration": 68,
    "start_time": "2024-04-30T14:15:08.493Z"
   },
   {
    "duration": 246,
    "start_time": "2024-04-30T14:15:08.563Z"
   },
   {
    "duration": 9,
    "start_time": "2024-04-30T14:15:08.811Z"
   },
   {
    "duration": 142,
    "start_time": "2024-04-30T14:15:08.821Z"
   },
   {
    "duration": 236,
    "start_time": "2024-04-30T14:15:08.965Z"
   },
   {
    "duration": 11,
    "start_time": "2024-04-30T14:15:09.208Z"
   },
   {
    "duration": 162,
    "start_time": "2024-04-30T14:15:09.220Z"
   },
   {
    "duration": 330,
    "start_time": "2024-04-30T14:15:09.384Z"
   },
   {
    "duration": 12,
    "start_time": "2024-04-30T14:15:09.716Z"
   },
   {
    "duration": 194,
    "start_time": "2024-04-30T14:15:09.730Z"
   },
   {
    "duration": 240,
    "start_time": "2024-04-30T14:15:09.926Z"
   },
   {
    "duration": 23,
    "start_time": "2024-04-30T14:15:10.168Z"
   },
   {
    "duration": 146,
    "start_time": "2024-04-30T14:15:10.194Z"
   },
   {
    "duration": 294,
    "start_time": "2024-04-30T14:15:10.341Z"
   },
   {
    "duration": 383,
    "start_time": "2024-04-30T14:15:10.636Z"
   },
   {
    "duration": 20,
    "start_time": "2024-04-30T14:15:11.021Z"
   },
   {
    "duration": 187,
    "start_time": "2024-04-30T14:15:11.042Z"
   },
   {
    "duration": 197,
    "start_time": "2024-04-30T14:15:11.231Z"
   },
   {
    "duration": 174,
    "start_time": "2024-04-30T14:15:11.430Z"
   },
   {
    "duration": 271,
    "start_time": "2024-04-30T14:15:11.606Z"
   },
   {
    "duration": 33,
    "start_time": "2024-04-30T14:15:11.879Z"
   },
   {
    "duration": 188,
    "start_time": "2024-04-30T14:15:11.913Z"
   },
   {
    "duration": 586,
    "start_time": "2024-04-30T14:15:12.102Z"
   },
   {
    "duration": 21,
    "start_time": "2024-04-30T14:15:12.693Z"
   },
   {
    "duration": 10,
    "start_time": "2024-04-30T14:15:12.716Z"
   },
   {
    "duration": 12,
    "start_time": "2024-04-30T14:15:12.728Z"
   },
   {
    "duration": 5,
    "start_time": "2024-04-30T14:15:12.743Z"
   },
   {
    "duration": 224,
    "start_time": "2024-04-30T14:15:12.750Z"
   },
   {
    "duration": 18,
    "start_time": "2024-04-30T14:17:00.937Z"
   },
   {
    "duration": 20,
    "start_time": "2024-04-30T14:17:19.773Z"
   },
   {
    "duration": 118,
    "start_time": "2024-04-30T14:26:13.981Z"
   },
   {
    "duration": 79,
    "start_time": "2024-04-30T14:27:46.948Z"
   },
   {
    "duration": 5,
    "start_time": "2024-04-30T14:28:52.145Z"
   },
   {
    "duration": 6,
    "start_time": "2024-04-30T14:30:57.709Z"
   },
   {
    "duration": 6,
    "start_time": "2024-04-30T14:31:21.519Z"
   },
   {
    "duration": 7,
    "start_time": "2024-04-30T14:32:08.249Z"
   },
   {
    "duration": 8,
    "start_time": "2024-04-30T14:34:12.549Z"
   },
   {
    "duration": 2,
    "start_time": "2024-04-30T14:34:33.637Z"
   },
   {
    "duration": 73,
    "start_time": "2024-04-30T14:36:53.445Z"
   },
   {
    "duration": 12,
    "start_time": "2024-04-30T14:37:20.981Z"
   },
   {
    "duration": 14,
    "start_time": "2024-04-30T14:37:41.141Z"
   },
   {
    "duration": 15,
    "start_time": "2024-04-30T14:37:49.445Z"
   },
   {
    "duration": 18,
    "start_time": "2024-04-30T14:39:22.149Z"
   },
   {
    "duration": 3,
    "start_time": "2024-04-30T14:39:47.321Z"
   },
   {
    "duration": 13,
    "start_time": "2024-04-30T14:40:18.672Z"
   },
   {
    "duration": 9,
    "start_time": "2024-04-30T14:40:21.085Z"
   },
   {
    "duration": 17,
    "start_time": "2024-04-30T14:44:04.300Z"
   },
   {
    "duration": 13,
    "start_time": "2024-04-30T14:45:53.093Z"
   },
   {
    "duration": 8,
    "start_time": "2024-04-30T14:45:54.797Z"
   },
   {
    "duration": 213,
    "start_time": "2024-04-30T14:46:03.705Z"
   },
   {
    "duration": 4,
    "start_time": "2024-04-30T14:51:16.921Z"
   },
   {
    "duration": 9,
    "start_time": "2024-04-30T14:51:51.554Z"
   },
   {
    "duration": 18,
    "start_time": "2024-04-30T14:51:57.650Z"
   },
   {
    "duration": 18,
    "start_time": "2024-04-30T14:52:20.818Z"
   },
   {
    "duration": 20,
    "start_time": "2024-04-30T14:52:55.745Z"
   },
   {
    "duration": 14,
    "start_time": "2024-04-30T14:53:40.758Z"
   },
   {
    "duration": 20,
    "start_time": "2024-04-30T14:53:57.249Z"
   },
   {
    "duration": 20,
    "start_time": "2024-04-30T14:54:21.842Z"
   },
   {
    "duration": 20,
    "start_time": "2024-04-30T14:54:29.185Z"
   },
   {
    "duration": 15,
    "start_time": "2024-04-30T14:58:03.577Z"
   },
   {
    "duration": 7,
    "start_time": "2024-04-30T14:58:07.605Z"
   },
   {
    "duration": 16,
    "start_time": "2024-04-30T14:58:09.897Z"
   },
   {
    "duration": 22,
    "start_time": "2024-04-30T15:01:16.147Z"
   },
   {
    "duration": 23,
    "start_time": "2024-04-30T15:02:18.533Z"
   },
   {
    "duration": 10,
    "start_time": "2024-04-30T15:05:09.457Z"
   },
   {
    "duration": 13,
    "start_time": "2024-04-30T15:05:46.382Z"
   },
   {
    "duration": 12,
    "start_time": "2024-04-30T15:06:55.153Z"
   },
   {
    "duration": 142,
    "start_time": "2024-04-30T15:07:22.809Z"
   },
   {
    "duration": 491,
    "start_time": "2024-04-30T15:07:36.157Z"
   },
   {
    "duration": 169,
    "start_time": "2024-04-30T15:07:48.895Z"
   },
   {
    "duration": 674,
    "start_time": "2024-04-30T15:54:11.936Z"
   },
   {
    "duration": 105,
    "start_time": "2024-04-30T15:54:12.612Z"
   },
   {
    "duration": 17,
    "start_time": "2024-04-30T15:54:12.719Z"
   },
   {
    "duration": 58,
    "start_time": "2024-04-30T15:54:12.739Z"
   },
   {
    "duration": 73,
    "start_time": "2024-04-30T15:54:12.799Z"
   },
   {
    "duration": 2232,
    "start_time": "2024-04-30T15:54:12.882Z"
   },
   {
    "duration": 11,
    "start_time": "2024-04-30T15:54:15.115Z"
   },
   {
    "duration": 59,
    "start_time": "2024-04-30T15:54:15.128Z"
   },
   {
    "duration": 26,
    "start_time": "2024-04-30T15:54:15.189Z"
   },
   {
    "duration": 15,
    "start_time": "2024-04-30T15:54:15.220Z"
   },
   {
    "duration": 48,
    "start_time": "2024-04-30T15:54:15.237Z"
   },
   {
    "duration": 14,
    "start_time": "2024-04-30T15:54:15.287Z"
   },
   {
    "duration": 6,
    "start_time": "2024-04-30T15:54:15.304Z"
   },
   {
    "duration": 71,
    "start_time": "2024-04-30T15:54:15.311Z"
   },
   {
    "duration": 4,
    "start_time": "2024-04-30T15:54:15.384Z"
   },
   {
    "duration": 19,
    "start_time": "2024-04-30T15:54:15.390Z"
   },
   {
    "duration": 77,
    "start_time": "2024-04-30T15:54:15.411Z"
   },
   {
    "duration": 7,
    "start_time": "2024-04-30T15:54:15.489Z"
   },
   {
    "duration": 12,
    "start_time": "2024-04-30T15:54:15.497Z"
   },
   {
    "duration": 107,
    "start_time": "2024-04-30T15:54:15.511Z"
   },
   {
    "duration": 62,
    "start_time": "2024-04-30T15:54:15.620Z"
   },
   {
    "duration": 6,
    "start_time": "2024-04-30T15:54:15.684Z"
   },
   {
    "duration": 7,
    "start_time": "2024-04-30T15:54:15.692Z"
   },
   {
    "duration": 18,
    "start_time": "2024-04-30T15:54:15.701Z"
   },
   {
    "duration": 771,
    "start_time": "2024-04-30T15:54:15.720Z"
   },
   {
    "duration": 5,
    "start_time": "2024-04-30T15:54:16.493Z"
   },
   {
    "duration": 12,
    "start_time": "2024-04-30T15:54:16.500Z"
   },
   {
    "duration": 76,
    "start_time": "2024-04-30T15:54:16.516Z"
   },
   {
    "duration": 9,
    "start_time": "2024-04-30T15:54:16.593Z"
   },
   {
    "duration": 178,
    "start_time": "2024-04-30T15:54:16.604Z"
   },
   {
    "duration": 130,
    "start_time": "2024-04-30T15:54:16.784Z"
   },
   {
    "duration": 312,
    "start_time": "2024-04-30T15:54:16.915Z"
   },
   {
    "duration": 9,
    "start_time": "2024-04-30T15:54:17.228Z"
   },
   {
    "duration": 127,
    "start_time": "2024-04-30T15:54:17.238Z"
   },
   {
    "duration": 212,
    "start_time": "2024-04-30T15:54:17.367Z"
   },
   {
    "duration": 13,
    "start_time": "2024-04-30T15:54:17.581Z"
   },
   {
    "duration": 134,
    "start_time": "2024-04-30T15:54:17.596Z"
   },
   {
    "duration": 206,
    "start_time": "2024-04-30T15:54:17.732Z"
   },
   {
    "duration": 10,
    "start_time": "2024-04-30T15:54:17.939Z"
   },
   {
    "duration": 11,
    "start_time": "2024-04-30T15:54:17.951Z"
   },
   {
    "duration": 20,
    "start_time": "2024-04-30T15:54:17.963Z"
   },
   {
    "duration": 136,
    "start_time": "2024-04-30T15:54:17.984Z"
   },
   {
    "duration": 178,
    "start_time": "2024-04-30T15:54:18.122Z"
   },
   {
    "duration": 10,
    "start_time": "2024-04-30T15:54:18.302Z"
   },
   {
    "duration": 123,
    "start_time": "2024-04-30T15:54:18.314Z"
   },
   {
    "duration": 21,
    "start_time": "2024-04-30T15:54:18.439Z"
   },
   {
    "duration": 152,
    "start_time": "2024-04-30T15:54:18.461Z"
   },
   {
    "duration": 9,
    "start_time": "2024-04-30T15:54:18.615Z"
   },
   {
    "duration": 5,
    "start_time": "2024-04-30T15:54:18.626Z"
   },
   {
    "duration": 9,
    "start_time": "2024-04-30T15:54:18.632Z"
   },
   {
    "duration": 131,
    "start_time": "2024-04-30T15:54:18.642Z"
   },
   {
    "duration": 180,
    "start_time": "2024-04-30T15:54:18.782Z"
   },
   {
    "duration": 20,
    "start_time": "2024-04-30T15:54:18.963Z"
   },
   {
    "duration": 9,
    "start_time": "2024-04-30T15:54:18.984Z"
   },
   {
    "duration": 229,
    "start_time": "2024-04-30T15:54:18.994Z"
   },
   {
    "duration": 9,
    "start_time": "2024-04-30T15:54:19.225Z"
   },
   {
    "duration": 164,
    "start_time": "2024-04-30T15:54:19.235Z"
   },
   {
    "duration": 221,
    "start_time": "2024-04-30T15:54:19.401Z"
   },
   {
    "duration": 19,
    "start_time": "2024-04-30T15:54:19.623Z"
   },
   {
    "duration": 147,
    "start_time": "2024-04-30T15:54:19.643Z"
   },
   {
    "duration": 303,
    "start_time": "2024-04-30T15:54:19.792Z"
   },
   {
    "duration": 9,
    "start_time": "2024-04-30T15:54:20.097Z"
   },
   {
    "duration": 126,
    "start_time": "2024-04-30T15:54:20.108Z"
   },
   {
    "duration": 187,
    "start_time": "2024-04-30T15:54:20.236Z"
   },
   {
    "duration": 9,
    "start_time": "2024-04-30T15:54:20.424Z"
   },
   {
    "duration": 140,
    "start_time": "2024-04-30T15:54:20.434Z"
   },
   {
    "duration": 285,
    "start_time": "2024-04-30T15:54:20.575Z"
   },
   {
    "duration": 352,
    "start_time": "2024-04-30T15:54:20.862Z"
   },
   {
    "duration": 9,
    "start_time": "2024-04-30T15:54:21.216Z"
   },
   {
    "duration": 14,
    "start_time": "2024-04-30T15:54:21.227Z"
   },
   {
    "duration": 172,
    "start_time": "2024-04-30T15:54:21.243Z"
   },
   {
    "duration": 167,
    "start_time": "2024-04-30T15:54:21.417Z"
   },
   {
    "duration": 154,
    "start_time": "2024-04-30T15:54:21.585Z"
   },
   {
    "duration": 255,
    "start_time": "2024-04-30T15:54:21.741Z"
   },
   {
    "duration": 23,
    "start_time": "2024-04-30T15:54:21.997Z"
   },
   {
    "duration": 152,
    "start_time": "2024-04-30T15:54:22.021Z"
   },
   {
    "duration": 532,
    "start_time": "2024-04-30T15:54:22.175Z"
   },
   {
    "duration": 15,
    "start_time": "2024-04-30T15:54:22.708Z"
   },
   {
    "duration": 3,
    "start_time": "2024-04-30T15:54:22.724Z"
   },
   {
    "duration": 10,
    "start_time": "2024-04-30T15:54:22.728Z"
   },
   {
    "duration": 6,
    "start_time": "2024-04-30T15:54:22.739Z"
   },
   {
    "duration": 194,
    "start_time": "2024-04-30T15:54:22.751Z"
   }
  ],
  "celltoolbar": "Необработанный формат ячейки",
  "kernelspec": {
   "display_name": "Python 3 (ipykernel)",
   "language": "python",
   "name": "python3"
  },
  "language_info": {
   "codemirror_mode": {
    "name": "ipython",
    "version": 3
   },
   "file_extension": ".py",
   "mimetype": "text/x-python",
   "name": "python",
   "nbconvert_exporter": "python",
   "pygments_lexer": "ipython3",
   "version": "3.11.5"
  },
  "toc": {
   "base_numbering": 1,
   "nav_menu": {
    "height": "133px",
    "width": "677px"
   },
   "number_sections": true,
   "sideBar": true,
   "skip_h1_title": true,
   "title_cell": "",
   "title_sidebar": "Contents",
   "toc_cell": false,
   "toc_position": {
    "height": "calc(100% - 180px)",
    "left": "10px",
    "top": "150px",
    "width": "331.797px"
   },
   "toc_section_display": true,
   "toc_window_display": true
  }
 },
 "nbformat": 4,
 "nbformat_minor": 5
}
